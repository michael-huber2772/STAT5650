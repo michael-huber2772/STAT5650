{
 "cells": [
  {
   "cell_type": "markdown",
   "metadata": {},
   "source": [
    "# Introduction\n",
    "\n",
    "## Notation and Simple Matrix Algebra\n",
    "$n$ = the number of distinct data points or observations in a sample.  \n",
    "$p$ = the number of variables that are available for use in making predictions.\n",
    "\n",
    "\"For example the Wage data set consists of 12 variables for 3,000 people, so we have $n = 3,000$ observations and $p = 12$ variables...\"  \n",
    "\n",
    "\"In general, we will let $x_{ij}$ represent the value of the $jth$ variable for the $ith$ observation, where $i = 1, 2, \\cdots, n$ and $j = 1, 2, \\cdots, p$. Throught this book, $i$ will be used to index the samples or observations (from 1 to $n$) and $j$ will be used to indest the variables (from 1 to $p$). We let $\\mathbf{X}$ denote a $n*p$ matrix whose $(i,j)th$ element is $x_{ij}$. That is,\"\n",
    "\n",
    "$$ \n",
    "x = \\begin{pmatrix} x_{11} & x_{12} & \\cdots & x_{1p} \\\\ \n",
    "                    x_{21} & x_{22} & \\cdots & x_{2p} \\\\ \n",
    "                    \\vdots & \\vdots & \\ddots & \\vdots \\\\ \n",
    "                    x_{n1} & x_{n2} & \\cdots & x_{np}\\\\  \n",
    "\\end{pmatrix}\n",
    "$$\n",
    "\n",
    "\"For readers who are unfamiliar with matrices, it is usefult to visualize $\\mathbf{X}$ as a spreadsheet of numbers with n rows and p columns.\" (pg. 10)"
   ]
  },
  {
   "cell_type": "markdown",
   "metadata": {},
   "source": [
    "Vectors by default are represented as columns but they can be representing a row or a column from a matrix.\n",
    "\n",
    "<b>A row from the matrix represented as a vector:</b>\n",
    "\n",
    "$$ x_i = \\begin{pmatrix} x_{i1} \\\\ x_{i2} \\\\ \\vdots \\\\ x_{ip} \\end{pmatrix}$$\n",
    "\n",
    "<b>A column from the matrix represented as a vectory:</b>\n",
    "\n",
    "$$ x_j = \\begin{pmatrix} x_{1j} \\\\ x_{2j} \\\\ \\vdots \\\\ x_{nj} \\end{pmatrix}$$"
   ]
  },
  {
   "cell_type": "markdown",
   "metadata": {},
   "source": [
    "Start end of page 10 start of page 11"
   ]
  }
 ],
 "metadata": {
  "kernelspec": {
   "display_name": "R",
   "language": "R",
   "name": "ir"
  },
  "language_info": {
   "codemirror_mode": "r",
   "file_extension": ".r",
   "mimetype": "text/x-r-source",
   "name": "R",
   "pygments_lexer": "r",
   "version": "3.6.1"
  }
 },
 "nbformat": 4,
 "nbformat_minor": 4
}
