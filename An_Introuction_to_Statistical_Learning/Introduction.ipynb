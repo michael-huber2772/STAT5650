{
 "cells": [
  {
   "cell_type": "markdown",
   "metadata": {},
   "source": [
    "# Introduction\n",
    "\n",
    "## Notation and Simple Matrix Algebra\n",
    "$n$ = the number of distinct data points or observations in a sample.  \n",
    "$p$ = the number of variables that are available for use in making predictions.\n",
    "\n",
    "\"For example the Wage data set consists of 12 variables for 3,000 people, so we have $n = 3,000$ observations and $p = 12$ variables...\"  \n",
    "\n",
    "\"In general, we will let $x_{ij}$ represent the value of the $jth$ variable for the $ith$ observation, where $i = 1, 2, \\cdots, n$ and $j = 1, 2, \\cdots, p$. Throught this book, $i$ will be used to index the samples or observations (from 1 to $n$) and $j$ will be used to indest the variables (from 1 to $p$). We let $\\mathbf{X}$ denote a $n*p$ matrix whose $(i,j)th$ element is $x_{ij}$. That is,\"\n",
    "\n",
    "$$ \n",
    "x = \\begin{pmatrix} x_{11} & x_{12} & \\cdots & x_{1p} \\\\ \n",
    "                    x_{21} & x_{22} & \\cdots & x_{2p} \\\\ \n",
    "                    \\vdots & \\vdots & \\ddots & \\vdots \\\\ \n",
    "                    x_{n1} & x_{n2} & \\cdots & x_{np}\\\\  \n",
    "\\end{pmatrix}\n",
    "$$\n",
    "\n",
    "\"For readers who are unfamiliar with matrices, it is usefult to visualize $\\mathbf{X}$ as a spreadsheet of numbers with n rows and p columns.\" (pg. 10)"
   ]
  },
  {
   "cell_type": "markdown",
   "metadata": {},
   "source": [
    "Vectors by default are represented as columns but they can be representing a row or a column from a matrix.\n",
    "\n",
    "<b>A row from the matrix represented as a vector:</b>\n",
    "\n",
    "$$ x_i = \\begin{pmatrix} x_{i1} \\\\ x_{i2} \\\\ \\vdots \\\\ x_{ip} \\end{pmatrix}$$\n",
    "\n",
    "<b>A column from the matrix represented as a vectory:</b>\n",
    "\n",
    "$$ x_j = \\begin{pmatrix} x_{1j} \\\\ x_{2j} \\\\ \\vdots \\\\ x_{nj} \\end{pmatrix}$$"
   ]
  },
  {
   "cell_type": "markdown",
   "metadata": {},
   "source": [
    "When you transpose a matrix it means that the $ij$ values switch places and become $ji$. So if you had a value that was on the 2nd row and the 3rd column. Then it would move to the 3rd row and the 2nd column.\n",
    "\n",
    "You denote that an item has been transposed by putting a capitl \"T\" in the superscript.\n",
    "\n",
    "So if we have a row from our matrix of values that we want to show in vector notation we would change it from this:\n",
    "\n",
    "$$ \\mathbf{X} = (x_1, x_2, \\cdots, x_p) $$ \n",
    "\n",
    "to this:\n",
    "\n",
    "$$ \\mathbf{X} = \\begin{pmatrix} x_{1}^T \\\\ x_{2}^T \\\\ \\vdots \\\\ x_{n}^T \\end{pmatrix}$$"
   ]
  },
  {
   "cell_type": "markdown",
   "metadata": {},
   "source": [
    "$\\mathbf{a}$ = this a represents a vector. A vector of length $n$ will always be denoted in lower case bold.  \n",
    "$a$ = this a also represents a vector. A feature vector of length $p$ will be denoted in lower case normal font.  \n",
    "$\\mathbf{A}$ = this represents a matrix. Matrices will be denoted using bold capitals such as $\\mathbf{A}$.  \n",
    "$A$ = This represents a random variable. Random variables will be denoted using capital normal font, regardless of their dimensions.\n"
   ]
  },
  {
   "cell_type": "markdown",
   "metadata": {},
   "source": [
    "Currently on Page 11 (location 25). Where it explains how to represent scalar values."
   ]
  },
  {
   "cell_type": "code",
   "execution_count": null,
   "metadata": {},
   "outputs": [],
   "source": []
  }
 ],
 "metadata": {
  "kernelspec": {
   "display_name": "R",
   "language": "R",
   "name": "ir"
  },
  "language_info": {
   "codemirror_mode": "r",
   "file_extension": ".r",
   "mimetype": "text/x-r-source",
   "name": "R",
   "pygments_lexer": "r",
   "version": "3.6.1"
  }
 },
 "nbformat": 4,
 "nbformat_minor": 4
}
