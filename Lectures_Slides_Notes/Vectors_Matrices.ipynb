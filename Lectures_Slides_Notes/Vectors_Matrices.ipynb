{
 "cells": [
  {
   "cell_type": "markdown",
   "metadata": {},
   "source": [
    "# STAT LEARNING AND DATA MINING 1\n",
    "## Vectors and Matrices"
   ]
  },
  {
   "cell_type": "markdown",
   "metadata": {},
   "source": [
    "### Definitions (Slides)\n",
    "$\\mathbf{x}$ is a vector, $ x = \\begin{pmatrix} x_1 \\\\ x_2 \\\\ \\vdots \\\\ \\vdots \\\\ x_n \\end{pmatrix}$ As in the textbook, $x^T = (x_1, x_2, \\cdots, X_n)$ "
   ]
  },
  {
   "cell_type": "code",
   "execution_count": null,
   "metadata": {},
   "outputs": [],
   "source": []
  }
 ],
 "metadata": {
  "kernelspec": {
   "display_name": "R",
   "language": "R",
   "name": "ir"
  },
  "language_info": {
   "codemirror_mode": "r",
   "file_extension": ".r",
   "mimetype": "text/x-r-source",
   "name": "R",
   "pygments_lexer": "r",
   "version": "3.6.1"
  }
 },
 "nbformat": 4,
 "nbformat_minor": 4
}
