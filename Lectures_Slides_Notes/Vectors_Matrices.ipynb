{
 "cells": [
  {
   "cell_type": "markdown",
   "metadata": {},
   "source": [
    "# STAT LEARNING AND DATA MINING 1\n",
    "## Vectors and Matrices"
   ]
  },
  {
   "cell_type": "markdown",
   "metadata": {},
   "source": [
    "### Definitions (Slide 1)\n",
    "$\\mathbf{x}$ is a vector, $ x = \\begin{pmatrix} x_1 \\\\ x_2 \\\\ \\vdots \\\\ \\vdots \\\\ x_n \\end{pmatrix}$ As in the textbook, $x^T = (x_1, x_2, \\cdots, X_n)$ "
   ]
  },
  {
   "cell_type": "markdown",
   "metadata": {},
   "source": [
    "### (Slide 3)\n",
    "In R the function length returns the number of elements in a vector\n",
    "+ What we are calling the dimension of the vector\n",
    "Usually we use the term lenght to mean something quite different\n",
    "Euclidean length $(x) = \\|x \\| = \\sqrt{\\sum_{i=1}^n x_{i}^2}$ = \"norm\" of $x$."
   ]
  },
  {
   "cell_type": "markdown",
   "metadata": {},
   "source": [
    "### (Slide 5)\n",
    "#### Dot products of vectors\n",
    "If $x$ and $y$ are vectors of the same dimension the dot (inner) product of $x$ and $y$ is given by\n",
    "\n",
    "$$\n",
    "x*y = \\sum_{i=1}^n x_i y_i\n",
    "$$\n",
    "\n",
    "If $x*y=0$ the vectors $x$ and $y$ are orthogonal.\n",
    "\n",
    "Definition of orthogonal from the internet:\n",
    "1. of or involving right angles, at right angles\n",
    "2. (Statistics)(of variates) statistically independent.\n",
    "3. In geometry, two Euclidean vectors are orthogonal if they are perpendicular, i.e., they form a right angle. Two vectors, x and y, in an inner product space, V, are orthogonal if their inner product is zero.\n"
   ]
  },
  {
   "cell_type": "code",
   "execution_count": null,
   "metadata": {},
   "outputs": [],
   "source": []
  }
 ],
 "metadata": {
  "kernelspec": {
   "display_name": "R",
   "language": "R",
   "name": "ir"
  },
  "language_info": {
   "codemirror_mode": "r",
   "file_extension": ".r",
   "mimetype": "text/x-r-source",
   "name": "R",
   "pygments_lexer": "r",
   "version": "3.6.1"
  }
 },
 "nbformat": 4,
 "nbformat_minor": 4
}
