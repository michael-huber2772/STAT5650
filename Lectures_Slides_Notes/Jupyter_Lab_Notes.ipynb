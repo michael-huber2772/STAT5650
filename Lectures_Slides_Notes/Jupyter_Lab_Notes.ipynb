{
 "cells": [
  {
   "cell_type": "markdown",
   "metadata": {},
   "source": [
    "# Jupyter Lab Notes"
   ]
  },
  {
   "cell_type": "markdown",
   "metadata": {},
   "source": [
    "## Exporting to PDF\n",
    "* you can click Commands on the left hand side bar of jupyter labs and scroll down to export PDF This will allow you to generate a PDF document but I haven't figured out how to get it to hide the code and just show you the output.\n",
    "* You can also open the anaconda command prompt and enter the following code.   \n",
    "`jupyter nbconvert path/to/your/ipynb --to=pdf --TemplateExporter.exclude_input=True`\n"
   ]
  },
  {
   "cell_type": "markdown",
   "metadata": {},
   "source": [
    "## Some Markdown Commands\n",
    "Make text ITALIC: *Italic*  \n",
    "Make text BOLD: **Bold**  \n",
    "List item as a bullet: dash and space -  \n",
    "List item as a number: Simple as number and dot 1.  \n",
    "Indenting text: Greater than and space >  \n",
    "Inline code span: Back quotation mark \" ` \"  \n",
    "Block of code: Triple back quotation marks \" ``` \"  \n",
    "Link a section: [Title of Section](#title-of-section)  \n",
    "Hyperlink: [Text](URL)  "
   ]
  },
  {
   "cell_type": "code",
   "execution_count": null,
   "metadata": {},
   "outputs": [],
   "source": []
  }
 ],
 "metadata": {
  "kernelspec": {
   "display_name": "R",
   "language": "R",
   "name": "ir"
  },
  "language_info": {
   "codemirror_mode": "r",
   "file_extension": ".r",
   "mimetype": "text/x-r-source",
   "name": "R",
   "pygments_lexer": "r",
   "version": "3.6.1"
  }
 },
 "nbformat": 4,
 "nbformat_minor": 4
}
