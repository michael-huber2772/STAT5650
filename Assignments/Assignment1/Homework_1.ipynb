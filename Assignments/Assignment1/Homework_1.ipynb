{
 "cells": [
  {
   "cell_type": "markdown",
   "metadata": {},
   "source": [
    "# Stat 5650\n",
    "## Statistical Learning and Data Mining I\n",
    "## Homework #1\n",
    "### Due: Wednesday, January 29.\n",
    "The purpose of this homework is to get you comfortable using R to carry out basic matrix and\n",
    "vector calculations.\n",
    "The turtle data contains measurements (length, width, height) on male and female turtles of the\n",
    "same species. If you are familiar with SAS but not R, you can check many of the calculations in\n",
    "SAS but please do the calculations in R.\n"
   ]
  },
  {
   "cell_type": "markdown",
   "metadata": {},
   "source": [
    "1. Graphically summarize the distributions of the three variables using boxplots, histograms,\n",
    "and normal quantile plots. Do the summaries for the combined data and for each gender of\n",
    "turtle.\n"
   ]
  },
  {
   "cell_type": "markdown",
   "metadata": {},
   "source": [
    "2. Compute the covariance matrices and the correlation matrices for the male and female turtles,\n",
    "and visually compare them. (Later we will determine how to formally compare covariance\n",
    "matrices and mean vectors for different groups.)"
   ]
  },
  {
   "cell_type": "markdown",
   "metadata": {},
   "source": [
    "3. For one of the genders, compute the matrix 𝑇𝑇 = 1\n",
    "𝑛𝑛−1 �𝒀𝒀𝑇𝑇𝒀𝒀 − 𝑛𝑛𝒚𝒚𝒚𝒚\n",
    "𝑇𝑇\n",
    "� and compare it with the\n",
    "covariance matrix you previously obtained."
   ]
  },
  {
   "cell_type": "markdown",
   "metadata": {},
   "source": [
    "4. For one of the covariance matrices, compute the eigenvalues and eigenvectors of the inverse\n",
    "of the covariance matrix. What is the relationship between the eigenvalues and eigenvectors\n",
    "of a covariance matrix and its inverse?"
   ]
  },
  {
   "cell_type": "markdown",
   "metadata": {},
   "source": [
    "5. Letting 𝒖𝒖1 denote the eigenvector corresponding to the largest eigenvector, 𝜆𝜆1 . Verify\n",
    "that 𝑺𝑺𝒖𝒖1 = 𝜆𝜆1𝒖𝒖1 and 𝒖𝒖1\n",
    "𝑇𝑇𝑺𝑺𝒖𝒖1 = 𝜆𝜆1."
   ]
  },
  {
   "cell_type": "markdown",
   "metadata": {},
   "source": [
    "6. The length, width, and height are all measured in the same units. Is there any reason we\n",
    "might prefer to use the correlation matrices over the covariance matrices if we were to carry\n",
    "out principal components analysis on these data?"
   ]
  },
  {
   "cell_type": "markdown",
   "metadata": {},
   "source": [
    "7. Compute the eigenvalues and eigenvectors for the covariance and the correlation matrix for\n",
    "one of the genders of turtle, and compare the eigenvectors. In each case, how many\n",
    "principal components would you recommend retaining?"
   ]
  },
  {
   "cell_type": "code",
   "execution_count": null,
   "metadata": {},
   "outputs": [],
   "source": []
  }
 ],
 "metadata": {
  "kernelspec": {
   "display_name": "R",
   "language": "R",
   "name": "ir"
  },
  "language_info": {
   "codemirror_mode": "r",
   "file_extension": ".r",
   "mimetype": "text/x-r-source",
   "name": "R",
   "pygments_lexer": "r",
   "version": "3.6.1"
  }
 },
 "nbformat": 4,
 "nbformat_minor": 4
}
