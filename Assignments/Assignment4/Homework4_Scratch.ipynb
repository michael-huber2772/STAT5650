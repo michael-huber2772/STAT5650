{
 "cells": [
  {
   "cell_type": "markdown",
   "metadata": {},
   "source": [
    "# B"
   ]
  },
  {
   "cell_type": "code",
   "execution_count": 1,
   "metadata": {},
   "outputs": [
    {
     "data": {
      "text/html": [
       "0.67232"
      ],
      "text/latex": [
       "0.67232"
      ],
      "text/markdown": [
       "0.67232"
      ],
      "text/plain": [
       "[1] 0.67232"
      ]
     },
     "metadata": {},
     "output_type": "display_data"
    }
   ],
   "source": [
    "n = 5\n",
    "1-(1-1/n)^n"
   ]
  },
  {
   "cell_type": "code",
   "execution_count": 2,
   "metadata": {},
   "outputs": [
    {
     "data": {
      "text/html": [
       "0.6513215599"
      ],
      "text/latex": [
       "0.6513215599"
      ],
      "text/markdown": [
       "0.6513215599"
      ],
      "text/plain": [
       "[1] 0.6513216"
      ]
     },
     "metadata": {},
     "output_type": "display_data"
    }
   ],
   "source": [
    "n = 10\n",
    "1-(1-1/n)^n"
   ]
  },
  {
   "cell_type": "code",
   "execution_count": 3,
   "metadata": {},
   "outputs": [
    {
     "data": {
      "text/html": [
       "0.633967658726771"
      ],
      "text/latex": [
       "0.633967658726771"
      ],
      "text/markdown": [
       "0.633967658726771"
      ],
      "text/plain": [
       "[1] 0.6339677"
      ]
     },
     "metadata": {},
     "output_type": "display_data"
    }
   ],
   "source": [
    "n = 100\n",
    "1-(1-1/n)^n"
   ]
  },
  {
   "cell_type": "code",
   "execution_count": 4,
   "metadata": {},
   "outputs": [
    {
     "data": {
      "text/html": [
       "0.632304575229036"
      ],
      "text/latex": [
       "0.632304575229036"
      ],
      "text/markdown": [
       "0.632304575229036"
      ],
      "text/plain": [
       "[1] 0.6323046"
      ]
     },
     "metadata": {},
     "output_type": "display_data"
    }
   ],
   "source": [
    "n = 1000\n",
    "1-(1-1/n)^n"
   ]
  },
  {
   "cell_type": "markdown",
   "metadata": {},
   "source": [
    "# 1 C"
   ]
  },
  {
   "cell_type": "markdown",
   "metadata": {},
   "source": [
    "Computing two very large values for n we see that the values always stay around 0.632"
   ]
  },
  {
   "cell_type": "code",
   "execution_count": 5,
   "metadata": {},
   "outputs": [
    {
     "data": {
      "text/html": [
       "0.632120562515925"
      ],
      "text/latex": [
       "0.632120562515925"
      ],
      "text/markdown": [
       "0.632120562515925"
      ],
      "text/plain": [
       "[1] 0.6321206"
      ]
     },
     "metadata": {},
     "output_type": "display_data"
    }
   ],
   "source": [
    "n = 100000000\n",
    "1-(1-1/n)^n"
   ]
  },
  {
   "cell_type": "code",
   "execution_count": 6,
   "metadata": {},
   "outputs": [
    {
     "data": {
      "text/html": [
       "0.632112420612874"
      ],
      "text/latex": [
       "0.632112420612874"
      ],
      "text/markdown": [
       "0.632112420612874"
      ],
      "text/plain": [
       "[1] 0.6321124"
      ]
     },
     "metadata": {},
     "output_type": "display_data"
    }
   ],
   "source": [
    "n = 500000000000\n",
    "1-(1-1/n)^n"
   ]
  },
  {
   "cell_type": "code",
   "execution_count": null,
   "metadata": {},
   "outputs": [],
   "source": []
  },
  {
   "cell_type": "code",
   "execution_count": null,
   "metadata": {},
   "outputs": [],
   "source": []
  },
  {
   "cell_type": "markdown",
   "metadata": {},
   "source": [
    "We also know from calculus that $lim$ as $ n \\to \\infty$ $(1+x/n)^n = e^x$. Which shows us that as n approaches infinity the value will always equal 0.632. Which matches what we have shown above for very large numbers of n.\n",
    "We can write this equation as $1-1/e = 0.632$ as $n \\to \\infty$"
   ]
  },
  {
   "cell_type": "markdown",
   "metadata": {},
   "source": [
    "# 1D"
   ]
  },
  {
   "cell_type": "markdown",
   "metadata": {},
   "source": [
    "The standard error of the observed number of observations can be figured out based on what we have calculated above.\n",
    "So we know that $ X=np$ then $P=X/n$ so $E[p] = E[X/n] = E[X]/n = n\\pi/n = \\pi \\approx 0.37$\n",
    "and\n",
    "$SE(p) = SE(X/n) = 1/n SE(X) = \\sqrt{\\pi(1-\\pi)/n}\\approx \\sqrt{0.37(1-0.37)/n}$\n",
    "\n",
    "So for the formula above where n = 1000 we get the following output"
   ]
  },
  {
   "cell_type": "code",
   "execution_count": 42,
   "metadata": {},
   "outputs": [
    {
     "data": {
      "text/html": [
       "0.0152676127799994"
      ],
      "text/latex": [
       "0.0152676127799994"
      ],
      "text/markdown": [
       "0.0152676127799994"
      ],
      "text/plain": [
       "[1] 0.01526761"
      ]
     },
     "metadata": {},
     "output_type": "display_data"
    }
   ],
   "source": [
    "n = 1000\n",
    "sqrt((0.37*(1-0.37))/n)"
   ]
  },
  {
   "cell_type": "markdown",
   "metadata": {},
   "source": [
    "# Question 2A"
   ]
  },
  {
   "cell_type": "code",
   "execution_count": 7,
   "metadata": {},
   "outputs": [
    {
     "name": "stderr",
     "output_type": "stream",
     "text": [
      "randomForest 4.6-14\n",
      "Type rfNews() to see new features/changes/bug fixes.\n",
      "Warning message:\n",
      "\"package 'verification' was built under R version 3.6.2\"Loading required package: fields\n",
      "Warning message:\n",
      "\"package 'fields' was built under R version 3.6.2\"Loading required package: spam\n",
      "Warning message:\n",
      "\"package 'spam' was built under R version 3.6.2\"Loading required package: dotCall64\n",
      "Warning message:\n",
      "\"package 'dotCall64' was built under R version 3.6.2\"Loading required package: grid\n",
      "Spam version 2.5-1 (2019-12-12) is loaded.\n",
      "Type 'help( Spam)' or 'demo( spam)' for a short introduction \n",
      "and overview of this package.\n",
      "Help for individual functions is also obtained by adding the\n",
      "suffix '.spam' to the function name, e.g. 'help( chol.spam)'.\n",
      "\n",
      "Attaching package: 'spam'\n",
      "\n",
      "The following objects are masked from 'package:base':\n",
      "\n",
      "    backsolve, forwardsolve\n",
      "\n",
      "Loading required package: maps\n",
      "Warning message:\n",
      "\"package 'maps' was built under R version 3.6.2\"See https://github.com/NCAR/Fields for\n",
      " an extensive vignette, other supplements and source code \n",
      "Loading required package: boot\n",
      "Loading required package: CircStats\n",
      "Warning message:\n",
      "\"package 'CircStats' was built under R version 3.6.2\"Loading required package: MASS\n",
      "Loading required package: dtw\n",
      "Warning message:\n",
      "\"package 'dtw' was built under R version 3.6.2\"Loading required package: proxy\n",
      "Warning message:\n",
      "\"package 'proxy' was built under R version 3.6.2\"\n",
      "Attaching package: 'proxy'\n",
      "\n",
      "The following object is masked from 'package:spam':\n",
      "\n",
      "    as.matrix\n",
      "\n",
      "The following objects are masked from 'package:stats':\n",
      "\n",
      "    as.dist, dist\n",
      "\n",
      "The following object is masked from 'package:base':\n",
      "\n",
      "    as.matrix\n",
      "\n",
      "Loaded dtw v1.21-3. See ?dtw for help, citation(\"dtw\") for use in publication.\n",
      "\n",
      "Warning message:\n",
      "\"package 'ada' was built under R version 3.6.3\"Loading required package: rpart\n",
      "Warning message:\n",
      "\"package 'gbm' was built under R version 3.6.3\"Loaded gbm 2.1.5\n",
      "Warning message:\n",
      "\"package 'caret' was built under R version 3.6.2\"Loading required package: lattice\n",
      "\n",
      "Attaching package: 'lattice'\n",
      "\n",
      "The following object is masked from 'package:boot':\n",
      "\n",
      "    melanoma\n",
      "\n",
      "Loading required package: ggplot2\n",
      "\n",
      "Attaching package: 'ggplot2'\n",
      "\n",
      "The following object is masked from 'package:randomForest':\n",
      "\n",
      "    margin\n",
      "\n",
      "Registered S3 method overwritten by 'pROC':\n",
      "  method    from        \n",
      "  lines.roc verification\n"
     ]
    }
   ],
   "source": [
    "library(randomForest)\n",
    "library(verification)\n",
    "library(ada)\n",
    "library(gbm)\n",
    "library(caret)"
   ]
  },
  {
   "cell_type": "code",
   "execution_count": 8,
   "metadata": {},
   "outputs": [],
   "source": [
    "LAQI = read.csv(\"../../Data/LAQI.csv\")\n",
    "pilotI = read.csv(\"../../Data/pilotI.csv\")"
   ]
  },
  {
   "cell_type": "code",
   "execution_count": 9,
   "metadata": {},
   "outputs": [],
   "source": [
    "kappa=function(x){\n",
    "      n=sum(x)\n",
    "      pobs=(x[1,1]+x[2,2])/n\n",
    "      pexp=(sum(x[1,])*sum(x[,1])+sum(x[2,])*sum(x[,2]))/n^2\n",
    "      kappa=(pobs-pexp)/(1-pexp)\n",
    "      t1=0\n",
    "      t2=0\n",
    "      t3=0\n",
    "      pii=x/n\n",
    "      pidot=apply(pii,1,sum)\n",
    "      pdotj=apply(pii,2,sum)\n",
    "      for(i in 1:2){\n",
    "            t1 = t1 + pii[i,i]*((1-pexp) - (1-pobs)*(pidot[i]+pdotj[i]))^2\n",
    "      }\n",
    "      t2 = pii[1,2]*(pdotj[1]+pidot[2])^2 + pii[2,1]*(pdotj[2] + pidot[1])^2\n",
    "      t3 = (pobs*pexp-2*pexp+pobs)^2\n",
    "      vhat = (t1 + t2*(1-pobs)^2 -t3)/(n*(1-pexp)^4)\n",
    "      se=sqrt(vhat)\n",
    "      return(c(kappa,se))\n",
    "}\n",
    "\n",
    "\n",
    "class.sum=function(truth,predicted){\n",
    "     xt=table(truth,round(predicted+0.000001))\n",
    "     pcc=round(100*sum(diag(xt))/sum(xt),2)\n",
    "     spec=round(100*xt[1,1]/sum(xt[1,]),2)\n",
    "     sens=round(100*xt[2,2]/sum(xt[2,]),2)\n",
    "     kap=round(kappa(xt)[1],4)\n",
    "     au=round(roc.area(truth,predicted)$A,4)\n",
    "     return(cbind(c(\"Percent Correctly Classified = \",\"Specificity = \",\"Sensitivity = \",\"Kappa =\",\"AUC= \"),c(pcc,spec,sens,kap,au)))\n",
    "     }"
   ]
  },
  {
   "cell_type": "code",
   "execution_count": 10,
   "metadata": {},
   "outputs": [
    {
     "data": {
      "text/html": [
       "<table>\n",
       "<thead><tr><th></th><th scope=col>0</th><th scope=col>1</th><th scope=col>class.error</th></tr></thead>\n",
       "<tbody>\n",
       "\t<tr><th scope=row>0</th><td>602       </td><td>51        </td><td>0.07810107</td></tr>\n",
       "\t<tr><th scope=row>1</th><td> 89       </td><td>98        </td><td>0.47593583</td></tr>\n",
       "</tbody>\n",
       "</table>\n"
      ],
      "text/latex": [
       "\\begin{tabular}{r|lll}\n",
       "  & 0 & 1 & class.error\\\\\n",
       "\\hline\n",
       "\t0 & 602        & 51         & 0.07810107\\\\\n",
       "\t1 &  89        & 98         & 0.47593583\\\\\n",
       "\\end{tabular}\n"
      ],
      "text/markdown": [
       "\n",
       "| <!--/--> | 0 | 1 | class.error |\n",
       "|---|---|---|---|\n",
       "| 0 | 602        | 51         | 0.07810107 |\n",
       "| 1 |  89        | 98         | 0.47593583 |\n",
       "\n"
      ],
      "text/plain": [
       "  0   1  class.error\n",
       "0 602 51 0.07810107 \n",
       "1  89 98 0.47593583 "
      ]
     },
     "metadata": {},
     "output_type": "display_data"
    },
    {
     "data": {
      "text/plain": [
       "   \n",
       "      0   1\n",
       "  0 602  51\n",
       "  1  89  98"
      ]
     },
     "metadata": {},
     "output_type": "display_data"
    }
   ],
   "source": [
    "lichenLO=subset(LAQI,select=c(LobaOreg,TransAspect,Elevation,Slope,ACONIF,PctConifCov,DegreeDays,\n",
    "                EvapoTransAve,EvapoTransDiff,MoistIndexAve,MoistIndexDiff,PrecipAve,PrecipDiff,\n",
    "                RelHumidAve,RelHumidDiff,TempAve,TempDiff,VapPressAve,VapPressDiff,PotGlobRadAve,\n",
    "                PotGlobRadDiff))\n",
    "\n",
    "set.seed(5341)\n",
    "\n",
    "Loreg.rf=randomForest(as.factor(LobaOreg)~ . ,data=lichenLO)\n",
    "\n",
    "Loreg.rf$confusion\n",
    "table(lichenLO$LobaOreg,predict(Loreg.rf,type=\"class\"))"
   ]
  },
  {
   "cell_type": "code",
   "execution_count": 11,
   "metadata": {},
   "outputs": [
    {
     "data": {
      "text/html": [
       "<table>\n",
       "<tbody>\n",
       "\t<tr><td>Percent Correctly Classified = </td><td>83.57                          </td></tr>\n",
       "\t<tr><td>Specificity =                  </td><td>92.19                          </td></tr>\n",
       "\t<tr><td>Sensitivity =                  </td><td>53.48                          </td></tr>\n",
       "\t<tr><td>Kappa =                        </td><td>0.4903                         </td></tr>\n",
       "\t<tr><td>AUC=                           </td><td>0.8852                         </td></tr>\n",
       "</tbody>\n",
       "</table>\n"
      ],
      "text/latex": [
       "\\begin{tabular}{r|ll}\n",
       "\t Percent Correctly Classified =  & 83.57                          \\\\\n",
       "\t Specificity =                   & 92.19                          \\\\\n",
       "\t Sensitivity =                   & 53.48                          \\\\\n",
       "\t Kappa =                         & 0.4903                         \\\\\n",
       "\t AUC=                            & 0.8852                         \\\\\n",
       "\\end{tabular}\n"
      ],
      "text/markdown": [
       "\n",
       "| Percent Correctly Classified =  | 83.57                           |\n",
       "| Specificity =                   | 92.19                           |\n",
       "| Sensitivity =                   | 53.48                           |\n",
       "| Kappa =                         | 0.4903                          |\n",
       "| AUC=                            | 0.8852                          |\n",
       "\n"
      ],
      "text/plain": [
       " [,1]                            [,2]  \n",
       " Percent Correctly Classified =  83.57 \n",
       " Specificity =                   92.19 \n",
       " Sensitivity =                   53.48 \n",
       " Kappa =                         0.4903\n",
       " AUC=                            0.8852"
      ]
     },
     "metadata": {},
     "output_type": "display_data"
    },
    {
     "data": {
      "text/plain": [
       "   Loreg.rf.xval.class\n",
       "      1   2\n",
       "  0 611  42\n",
       "  1  90  97"
      ]
     },
     "metadata": {},
     "output_type": "display_data"
    },
    {
     "data": {
      "text/html": [
       "<table>\n",
       "<tbody>\n",
       "\t<tr><td>Percent Correctly Classified = </td><td>84.4                           </td></tr>\n",
       "\t<tr><td>Specificity =                  </td><td>93.57                          </td></tr>\n",
       "\t<tr><td>Sensitivity =                  </td><td>52.41                          </td></tr>\n",
       "\t<tr><td>Kappa =                        </td><td>0.505                          </td></tr>\n",
       "\t<tr><td>AUC=                           </td><td>0.8871                         </td></tr>\n",
       "</tbody>\n",
       "</table>\n"
      ],
      "text/latex": [
       "\\begin{tabular}{r|ll}\n",
       "\t Percent Correctly Classified =  & 84.4                           \\\\\n",
       "\t Specificity =                   & 93.57                          \\\\\n",
       "\t Sensitivity =                   & 52.41                          \\\\\n",
       "\t Kappa =                         & 0.505                          \\\\\n",
       "\t AUC=                            & 0.8871                         \\\\\n",
       "\\end{tabular}\n"
      ],
      "text/markdown": [
       "\n",
       "| Percent Correctly Classified =  | 84.4                            |\n",
       "| Specificity =                   | 93.57                           |\n",
       "| Sensitivity =                   | 52.41                           |\n",
       "| Kappa =                         | 0.505                           |\n",
       "| AUC=                            | 0.8871                          |\n",
       "\n"
      ],
      "text/plain": [
       " [,1]                            [,2]  \n",
       " Percent Correctly Classified =  84.4  \n",
       " Specificity =                   93.57 \n",
       " Sensitivity =                   52.41 \n",
       " Kappa =                         0.505 \n",
       " AUC=                            0.8871"
      ]
     },
     "metadata": {},
     "output_type": "display_data"
    }
   ],
   "source": [
    "# RANDOM FORESTS\n",
    "\n",
    "class.sum(lichenLO$LobaOreg,predict(Loreg.rf,type=\"prob\")[,2])\n",
    "\n",
    "Loreg.rf.xval.class=rep(0,length=nrow(lichenLO))\n",
    "Loreg.rf.xval.prob=rep(0,length=nrow(lichenLO))\n",
    "xvs=rep(1:10,length=nrow(lichenLO))\n",
    "xvs=sample(xvs)\n",
    "for(i in 1:10){\n",
    "    train=lichenLO[xvs!=i,]\n",
    "    test=lichenLO[xvs==i,]\n",
    "    glub=randomForest(as.factor(LobaOreg)~ . , data=train)\n",
    "    Loreg.rf.xval.class[xvs==i]=predict(glub,test,type=\"response\")\n",
    "    Loreg.rf.xval.prob[xvs==i]=predict(glub,test,type=\"prob\")[,2]\n",
    "    }\n",
    "\n",
    "table(lichenLO$LobaOreg,Loreg.rf.xval.class)\n",
    "class.sum(lichenLO$LobaOreg,Loreg.rf.xval.prob)"
   ]
  },
  {
   "cell_type": "code",
   "execution_count": 12,
   "metadata": {},
   "outputs": [
    {
     "data": {
      "text/plain": [
       "   \n",
       "      0   1\n",
       "  0 200  20\n",
       "  1  25  55"
      ]
     },
     "metadata": {},
     "output_type": "display_data"
    },
    {
     "data": {
      "text/html": [
       "<table>\n",
       "<tbody>\n",
       "\t<tr><td>Percent Correctly Classified = </td><td>85                             </td></tr>\n",
       "\t<tr><td>Specificity =                  </td><td>90.91                          </td></tr>\n",
       "\t<tr><td>Sensitivity =                  </td><td>68.75                          </td></tr>\n",
       "\t<tr><td>Kappa =                        </td><td>0.6087                         </td></tr>\n",
       "\t<tr><td>AUC=                           </td><td>0.8701                         </td></tr>\n",
       "</tbody>\n",
       "</table>\n"
      ],
      "text/latex": [
       "\\begin{tabular}{r|ll}\n",
       "\t Percent Correctly Classified =  & 85                             \\\\\n",
       "\t Specificity =                   & 90.91                          \\\\\n",
       "\t Sensitivity =                   & 68.75                          \\\\\n",
       "\t Kappa =                         & 0.6087                         \\\\\n",
       "\t AUC=                            & 0.8701                         \\\\\n",
       "\\end{tabular}\n"
      ],
      "text/markdown": [
       "\n",
       "| Percent Correctly Classified =  | 85                              |\n",
       "| Specificity =                   | 90.91                           |\n",
       "| Sensitivity =                   | 68.75                           |\n",
       "| Kappa =                         | 0.6087                          |\n",
       "| AUC=                            | 0.8701                          |\n",
       "\n"
      ],
      "text/plain": [
       " [,1]                            [,2]  \n",
       " Percent Correctly Classified =  85    \n",
       " Specificity =                   90.91 \n",
       " Sensitivity =                   68.75 \n",
       " Kappa =                         0.6087\n",
       " AUC=                            0.8701"
      ]
     },
     "metadata": {},
     "output_type": "display_data"
    }
   ],
   "source": [
    "table(pilotI$LobaOreg,predict(Loreg.rf,pilotI,type=\"response\"))\n",
    "class.sum(pilotI$LobaOreg,predict(Loreg.rf,pilotI,type=\"prob\")[,2])"
   ]
  },
  {
   "cell_type": "code",
   "execution_count": 13,
   "metadata": {},
   "outputs": [
    {
     "data": {
      "image/png": "[encoded data removed]",
      "text/plain": [
       "plot without title"
      ]
     },
     "metadata": {},
     "output_type": "display_data"
    }
   ],
   "source": [
    "set.seed(5341)\n",
    "\n",
    "Loreg.rf=randomForest(as.factor(LobaOreg)~ . ,importance=TRUE,data=lichenLO)\n",
    "varImpPlot(Loreg.rf,scale=FALSE)"
   ]
  },
  {
   "cell_type": "code",
   "execution_count": 14,
   "metadata": {},
   "outputs": [
    {
     "data": {
      "image/png": "[encoded data removed]",
      "text/plain": [
       "Plot with title \"Partial Dependence on PrecipAve\""
      ]
     },
     "metadata": {},
     "output_type": "display_data"
    }
   ],
   "source": [
    "set.seed(5341)\n",
    "\n",
    "Loreg.rf=randomForest(as.factor(LobaOreg)~ . ,importance=TRUE,keep.forest=TRUE,data=lichenLO)\n",
    "par(mfrow=c(2,2))\n",
    "partialPlot(Loreg.rf,lichenLO,ACONIF,which.class=1)\n",
    "partialPlot(Loreg.rf,lichenLO,Elevation,which.class=1)\n",
    "partialPlot(Loreg.rf,lichenLO,TempAve,which.class=1)\n",
    "partialPlot(Loreg.rf,lichenLO,PrecipAve,which.class=1)"
   ]
  },
  {
   "cell_type": "markdown",
   "metadata": {},
   "source": [
    "# Question 2 A"
   ]
  },
  {
   "cell_type": "code",
   "execution_count": 15,
   "metadata": {},
   "outputs": [],
   "source": [
    "glass <- read.csv(\"../../Data/Glass.csv\")"
   ]
  },
  {
   "cell_type": "code",
   "execution_count": 16,
   "metadata": {},
   "outputs": [
    {
     "data": {
      "text/html": [
       "<table>\n",
       "<thead><tr><th scope=col>Refindex</th><th scope=col>Sodium</th><th scope=col>Magnesium</th><th scope=col>Aluminum</th><th scope=col>Silicon</th><th scope=col>Potassium</th><th scope=col>Calcium</th><th scope=col>Barium</th><th scope=col>Iron</th><th scope=col>GlassType</th></tr></thead>\n",
       "<tbody>\n",
       "\t<tr><td>1.52101</td><td>13.64  </td><td>4.49   </td><td>1.10   </td><td>71.78  </td><td>0.06   </td><td>8.75   </td><td>0      </td><td>0.00   </td><td>1      </td></tr>\n",
       "\t<tr><td>1.51761</td><td>13.89  </td><td>3.60   </td><td>1.36   </td><td>72.73  </td><td>0.48   </td><td>7.83   </td><td>0      </td><td>0.00   </td><td>1      </td></tr>\n",
       "\t<tr><td>1.51618</td><td>13.53  </td><td>3.55   </td><td>1.54   </td><td>72.99  </td><td>0.39   </td><td>7.78   </td><td>0      </td><td>0.00   </td><td>1      </td></tr>\n",
       "\t<tr><td>1.51766</td><td>13.21  </td><td>3.69   </td><td>1.29   </td><td>72.61  </td><td>0.57   </td><td>8.22   </td><td>0      </td><td>0.00   </td><td>1      </td></tr>\n",
       "\t<tr><td>1.51742</td><td>13.27  </td><td>3.62   </td><td>1.24   </td><td>73.08  </td><td>0.55   </td><td>8.07   </td><td>0      </td><td>0.00   </td><td>1      </td></tr>\n",
       "\t<tr><td>1.51596</td><td>12.79  </td><td>3.61   </td><td>1.62   </td><td>72.97  </td><td>0.64   </td><td>8.07   </td><td>0      </td><td>0.26   </td><td>1      </td></tr>\n",
       "</tbody>\n",
       "</table>\n"
      ],
      "text/latex": [
       "\\begin{tabular}{r|llllllllll}\n",
       " Refindex & Sodium & Magnesium & Aluminum & Silicon & Potassium & Calcium & Barium & Iron & GlassType\\\\\n",
       "\\hline\n",
       "\t 1.52101 & 13.64   & 4.49    & 1.10    & 71.78   & 0.06    & 8.75    & 0       & 0.00    & 1      \\\\\n",
       "\t 1.51761 & 13.89   & 3.60    & 1.36    & 72.73   & 0.48    & 7.83    & 0       & 0.00    & 1      \\\\\n",
       "\t 1.51618 & 13.53   & 3.55    & 1.54    & 72.99   & 0.39    & 7.78    & 0       & 0.00    & 1      \\\\\n",
       "\t 1.51766 & 13.21   & 3.69    & 1.29    & 72.61   & 0.57    & 8.22    & 0       & 0.00    & 1      \\\\\n",
       "\t 1.51742 & 13.27   & 3.62    & 1.24    & 73.08   & 0.55    & 8.07    & 0       & 0.00    & 1      \\\\\n",
       "\t 1.51596 & 12.79   & 3.61    & 1.62    & 72.97   & 0.64    & 8.07    & 0       & 0.26    & 1      \\\\\n",
       "\\end{tabular}\n"
      ],
      "text/markdown": [
       "\n",
       "| Refindex | Sodium | Magnesium | Aluminum | Silicon | Potassium | Calcium | Barium | Iron | GlassType |\n",
       "|---|---|---|---|---|---|---|---|---|---|\n",
       "| 1.52101 | 13.64   | 4.49    | 1.10    | 71.78   | 0.06    | 8.75    | 0       | 0.00    | 1       |\n",
       "| 1.51761 | 13.89   | 3.60    | 1.36    | 72.73   | 0.48    | 7.83    | 0       | 0.00    | 1       |\n",
       "| 1.51618 | 13.53   | 3.55    | 1.54    | 72.99   | 0.39    | 7.78    | 0       | 0.00    | 1       |\n",
       "| 1.51766 | 13.21   | 3.69    | 1.29    | 72.61   | 0.57    | 8.22    | 0       | 0.00    | 1       |\n",
       "| 1.51742 | 13.27   | 3.62    | 1.24    | 73.08   | 0.55    | 8.07    | 0       | 0.00    | 1       |\n",
       "| 1.51596 | 12.79   | 3.61    | 1.62    | 72.97   | 0.64    | 8.07    | 0       | 0.26    | 1       |\n",
       "\n"
      ],
      "text/plain": [
       "  Refindex Sodium Magnesium Aluminum Silicon Potassium Calcium Barium Iron\n",
       "1 1.52101  13.64  4.49      1.10     71.78   0.06      8.75    0      0.00\n",
       "2 1.51761  13.89  3.60      1.36     72.73   0.48      7.83    0      0.00\n",
       "3 1.51618  13.53  3.55      1.54     72.99   0.39      7.78    0      0.00\n",
       "4 1.51766  13.21  3.69      1.29     72.61   0.57      8.22    0      0.00\n",
       "5 1.51742  13.27  3.62      1.24     73.08   0.55      8.07    0      0.00\n",
       "6 1.51596  12.79  3.61      1.62     72.97   0.64      8.07    0      0.26\n",
       "  GlassType\n",
       "1 1        \n",
       "2 1        \n",
       "3 1        \n",
       "4 1        \n",
       "5 1        \n",
       "6 1        "
      ]
     },
     "metadata": {},
     "output_type": "display_data"
    }
   ],
   "source": [
    "head(glass)"
   ]
  },
  {
   "cell_type": "code",
   "execution_count": 17,
   "metadata": {},
   "outputs": [
    {
     "data": {
      "text/html": [
       "<table>\n",
       "<thead><tr><th scope=col>1</th><th scope=col>2</th><th scope=col>3</th><th scope=col>4</th><th scope=col>5</th><th scope=col>6</th><th scope=col>class.error</th></tr></thead>\n",
       "<tbody>\n",
       "\t<tr><td>61       </td><td> 6       </td><td>3        </td><td> 0       </td><td>0        </td><td> 0       </td><td>0.1285714</td></tr>\n",
       "\t<tr><td>10       </td><td>61       </td><td>1        </td><td> 1       </td><td>2        </td><td> 1       </td><td>0.1973684</td></tr>\n",
       "\t<tr><td> 7       </td><td> 4       </td><td>6        </td><td> 0       </td><td>0        </td><td> 0       </td><td>0.6470588</td></tr>\n",
       "\t<tr><td> 0       </td><td> 2       </td><td>0        </td><td>10       </td><td>0        </td><td> 1       </td><td>0.2307692</td></tr>\n",
       "\t<tr><td> 0       </td><td> 2       </td><td>0        </td><td> 0       </td><td>7        </td><td> 0       </td><td>0.2222222</td></tr>\n",
       "\t<tr><td> 1       </td><td> 2       </td><td>0        </td><td> 0       </td><td>0        </td><td>26       </td><td>0.1034483</td></tr>\n",
       "</tbody>\n",
       "</table>\n"
      ],
      "text/latex": [
       "\\begin{tabular}{r|lllllll}\n",
       " 1 & 2 & 3 & 4 & 5 & 6 & class.error\\\\\n",
       "\\hline\n",
       "\t 61        &  6        & 3         &  0        & 0         &  0        & 0.1285714\\\\\n",
       "\t 10        & 61        & 1         &  1        & 2         &  1        & 0.1973684\\\\\n",
       "\t  7        &  4        & 6         &  0        & 0         &  0        & 0.6470588\\\\\n",
       "\t  0        &  2        & 0         & 10        & 0         &  1        & 0.2307692\\\\\n",
       "\t  0        &  2        & 0         &  0        & 7         &  0        & 0.2222222\\\\\n",
       "\t  1        &  2        & 0         &  0        & 0         & 26        & 0.1034483\\\\\n",
       "\\end{tabular}\n"
      ],
      "text/markdown": [
       "\n",
       "| 1 | 2 | 3 | 4 | 5 | 6 | class.error |\n",
       "|---|---|---|---|---|---|---|\n",
       "| 61        |  6        | 3         |  0        | 0         |  0        | 0.1285714 |\n",
       "| 10        | 61        | 1         |  1        | 2         |  1        | 0.1973684 |\n",
       "|  7        |  4        | 6         |  0        | 0         |  0        | 0.6470588 |\n",
       "|  0        |  2        | 0         | 10        | 0         |  1        | 0.2307692 |\n",
       "|  0        |  2        | 0         |  0        | 7         |  0        | 0.2222222 |\n",
       "|  1        |  2        | 0         |  0        | 0         | 26        | 0.1034483 |\n",
       "\n"
      ],
      "text/plain": [
       "  1  2  3 4  5 6  class.error\n",
       "1 61  6 3  0 0  0 0.1285714  \n",
       "2 10 61 1  1 2  1 0.1973684  \n",
       "3  7  4 6  0 0  0 0.6470588  \n",
       "4  0  2 0 10 0  1 0.2307692  \n",
       "5  0  2 0  0 7  0 0.2222222  \n",
       "6  1  2 0  0 0 26 0.1034483  "
      ]
     },
     "metadata": {},
     "output_type": "display_data"
    },
    {
     "data": {
      "text/plain": [
       "      Predicted\n",
       "Actual  1  2  3  4  5  6\n",
       "     1 61  6  3  0  0  0\n",
       "     2 10 61  1  1  2  1\n",
       "     3  7  4  6  0  0  0\n",
       "     4  0  2  0 10  0  1\n",
       "     5  0  2  0  0  7  0\n",
       "     6  1  2  0  0  0 26"
      ]
     },
     "metadata": {},
     "output_type": "display_data"
    },
    {
     "name": "stdout",
     "output_type": "stream",
     "text": [
      "[1] \"Accuracy:\"\n"
     ]
    },
    {
     "data": {
      "text/html": [
       "79.3395098450772"
      ],
      "text/latex": [
       "79.3395098450772"
      ],
      "text/markdown": [
       "79.3395098450772"
      ],
      "text/plain": [
       "[1] 79.33951"
      ]
     },
     "metadata": {},
     "output_type": "display_data"
    }
   ],
   "source": [
    "set.seed(5341)\n",
    "Glass.rf=randomForest(as.factor(GlassType) ~ . ,importance=TRUE,data=glass)\n",
    "\n",
    "glass.rf.confusion = Glass.rf$confusion\n",
    "glass.rf.confusion\n",
    "table(Actual = glass$GlassType, Predicted = predict(Glass.rf,type=\"class\"))\n",
    "print(\"Accuracy:\")\n",
    "100*sum(diag(glass.rf.confusion))/sum(glass.rf.confusion)"
   ]
  },
  {
   "cell_type": "code",
   "execution_count": 18,
   "metadata": {},
   "outputs": [
    {
     "data": {
      "text/html": [
       "<table>\n",
       "<thead><tr><th scope=col>1</th><th scope=col>2</th><th scope=col>3</th><th scope=col>4</th><th scope=col>5</th><th scope=col>6</th><th scope=col>class.error</th></tr></thead>\n",
       "<tbody>\n",
       "\t<tr><td>61       </td><td> 6       </td><td>3        </td><td> 0       </td><td>0        </td><td> 0       </td><td>0.1285714</td></tr>\n",
       "\t<tr><td>10       </td><td>61       </td><td>1        </td><td> 1       </td><td>2        </td><td> 1       </td><td>0.1973684</td></tr>\n",
       "\t<tr><td> 7       </td><td> 4       </td><td>6        </td><td> 0       </td><td>0        </td><td> 0       </td><td>0.6470588</td></tr>\n",
       "\t<tr><td> 0       </td><td> 2       </td><td>0        </td><td>10       </td><td>0        </td><td> 1       </td><td>0.2307692</td></tr>\n",
       "\t<tr><td> 0       </td><td> 2       </td><td>0        </td><td> 0       </td><td>7        </td><td> 0       </td><td>0.2222222</td></tr>\n",
       "\t<tr><td> 1       </td><td> 2       </td><td>0        </td><td> 0       </td><td>0        </td><td>26       </td><td>0.1034483</td></tr>\n",
       "</tbody>\n",
       "</table>\n"
      ],
      "text/latex": [
       "\\begin{tabular}{r|lllllll}\n",
       " 1 & 2 & 3 & 4 & 5 & 6 & class.error\\\\\n",
       "\\hline\n",
       "\t 61        &  6        & 3         &  0        & 0         &  0        & 0.1285714\\\\\n",
       "\t 10        & 61        & 1         &  1        & 2         &  1        & 0.1973684\\\\\n",
       "\t  7        &  4        & 6         &  0        & 0         &  0        & 0.6470588\\\\\n",
       "\t  0        &  2        & 0         & 10        & 0         &  1        & 0.2307692\\\\\n",
       "\t  0        &  2        & 0         &  0        & 7         &  0        & 0.2222222\\\\\n",
       "\t  1        &  2        & 0         &  0        & 0         & 26        & 0.1034483\\\\\n",
       "\\end{tabular}\n"
      ],
      "text/markdown": [
       "\n",
       "| 1 | 2 | 3 | 4 | 5 | 6 | class.error |\n",
       "|---|---|---|---|---|---|---|\n",
       "| 61        |  6        | 3         |  0        | 0         |  0        | 0.1285714 |\n",
       "| 10        | 61        | 1         |  1        | 2         |  1        | 0.1973684 |\n",
       "|  7        |  4        | 6         |  0        | 0         |  0        | 0.6470588 |\n",
       "|  0        |  2        | 0         | 10        | 0         |  1        | 0.2307692 |\n",
       "|  0        |  2        | 0         |  0        | 7         |  0        | 0.2222222 |\n",
       "|  1        |  2        | 0         |  0        | 0         | 26        | 0.1034483 |\n",
       "\n"
      ],
      "text/plain": [
       "  1  2  3 4  5 6  class.error\n",
       "1 61  6 3  0 0  0 0.1285714  \n",
       "2 10 61 1  1 2  1 0.1973684  \n",
       "3  7  4 6  0 0  0 0.6470588  \n",
       "4  0  2 0 10 0  1 0.2307692  \n",
       "5  0  2 0  0 7  0 0.2222222  \n",
       "6  1  2 0  0 0 26 0.1034483  "
      ]
     },
     "metadata": {},
     "output_type": "display_data"
    },
    {
     "data": {
      "text/html": [
       "0.647058823529412"
      ],
      "text/latex": [
       "0.647058823529412"
      ],
      "text/markdown": [
       "0.647058823529412"
      ],
      "text/plain": [
       "[1] 0.6470588"
      ]
     },
     "metadata": {},
     "output_type": "display_data"
    }
   ],
   "source": [
    "Glass.rf$confusion\n",
    "Glass.rf$confusion[3,7]"
   ]
  },
  {
   "cell_type": "code",
   "execution_count": 19,
   "metadata": {},
   "outputs": [
    {
     "data": {
      "text/html": [
       "0.647058823529412"
      ],
      "text/latex": [
       "0.647058823529412"
      ],
      "text/markdown": [
       "0.647058823529412"
      ],
      "text/plain": [
       "[1] 0.6470588"
      ]
     },
     "metadata": {},
     "output_type": "display_data"
    }
   ],
   "source": [
    "glass.rf.confusion[3,7]"
   ]
  },
  {
   "cell_type": "markdown",
   "metadata": {},
   "source": [
    "# 2B"
   ]
  },
  {
   "cell_type": "code",
   "execution_count": 20,
   "metadata": {},
   "outputs": [
    {
     "data": {
      "image/png": "[encoded data removed]",
      "text/plain": [
       "plot without title"
      ]
     },
     "metadata": {},
     "output_type": "display_data"
    }
   ],
   "source": [
    "varImpPlot(Glass.rf,scale=FALSE)"
   ]
  },
  {
   "cell_type": "code",
   "execution_count": 21,
   "metadata": {},
   "outputs": [],
   "source": [
    "Glass.var=subset(glass,select=c(GlassType, Magnesium, Refindex, \n",
    "                                Aluminum, Calcium, Barium, Potassium,\n",
    "                                Sodium, Silicon, Iron))"
   ]
  },
  {
   "cell_type": "code",
   "execution_count": 22,
   "metadata": {},
   "outputs": [
    {
     "data": {
      "text/html": [
       "<table>\n",
       "<thead><tr><th scope=col>1</th><th scope=col>2</th><th scope=col>3</th><th scope=col>4</th><th scope=col>5</th><th scope=col>6</th><th scope=col>class.error</th></tr></thead>\n",
       "<tbody>\n",
       "\t<tr><td>62       </td><td> 6       </td><td>2        </td><td>0        </td><td>0        </td><td> 0       </td><td>0.1142857</td></tr>\n",
       "\t<tr><td> 8       </td><td>63       </td><td>1        </td><td>1        </td><td>2        </td><td> 1       </td><td>0.1710526</td></tr>\n",
       "\t<tr><td> 6       </td><td> 3       </td><td>8        </td><td>0        </td><td>0        </td><td> 0       </td><td>0.5294118</td></tr>\n",
       "\t<tr><td> 0       </td><td> 3       </td><td>0        </td><td>9        </td><td>0        </td><td> 1       </td><td>0.3076923</td></tr>\n",
       "\t<tr><td> 0       </td><td> 2       </td><td>0        </td><td>0        </td><td>7        </td><td> 0       </td><td>0.2222222</td></tr>\n",
       "\t<tr><td> 1       </td><td> 2       </td><td>0        </td><td>0        </td><td>0        </td><td>26       </td><td>0.1034483</td></tr>\n",
       "</tbody>\n",
       "</table>\n"
      ],
      "text/latex": [
       "\\begin{tabular}{r|lllllll}\n",
       " 1 & 2 & 3 & 4 & 5 & 6 & class.error\\\\\n",
       "\\hline\n",
       "\t 62        &  6        & 2         & 0         & 0         &  0        & 0.1142857\\\\\n",
       "\t  8        & 63        & 1         & 1         & 2         &  1        & 0.1710526\\\\\n",
       "\t  6        &  3        & 8         & 0         & 0         &  0        & 0.5294118\\\\\n",
       "\t  0        &  3        & 0         & 9         & 0         &  1        & 0.3076923\\\\\n",
       "\t  0        &  2        & 0         & 0         & 7         &  0        & 0.2222222\\\\\n",
       "\t  1        &  2        & 0         & 0         & 0         & 26        & 0.1034483\\\\\n",
       "\\end{tabular}\n"
      ],
      "text/markdown": [
       "\n",
       "| 1 | 2 | 3 | 4 | 5 | 6 | class.error |\n",
       "|---|---|---|---|---|---|---|\n",
       "| 62        |  6        | 2         | 0         | 0         |  0        | 0.1142857 |\n",
       "|  8        | 63        | 1         | 1         | 2         |  1        | 0.1710526 |\n",
       "|  6        |  3        | 8         | 0         | 0         |  0        | 0.5294118 |\n",
       "|  0        |  3        | 0         | 9         | 0         |  1        | 0.3076923 |\n",
       "|  0        |  2        | 0         | 0         | 7         |  0        | 0.2222222 |\n",
       "|  1        |  2        | 0         | 0         | 0         | 26        | 0.1034483 |\n",
       "\n"
      ],
      "text/plain": [
       "  1  2  3 4 5 6  class.error\n",
       "1 62  6 2 0 0  0 0.1142857  \n",
       "2  8 63 1 1 2  1 0.1710526  \n",
       "3  6  3 8 0 0  0 0.5294118  \n",
       "4  0  3 0 9 0  1 0.3076923  \n",
       "5  0  2 0 0 7  0 0.2222222  \n",
       "6  1  2 0 0 0 26 0.1034483  "
      ]
     },
     "metadata": {},
     "output_type": "display_data"
    },
    {
     "name": "stdout",
     "output_type": "stream",
     "text": [
      "[1] \"Accuracy:\"\n"
     ]
    },
    {
     "data": {
      "text/html": [
       "81.226053749632"
      ],
      "text/latex": [
       "81.226053749632"
      ],
      "text/markdown": [
       "81.226053749632"
      ],
      "text/plain": [
       "[1] 81.22605"
      ]
     },
     "metadata": {},
     "output_type": "display_data"
    }
   ],
   "source": [
    "set.seed(5341)\n",
    "\n",
    "Glass.var.rf=randomForest(as.factor(GlassType) ~ . ,\n",
    "                      importance=TRUE,\n",
    "                      data=Glass.var)\n",
    "\n",
    "glass.vrf.confusion = Glass.var.rf$confusion\n",
    "glass.vrf.confusion\n",
    "\n",
    "print(\"Accuracy:\")\n",
    "accuracy = 100*sum(diag(glass.vrf.confusion))/sum(glass.vrf.confusion)\n",
    "accuracy"
   ]
  },
  {
   "cell_type": "markdown",
   "metadata": {},
   "source": [
    "# 3A"
   ]
  },
  {
   "cell_type": "code",
   "execution_count": 23,
   "metadata": {},
   "outputs": [],
   "source": [
    "nest <- read.csv(\"../../Data/Nest.csv\")"
   ]
  },
  {
   "cell_type": "code",
   "execution_count": 24,
   "metadata": {},
   "outputs": [
    {
     "data": {
      "text/html": [
       "<table>\n",
       "<thead><tr><th></th><th scope=col>Chickadee</th><th scope=col>Flicker</th><th scope=col>Non-nest</th><th scope=col>Sapsucker</th><th scope=col>class.error</th></tr></thead>\n",
       "<tbody>\n",
       "\t<tr><th scope=row>Chickadee</th><td>23       </td><td>1        </td><td>  0      </td><td>18       </td><td>0.4523810</td></tr>\n",
       "\t<tr><th scope=row>Flicker</th><td> 5       </td><td>6        </td><td>  0      </td><td>12       </td><td>0.7391304</td></tr>\n",
       "\t<tr><th scope=row>Non-nest</th><td> 0       </td><td>0        </td><td>106      </td><td> 0       </td><td>0.0000000</td></tr>\n",
       "\t<tr><th scope=row>Sapsucker</th><td>14       </td><td>8        </td><td>  0      </td><td>20       </td><td>0.5238095</td></tr>\n",
       "</tbody>\n",
       "</table>\n"
      ],
      "text/latex": [
       "\\begin{tabular}{r|lllll}\n",
       "  & Chickadee & Flicker & Non-nest & Sapsucker & class.error\\\\\n",
       "\\hline\n",
       "\tChickadee & 23        & 1         &   0       & 18        & 0.4523810\\\\\n",
       "\tFlicker &  5        & 6         &   0       & 12        & 0.7391304\\\\\n",
       "\tNon-nest &  0        & 0         & 106       &  0        & 0.0000000\\\\\n",
       "\tSapsucker & 14        & 8         &   0       & 20        & 0.5238095\\\\\n",
       "\\end{tabular}\n"
      ],
      "text/markdown": [
       "\n",
       "| <!--/--> | Chickadee | Flicker | Non-nest | Sapsucker | class.error |\n",
       "|---|---|---|---|---|---|\n",
       "| Chickadee | 23        | 1         |   0       | 18        | 0.4523810 |\n",
       "| Flicker |  5        | 6         |   0       | 12        | 0.7391304 |\n",
       "| Non-nest |  0        | 0         | 106       |  0        | 0.0000000 |\n",
       "| Sapsucker | 14        | 8         |   0       | 20        | 0.5238095 |\n",
       "\n"
      ],
      "text/plain": [
       "          Chickadee Flicker Non-nest Sapsucker class.error\n",
       "Chickadee 23        1         0      18        0.4523810  \n",
       "Flicker    5        6         0      12        0.7391304  \n",
       "Non-nest   0        0       106       0        0.0000000  \n",
       "Sapsucker 14        8         0      20        0.5238095  "
      ]
     },
     "metadata": {},
     "output_type": "display_data"
    },
    {
     "name": "stdout",
     "output_type": "stream",
     "text": [
      "[1] \"Accuracy:\"\n"
     ]
    },
    {
     "data": {
      "text/html": [
       "72.1886073813369"
      ],
      "text/latex": [
       "72.1886073813369"
      ],
      "text/markdown": [
       "72.1886073813369"
      ],
      "text/plain": [
       "[1] 72.18861"
      ]
     },
     "metadata": {},
     "output_type": "display_data"
    }
   ],
   "source": [
    "set.seed(5341)\n",
    "\n",
    "nest.rf=randomForest(as.factor(Species) ~ . ,\n",
    "                      importance=TRUE,\n",
    "                      data=nest)\n",
    "\n",
    "nest.rf.confusion = nest.rf$confusion\n",
    "nest.rf.confusion\n",
    "\n",
    "print(\"Accuracy:\")\n",
    "accuracy = 100*sum(diag(nest.rf.confusion))/sum(nest.rf.confusion)\n",
    "accuracy"
   ]
  },
  {
   "cell_type": "code",
   "execution_count": 25,
   "metadata": {},
   "outputs": [
    {
     "data": {
      "text/html": [
       "0.523809523809524"
      ],
      "text/latex": [
       "0.523809523809524"
      ],
      "text/markdown": [
       "0.523809523809524"
      ],
      "text/plain": [
       "[1] 0.5238095"
      ]
     },
     "metadata": {},
     "output_type": "display_data"
    }
   ],
   "source": [
    "nest.rf.confusion[4,5]"
   ]
  },
  {
   "cell_type": "markdown",
   "metadata": {},
   "source": [
    "# 3B"
   ]
  },
  {
   "cell_type": "code",
   "execution_count": 26,
   "metadata": {},
   "outputs": [
    {
     "data": {
      "image/png": "[encoded data removed]",
      "text/plain": [
       "plot without title"
      ]
     },
     "metadata": {},
     "output_type": "display_data"
    }
   ],
   "source": [
    "varImpPlot(nest.rf,scale=FALSE)"
   ]
  },
  {
   "cell_type": "code",
   "execution_count": 27,
   "metadata": {},
   "outputs": [
    {
     "data": {
      "text/html": [
       "<table>\n",
       "<thead><tr><th></th><th scope=col>Chickadee</th><th scope=col>Flicker</th><th scope=col>Non-nest</th><th scope=col>Sapsucker</th><th scope=col>class.error</th></tr></thead>\n",
       "<tbody>\n",
       "\t<tr><th scope=row>Chickadee</th><td>27       </td><td>2        </td><td>  0      </td><td>13       </td><td>0.3571429</td></tr>\n",
       "\t<tr><th scope=row>Flicker</th><td> 6       </td><td>8        </td><td>  0      </td><td> 9       </td><td>0.6521739</td></tr>\n",
       "\t<tr><th scope=row>Non-nest</th><td> 0       </td><td>0        </td><td>106      </td><td> 0       </td><td>0.0000000</td></tr>\n",
       "\t<tr><th scope=row>Sapsucker</th><td>14       </td><td>8        </td><td>  0      </td><td>20       </td><td>0.5238095</td></tr>\n",
       "</tbody>\n",
       "</table>\n"
      ],
      "text/latex": [
       "\\begin{tabular}{r|lllll}\n",
       "  & Chickadee & Flicker & Non-nest & Sapsucker & class.error\\\\\n",
       "\\hline\n",
       "\tChickadee & 27        & 2         &   0       & 13        & 0.3571429\\\\\n",
       "\tFlicker &  6        & 8         &   0       &  9        & 0.6521739\\\\\n",
       "\tNon-nest &  0        & 0         & 106       &  0        & 0.0000000\\\\\n",
       "\tSapsucker & 14        & 8         &   0       & 20        & 0.5238095\\\\\n",
       "\\end{tabular}\n"
      ],
      "text/markdown": [
       "\n",
       "| <!--/--> | Chickadee | Flicker | Non-nest | Sapsucker | class.error |\n",
       "|---|---|---|---|---|---|\n",
       "| Chickadee | 27        | 2         |   0       | 13        | 0.3571429 |\n",
       "| Flicker |  6        | 8         |   0       |  9        | 0.6521739 |\n",
       "| Non-nest |  0        | 0         | 106       |  0        | 0.0000000 |\n",
       "| Sapsucker | 14        | 8         |   0       | 20        | 0.5238095 |\n",
       "\n"
      ],
      "text/plain": [
       "          Chickadee Flicker Non-nest Sapsucker class.error\n",
       "Chickadee 27        2         0      13        0.3571429  \n",
       "Flicker    6        8         0       9        0.6521739  \n",
       "Non-nest   0        0       106       0        0.0000000  \n",
       "Sapsucker 14        8         0      20        0.5238095  "
      ]
     },
     "metadata": {},
     "output_type": "display_data"
    },
    {
     "name": "stdout",
     "output_type": "stream",
     "text": [
      "[1] \"Accuracy:\"\n"
     ]
    },
    {
     "data": {
      "text/html": [
       "75.0466852281665"
      ],
      "text/latex": [
       "75.0466852281665"
      ],
      "text/markdown": [
       "75.0466852281665"
      ],
      "text/plain": [
       "[1] 75.04669"
      ]
     },
     "metadata": {},
     "output_type": "display_data"
    }
   ],
   "source": [
    "nest.var = subset(nest, select = c(Species, Nest, NumTree3to6in, NumConifer,\n",
    "                                  NumTree6to9in))\n",
    "\n",
    "set.seed(5341)\n",
    "\n",
    "nest.var.rf = randomForest(as.factor(Species) ~ . ,\n",
    "                      importance=TRUE,\n",
    "                      data=nest.var)\n",
    "\n",
    "nest.vrf.confusion = nest.var.rf$confusion\n",
    "nest.vrf.confusion\n",
    "\n",
    "print(\"Accuracy:\")\n",
    "accuracy1 = 100*sum(diag(nest.vrf.confusion))/sum(nest.vrf.confusion)\n",
    "accuracy1"
   ]
  },
  {
   "cell_type": "markdown",
   "metadata": {},
   "source": [
    "# 4A"
   ]
  },
  {
   "cell_type": "code",
   "execution_count": 28,
   "metadata": {},
   "outputs": [
    {
     "data": {
      "text/html": [
       "<table>\n",
       "<thead><tr><th></th><th scope=col>0</th><th scope=col>1</th><th scope=col>class.error</th></tr></thead>\n",
       "<tbody>\n",
       "\t<tr><th scope=row>0</th><td>87       </td><td>19       </td><td>0.1792453</td></tr>\n",
       "\t<tr><th scope=row>1</th><td>16       </td><td>91       </td><td>0.1495327</td></tr>\n",
       "</tbody>\n",
       "</table>\n"
      ],
      "text/latex": [
       "\\begin{tabular}{r|lll}\n",
       "  & 0 & 1 & class.error\\\\\n",
       "\\hline\n",
       "\t0 & 87        & 19        & 0.1792453\\\\\n",
       "\t1 & 16        & 91        & 0.1495327\\\\\n",
       "\\end{tabular}\n"
      ],
      "text/markdown": [
       "\n",
       "| <!--/--> | 0 | 1 | class.error |\n",
       "|---|---|---|---|\n",
       "| 0 | 87        | 19        | 0.1792453 |\n",
       "| 1 | 16        | 91        | 0.1495327 |\n",
       "\n"
      ],
      "text/plain": [
       "  0  1  class.error\n",
       "0 87 19 0.1792453  \n",
       "1 16 91 0.1495327  "
      ]
     },
     "metadata": {},
     "output_type": "display_data"
    },
    {
     "name": "stdout",
     "output_type": "stream",
     "text": [
      "[1] \"Accuracy:\"\n"
     ]
    },
    {
     "data": {
      "text/html": [
       "83.4392816920327"
      ],
      "text/latex": [
       "83.4392816920327"
      ],
      "text/markdown": [
       "83.4392816920327"
      ],
      "text/plain": [
       "[1] 83.43928"
      ]
     },
     "metadata": {},
     "output_type": "display_data"
    }
   ],
   "source": [
    "set.seed(5341)\n",
    "\n",
    "nest.nrf=randomForest(as.factor(Nest) ~ . - Species,\n",
    "                      importance=TRUE,\n",
    "                      data=nest)\n",
    "\n",
    "nest.nrf.confusion = nest.nrf$confusion\n",
    "nest.nrf.confusion\n",
    "\n",
    "print(\"Accuracy:\")\n",
    "accuracy = 100*sum(diag(nest.nrf.confusion))/sum(nest.nrf.confusion)\n",
    "accuracy"
   ]
  },
  {
   "cell_type": "markdown",
   "metadata": {},
   "source": [
    "# 4B"
   ]
  },
  {
   "cell_type": "code",
   "execution_count": 29,
   "metadata": {},
   "outputs": [
    {
     "data": {
      "image/png": "[encoded data removed]",
      "text/plain": [
       "plot without title"
      ]
     },
     "metadata": {},
     "output_type": "display_data"
    }
   ],
   "source": [
    "varImpPlot(nest.nrf,scale=FALSE)"
   ]
  },
  {
   "cell_type": "code",
   "execution_count": 30,
   "metadata": {},
   "outputs": [
    {
     "data": {
      "text/html": [
       "<table>\n",
       "<thead><tr><th></th><th scope=col>0</th><th scope=col>1</th><th scope=col>class.error</th></tr></thead>\n",
       "<tbody>\n",
       "\t<tr><th scope=row>0</th><td>93       </td><td>13       </td><td>0.1226415</td></tr>\n",
       "\t<tr><th scope=row>1</th><td>17       </td><td>90       </td><td>0.1588785</td></tr>\n",
       "</tbody>\n",
       "</table>\n"
      ],
      "text/latex": [
       "\\begin{tabular}{r|lll}\n",
       "  & 0 & 1 & class.error\\\\\n",
       "\\hline\n",
       "\t0 & 93        & 13        & 0.1226415\\\\\n",
       "\t1 & 17        & 90        & 0.1588785\\\\\n",
       "\\end{tabular}\n"
      ],
      "text/markdown": [
       "\n",
       "| <!--/--> | 0 | 1 | class.error |\n",
       "|---|---|---|---|\n",
       "| 0 | 93        | 13        | 0.1226415 |\n",
       "| 1 | 17        | 90        | 0.1588785 |\n",
       "\n"
      ],
      "text/plain": [
       "  0  1  class.error\n",
       "0 93 13 0.1226415  \n",
       "1 17 90 0.1588785  "
      ]
     },
     "metadata": {},
     "output_type": "display_data"
    },
    {
     "name": "stdout",
     "output_type": "stream",
     "text": [
      "[1] \"Accuracy:\"\n"
     ]
    },
    {
     "data": {
      "text/html": [
       "85.8020891767351"
      ],
      "text/latex": [
       "85.8020891767351"
      ],
      "text/markdown": [
       "85.8020891767351"
      ],
      "text/plain": [
       "[1] 85.80209"
      ]
     },
     "metadata": {},
     "output_type": "display_data"
    }
   ],
   "source": [
    "nest.nvar = subset(nest, select = c(Nest, NumTree3to6in, NumTree9to15in,\n",
    "                                   NumTree1to3in, NumTree6to9in, NumDownSnags,\n",
    "                                   NumConifer, NumTreegt15in, NumSnags, NumTreelt1in))\n",
    "\n",
    "set.seed(5341)\n",
    "\n",
    "nest.nv.rf = randomForest(as.factor(Nest) ~ . ,\n",
    "                      importance=TRUE,\n",
    "                      data=nest.nvar)\n",
    "\n",
    "nest.nvrf.confusion = nest.nv.rf$confusion\n",
    "nest.nvrf.confusion\n",
    "\n",
    "print(\"Accuracy:\")\n",
    "accuracy4 = 100*sum(diag(nest.nvrf.confusion))/sum(nest.nvrf.confusion)\n",
    "accuracy4"
   ]
  },
  {
   "cell_type": "markdown",
   "metadata": {},
   "source": [
    "# 4C"
   ]
  },
  {
   "cell_type": "code",
   "execution_count": 31,
   "metadata": {},
   "outputs": [
    {
     "data": {
      "text/plain": [
       "   \n",
       "     0  1\n",
       "  0 88 18\n",
       "  1 19 88"
      ]
     },
     "metadata": {},
     "output_type": "display_data"
    },
    {
     "data": {
      "text/html": [
       "<table>\n",
       "<tbody>\n",
       "\t<tr><td>Percent Correctly Classified = </td><td>82.63                          </td></tr>\n",
       "\t<tr><td>Specificity =                  </td><td>83.02                          </td></tr>\n",
       "\t<tr><td>Sensitivity =                  </td><td>82.24                          </td></tr>\n",
       "\t<tr><td>Kappa =                        </td><td>0.6526                         </td></tr>\n",
       "\t<tr><td>AUC=                           </td><td>0.873                          </td></tr>\n",
       "</tbody>\n",
       "</table>\n"
      ],
      "text/latex": [
       "\\begin{tabular}{r|ll}\n",
       "\t Percent Correctly Classified =  & 82.63                          \\\\\n",
       "\t Specificity =                   & 83.02                          \\\\\n",
       "\t Sensitivity =                   & 82.24                          \\\\\n",
       "\t Kappa =                         & 0.6526                         \\\\\n",
       "\t AUC=                            & 0.873                          \\\\\n",
       "\\end{tabular}\n"
      ],
      "text/markdown": [
       "\n",
       "| Percent Correctly Classified =  | 82.63                           |\n",
       "| Specificity =                   | 83.02                           |\n",
       "| Sensitivity =                   | 82.24                           |\n",
       "| Kappa =                         | 0.6526                          |\n",
       "| AUC=                            | 0.873                           |\n",
       "\n"
      ],
      "text/plain": [
       " [,1]                            [,2]  \n",
       " Percent Correctly Classified =  82.63 \n",
       " Specificity =                   83.02 \n",
       " Sensitivity =                   82.24 \n",
       " Kappa =                         0.6526\n",
       " AUC=                            0.873 "
      ]
     },
     "metadata": {},
     "output_type": "display_data"
    }
   ],
   "source": [
    "Nests = subset(nest, select = c(Nest, NumTree3to6in, NumTree9to15in,\n",
    "                                NumTree1to3in, NumTree6to9in, NumDownSnags,\n",
    "                                NumConifer, NumTreegt15in, NumSnags, \n",
    "                                NumTreelt1in, StandType, PctShrubCover))\n",
    "set.seed(529)\n",
    "Nests.ada.xvalpr=rep(0,nrow(Nests))\n",
    "xvs=rep(1:10,length=nrow(Nests))\n",
    "xvs=sample(xvs)\n",
    "for(i in 1:10){\n",
    "      train=Nests[xvs!=i,]\n",
    "      test=Nests[xvs==i,]\n",
    "      glub=ada(as.factor(Nest)~ . ,loss=\"exponential\",data=train)\n",
    "      Nests.ada.xvalpr[xvs==i]=predict(glub,newdata=test,type=\"prob\")[,2]\n",
    "}\n",
    "\n",
    "table(Nests$Nest,round(Nests.ada.xvalpr))\n",
    "class.sum(Nests$Nest,Nests.ada.xvalpr)"
   ]
  },
  {
   "cell_type": "markdown",
   "metadata": {},
   "source": [
    "# 4D "
   ]
  },
  {
   "cell_type": "code",
   "execution_count": 32,
   "metadata": {},
   "outputs": [
    {
     "data": {
      "text/plain": [
       "   \n",
       "     0  1\n",
       "  0 78 28\n",
       "  1 27 80"
      ]
     },
     "metadata": {},
     "output_type": "display_data"
    },
    {
     "data": {
      "text/html": [
       "<table>\n",
       "<tbody>\n",
       "\t<tr><td>Percent Correctly Classified = </td><td>74.18                          </td></tr>\n",
       "\t<tr><td>Specificity =                  </td><td>73.58                          </td></tr>\n",
       "\t<tr><td>Sensitivity =                  </td><td>74.77                          </td></tr>\n",
       "\t<tr><td>Kappa =                        </td><td>0.4835                         </td></tr>\n",
       "\t<tr><td>AUC=                           </td><td>0.8273                         </td></tr>\n",
       "</tbody>\n",
       "</table>\n"
      ],
      "text/latex": [
       "\\begin{tabular}{r|ll}\n",
       "\t Percent Correctly Classified =  & 74.18                          \\\\\n",
       "\t Specificity =                   & 73.58                          \\\\\n",
       "\t Sensitivity =                   & 74.77                          \\\\\n",
       "\t Kappa =                         & 0.4835                         \\\\\n",
       "\t AUC=                            & 0.8273                         \\\\\n",
       "\\end{tabular}\n"
      ],
      "text/markdown": [
       "\n",
       "| Percent Correctly Classified =  | 74.18                           |\n",
       "| Specificity =                   | 73.58                           |\n",
       "| Sensitivity =                   | 74.77                           |\n",
       "| Kappa =                         | 0.4835                          |\n",
       "| AUC=                            | 0.8273                          |\n",
       "\n"
      ],
      "text/plain": [
       " [,1]                            [,2]  \n",
       " Percent Correctly Classified =  74.18 \n",
       " Specificity =                   73.58 \n",
       " Sensitivity =                   74.77 \n",
       " Kappa =                         0.4835\n",
       " AUC=                            0.8273"
      ]
     },
     "metadata": {},
     "output_type": "display_data"
    }
   ],
   "source": [
    "set.seed(424)\n",
    "Nests.gbm.xvalpr=rep(0,nrow(Nests))\n",
    "xvs=rep(1:10,length=nrow(Nests))\n",
    "xvs=sample(xvs)\n",
    "for(i in 1:10){\n",
    "      train=Nests[xvs!=i,]\n",
    "      test=Nests[xvs==i,]\n",
    "      glub=gbm(Nest~ . ,distribution=\"bernoulli\",n.trees=5000,data=train)\n",
    "      Nests.gbm.xvalpr[xvs==i]=predict(glub,newdata=test,type=\"response\",n.trees=5000)\n",
    "}\n",
    "\n",
    "table(Nests$Nest,round(Nests.gbm.xvalpr))\n",
    "class.sum(Nests$Nest,Nests.gbm.xvalpr)"
   ]
  },
  {
   "cell_type": "code",
   "execution_count": 33,
   "metadata": {},
   "outputs": [],
   "source": [
    "# set.seed(732)\n",
    "# fitControl = trainControl(method = \"cv\", number = 10 )\n",
    "\n",
    "# gbmGrid = expand.grid(interaction.depth = c(12, 14, 16, 18, 20), \n",
    "#                       n.trees = c(25,50,75,100), \n",
    "#                       shrinkage = c(0.01, 0.05, 0.1, 0.2 ), \n",
    "#                       n.minobsinnode=10)\n",
    "# gbmFit = train( as.factor(Nest)~ . , \n",
    "#                method=\"gbm\", \n",
    "#                tuneGrid = gbmGrid, \n",
    "#                trControl = fitControl, \n",
    "#                data=Nests)\n",
    "# gbmFit"
   ]
  },
  {
   "cell_type": "code",
   "execution_count": 34,
   "metadata": {},
   "outputs": [
    {
     "data": {
      "text/plain": [
       "   \n",
       "     0  1\n",
       "  0 90 16\n",
       "  1 17 90"
      ]
     },
     "metadata": {},
     "output_type": "display_data"
    },
    {
     "data": {
      "text/html": [
       "<table>\n",
       "<tbody>\n",
       "\t<tr><td>Percent Correctly Classified = </td><td>84.51                          </td></tr>\n",
       "\t<tr><td>Specificity =                  </td><td>84.91                          </td></tr>\n",
       "\t<tr><td>Sensitivity =                  </td><td>84.11                          </td></tr>\n",
       "\t<tr><td>Kappa =                        </td><td>0.6901                         </td></tr>\n",
       "\t<tr><td>AUC=                           </td><td>0.8996                         </td></tr>\n",
       "</tbody>\n",
       "</table>\n"
      ],
      "text/latex": [
       "\\begin{tabular}{r|ll}\n",
       "\t Percent Correctly Classified =  & 84.51                          \\\\\n",
       "\t Specificity =                   & 84.91                          \\\\\n",
       "\t Sensitivity =                   & 84.11                          \\\\\n",
       "\t Kappa =                         & 0.6901                         \\\\\n",
       "\t AUC=                            & 0.8996                         \\\\\n",
       "\\end{tabular}\n"
      ],
      "text/markdown": [
       "\n",
       "| Percent Correctly Classified =  | 84.51                           |\n",
       "| Specificity =                   | 84.91                           |\n",
       "| Sensitivity =                   | 84.11                           |\n",
       "| Kappa =                         | 0.6901                          |\n",
       "| AUC=                            | 0.8996                          |\n",
       "\n"
      ],
      "text/plain": [
       " [,1]                            [,2]  \n",
       " Percent Correctly Classified =  84.51 \n",
       " Specificity =                   84.91 \n",
       " Sensitivity =                   84.11 \n",
       " Kappa =                         0.6901\n",
       " AUC=                            0.8996"
      ]
     },
     "metadata": {},
     "output_type": "display_data"
    }
   ],
   "source": [
    "Nests.gbmopt.xvalpr=rep(0,nrow(Nests))\n",
    "xvs=rep(1:10,length=nrow(Nests))\n",
    "xvs=sample(xvs)\n",
    "for(i in 1:10){\n",
    "      train=Nests[xvs!=i,]\n",
    "      test=Nests[xvs==i,]\n",
    "      glub=gbm(Nest~ . ,\n",
    "               distribution=\"bernoulli\",\n",
    "               interaction.depth=14,\n",
    "               n.trees=75, \n",
    "               shrinkage=0.1,\n",
    "               n.minobsinnode=10,\n",
    "               data=train)\n",
    "      Nests.gbmopt.xvalpr[xvs==i]=predict(glub,\n",
    "                                             newdata=test,\n",
    "                                             type=\"response\",\n",
    "                                             n.trees=75)\n",
    "}\n",
    "\n",
    "table(Nests$Nest,round(Nests.gbmopt.xvalpr))\n",
    "class.sum(Nests$Nest,Nests.gbmopt.xvalpr)"
   ]
  },
  {
   "cell_type": "markdown",
   "metadata": {},
   "source": [
    "# 4 E"
   ]
  },
  {
   "cell_type": "code",
   "execution_count": 35,
   "metadata": {},
   "outputs": [],
   "source": [
    "library(e1071)"
   ]
  },
  {
   "cell_type": "code",
   "execution_count": 36,
   "metadata": {},
   "outputs": [
    {
     "data": {
      "text/plain": [
       "   \n",
       "     0  1\n",
       "  0 90 16\n",
       "  1 13 94"
      ]
     },
     "metadata": {},
     "output_type": "display_data"
    },
    {
     "data": {
      "text/html": [
       "<table>\n",
       "<tbody>\n",
       "\t<tr><td>Percent Correctly Classified = </td><td>86.38                          </td></tr>\n",
       "\t<tr><td>Specificity =                  </td><td>84.91                          </td></tr>\n",
       "\t<tr><td>Sensitivity =                  </td><td>87.85                          </td></tr>\n",
       "\t<tr><td>Kappa =                        </td><td>0.7277                         </td></tr>\n",
       "\t<tr><td>AUC=                           </td><td>0.9035                         </td></tr>\n",
       "</tbody>\n",
       "</table>\n"
      ],
      "text/latex": [
       "\\begin{tabular}{r|ll}\n",
       "\t Percent Correctly Classified =  & 86.38                          \\\\\n",
       "\t Specificity =                   & 84.91                          \\\\\n",
       "\t Sensitivity =                   & 87.85                          \\\\\n",
       "\t Kappa =                         & 0.7277                         \\\\\n",
       "\t AUC=                            & 0.9035                         \\\\\n",
       "\\end{tabular}\n"
      ],
      "text/markdown": [
       "\n",
       "| Percent Correctly Classified =  | 86.38                           |\n",
       "| Specificity =                   | 84.91                           |\n",
       "| Sensitivity =                   | 87.85                           |\n",
       "| Kappa =                         | 0.7277                          |\n",
       "| AUC=                            | 0.9035                          |\n",
       "\n"
      ],
      "text/plain": [
       " [,1]                            [,2]  \n",
       " Percent Correctly Classified =  86.38 \n",
       " Specificity =                   84.91 \n",
       " Sensitivity =                   87.85 \n",
       " Kappa =                         0.7277\n",
       " AUC=                            0.9035"
      ]
     },
     "metadata": {},
     "output_type": "display_data"
    }
   ],
   "source": [
    "set.seed(424)\n",
    "\n",
    "Nests.svm.xvalpred=rep(0,nrow(Nests))\n",
    "xvs=rep(1:10,length=nrow(Nests))\n",
    "xvs=sample(xvs)\n",
    "for(i in 1:10){\n",
    "      train=Nests[xvs!=i,]\n",
    "      test=Nests[xvs==i,]\n",
    "      glub=svm(as.factor(Nest)~ . ,probability=TRUE,data=train)\n",
    "      Nests.svm.xvalpred[xvs==i]=attr(predict(glub,test,probability=TRUE),\"probabilities\")[,2]\n",
    "}\n",
    "\n",
    "table(Nests$Nest,round(Nests.svm.xvalpred))\n",
    "class.sum(Nests$Nest,Nests.svm.xvalpred)"
   ]
  },
  {
   "cell_type": "code",
   "execution_count": 37,
   "metadata": {},
   "outputs": [
    {
     "data": {
      "text/plain": [
       "\n",
       "Parameter tuning of 'svm':\n",
       "\n",
       "- sampling method: 10-fold cross validation \n",
       "\n",
       "- best parameters:\n",
       " gamma cost\n",
       "  0.04    8\n",
       "\n",
       "- best performance: 0.1264069 \n",
       "\n",
       "- Detailed performance results:\n",
       "   gamma cost     error dispersion\n",
       "1   0.02    1 0.2151515 0.10539444\n",
       "2   0.04    1 0.1965368 0.10267034\n",
       "3   0.08    1 0.1636364 0.09896507\n",
       "4   0.16    1 0.1545455 0.07650085\n",
       "5   0.32    1 0.1686147 0.05844111\n",
       "6   0.02    2 0.1822511 0.09350493\n",
       "7   0.04    2 0.1588745 0.11276297\n",
       "8   0.08    2 0.1590909 0.08594797\n",
       "9   0.16    2 0.1448052 0.07323463\n",
       "10  0.32    2 0.1781385 0.06474278\n",
       "11  0.02    4 0.1729437 0.11026670\n",
       "12  0.04    4 0.1450216 0.09760281\n",
       "13  0.08    4 0.1354978 0.08029885\n",
       "14  0.16    4 0.1638528 0.06579557\n",
       "15  0.32    4 0.1733766 0.07615473\n",
       "16  0.02    8 0.1590909 0.09433329\n",
       "17  0.04    8 0.1264069 0.06947569\n",
       "18  0.08    8 0.1313853 0.06208303\n",
       "19  0.16    8 0.1874459 0.06512079\n",
       "20  0.32    8 0.1826840 0.07408095\n"
      ]
     },
     "metadata": {},
     "output_type": "display_data"
    },
    {
     "data": {
      "image/png": "[encoded data removed]",
      "text/plain": [
       "Plot with title \"Performance of `svm'\""
      ]
     },
     "metadata": {},
     "output_type": "display_data"
    }
   ],
   "source": [
    "Nests.tunesvm=tune.svm(as.factor(Nest)~ . ,\n",
    "                       data=Nests, \n",
    "                       gamma=c(0.02,0.04,0.08,0.16,0.32),\n",
    "                       cost=c(1,2,4,8))\n",
    "\n",
    "plot(Nests.tunesvm)\n",
    "\n",
    "summary(Nests.tunesvm)"
   ]
  },
  {
   "cell_type": "code",
   "execution_count": 38,
   "metadata": {},
   "outputs": [
    {
     "data": {
      "text/plain": [
       "   \n",
       "     0  1\n",
       "  0 92 14\n",
       "  1 11 96"
      ]
     },
     "metadata": {},
     "output_type": "display_data"
    },
    {
     "data": {
      "text/html": [
       "<table>\n",
       "<tbody>\n",
       "\t<tr><td>Percent Correctly Classified = </td><td>88.26                          </td></tr>\n",
       "\t<tr><td>Specificity =                  </td><td>86.79                          </td></tr>\n",
       "\t<tr><td>Sensitivity =                  </td><td>89.72                          </td></tr>\n",
       "\t<tr><td>Kappa =                        </td><td>0.7652                         </td></tr>\n",
       "\t<tr><td>AUC=                           </td><td>0.9049                         </td></tr>\n",
       "</tbody>\n",
       "</table>\n"
      ],
      "text/latex": [
       "\\begin{tabular}{r|ll}\n",
       "\t Percent Correctly Classified =  & 88.26                          \\\\\n",
       "\t Specificity =                   & 86.79                          \\\\\n",
       "\t Sensitivity =                   & 89.72                          \\\\\n",
       "\t Kappa =                         & 0.7652                         \\\\\n",
       "\t AUC=                            & 0.9049                         \\\\\n",
       "\\end{tabular}\n"
      ],
      "text/markdown": [
       "\n",
       "| Percent Correctly Classified =  | 88.26                           |\n",
       "| Specificity =                   | 86.79                           |\n",
       "| Sensitivity =                   | 89.72                           |\n",
       "| Kappa =                         | 0.7652                          |\n",
       "| AUC=                            | 0.9049                          |\n",
       "\n"
      ],
      "text/plain": [
       " [,1]                            [,2]  \n",
       " Percent Correctly Classified =  88.26 \n",
       " Specificity =                   86.79 \n",
       " Sensitivity =                   89.72 \n",
       " Kappa =                         0.7652\n",
       " AUC=                            0.9049"
      ]
     },
     "metadata": {},
     "output_type": "display_data"
    }
   ],
   "source": [
    "set.seed(425)\n",
    "\n",
    "Nests.svm2.xvalpred=rep(0,nrow(Nests))\n",
    "xvs=rep(1:10,length=nrow(Nests))\n",
    "xvs=sample(xvs)\n",
    "for(i in 1:10){\n",
    "      train=Nests[xvs!=i,]\n",
    "      test=Nests[xvs==i,]\n",
    "      glub=svm(as.factor(Nest)~ . ,\n",
    "               gamma=0.04,\n",
    "               cost=8,\n",
    "               probability=TRUE,\n",
    "               data=train)\n",
    "      Nests.svm2.xvalpred[xvs==i]=attr(predict(glub,\n",
    "                                               test,\n",
    "                                               probability=TRUE),\n",
    "                                       \"probabilities\")[,2]\n",
    "}\n",
    "\n",
    "table(Nests$Nest,round(Nests.svm2.xvalpred))\n",
    "class.sum(Nests$Nest,Nests.svm2.xvalpred)"
   ]
  },
  {
   "cell_type": "code",
   "execution_count": null,
   "metadata": {},
   "outputs": [],
   "source": []
  }
 ],
 "metadata": {
  "kernelspec": {
   "display_name": "R",
   "language": "R",
   "name": "ir"
  },
  "language_info": {
   "codemirror_mode": "r",
   "file_extension": ".r",
   "mimetype": "text/x-r-source",
   "name": "R",
   "pygments_lexer": "r",
   "version": "3.6.1"
  }
 },
 "nbformat": 4,
 "nbformat_minor": 4
}
