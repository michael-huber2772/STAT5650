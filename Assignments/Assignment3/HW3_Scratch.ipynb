{
 "cells": [
  {
   "cell_type": "markdown",
   "metadata": {},
   "source": [
    "# Question 1"
   ]
  },
  {
   "cell_type": "markdown",
   "metadata": {},
   "source": [
    "### A)"
   ]
  },
  {
   "cell_type": "code",
   "execution_count": 1,
   "metadata": {},
   "outputs": [
    {
     "name": "stderr",
     "output_type": "stream",
     "text": [
      "Warning message:\n",
      "\"package 'klaR' was built under R version 3.6.2\"Loading required package: MASS\n",
      "Warning message:\n",
      "\"package 'verification' was built under R version 3.6.2\"Loading required package: fields\n",
      "Warning message:\n",
      "\"package 'fields' was built under R version 3.6.2\"Loading required package: spam\n",
      "Warning message:\n",
      "\"package 'spam' was built under R version 3.6.2\"Loading required package: dotCall64\n",
      "Warning message:\n",
      "\"package 'dotCall64' was built under R version 3.6.2\"Loading required package: grid\n",
      "Spam version 2.5-1 (2019-12-12) is loaded.\n",
      "Type 'help( Spam)' or 'demo( spam)' for a short introduction \n",
      "and overview of this package.\n",
      "Help for individual functions is also obtained by adding the\n",
      "suffix '.spam' to the function name, e.g. 'help( chol.spam)'.\n",
      "\n",
      "Attaching package: 'spam'\n",
      "\n",
      "The following objects are masked from 'package:base':\n",
      "\n",
      "    backsolve, forwardsolve\n",
      "\n",
      "Loading required package: maps\n",
      "Warning message:\n",
      "\"package 'maps' was built under R version 3.6.2\"See https://github.com/NCAR/Fields for\n",
      " an extensive vignette, other supplements and source code \n",
      "Loading required package: boot\n",
      "Loading required package: CircStats\n",
      "Warning message:\n",
      "\"package 'CircStats' was built under R version 3.6.2\"Loading required package: dtw\n",
      "Warning message:\n",
      "\"package 'dtw' was built under R version 3.6.2\"Loading required package: proxy\n",
      "Warning message:\n",
      "\"package 'proxy' was built under R version 3.6.2\"\n",
      "Attaching package: 'proxy'\n",
      "\n",
      "The following object is masked from 'package:spam':\n",
      "\n",
      "    as.matrix\n",
      "\n",
      "The following objects are masked from 'package:stats':\n",
      "\n",
      "    as.dist, dist\n",
      "\n",
      "The following object is masked from 'package:base':\n",
      "\n",
      "    as.matrix\n",
      "\n",
      "Loaded dtw v1.21-3. See ?dtw for help, citation(\"dtw\") for use in publication.\n",
      "\n",
      "Warning message:\n",
      "\"package 'caret' was built under R version 3.6.2\"Loading required package: lattice\n",
      "\n",
      "Attaching package: 'lattice'\n",
      "\n",
      "The following object is masked from 'package:boot':\n",
      "\n",
      "    melanoma\n",
      "\n",
      "Loading required package: ggplot2\n",
      "Registered S3 method overwritten by 'pROC':\n",
      "  method    from        \n",
      "  lines.roc verification\n",
      "\n",
      "Attaching package: 'dplyr'\n",
      "\n",
      "The following object is masked from 'package:glue':\n",
      "\n",
      "    collapse\n",
      "\n",
      "The following object is masked from 'package:MASS':\n",
      "\n",
      "    select\n",
      "\n",
      "The following objects are masked from 'package:stats':\n",
      "\n",
      "    filter, lag\n",
      "\n",
      "The following objects are masked from 'package:base':\n",
      "\n",
      "    intersect, setdiff, setequal, union\n",
      "\n"
     ]
    }
   ],
   "source": [
    "library(klaR)\n",
    "library(verification)\n",
    "library(rpart)\n",
    "\n",
    "library(glue)\n",
    "library(caret)\n",
    "library(dplyr)"
   ]
  },
  {
   "cell_type": "code",
   "execution_count": 2,
   "metadata": {},
   "outputs": [],
   "source": [
    "# R\n",
    "nest <- read.csv(\"../../Data/Nest.csv\")"
   ]
  },
  {
   "cell_type": "code",
   "execution_count": 3,
   "metadata": {},
   "outputs": [],
   "source": [
    "# R\n",
    "kappa=function(x){\n",
    "      n=sum(x)\n",
    "      pobs=(x[1,1]+x[2,2])/n\n",
    "      pexp=(sum(x[1,])*sum(x[,1])+sum(x[2,])*sum(x[,2]))/n^2\n",
    "      kappa=(pobs-pexp)/(1-pexp)\n",
    "      t1=0\n",
    "      t2=0\n",
    "      t3=0\n",
    "      pii=x/n\n",
    "      pidot=apply(pii,1,sum)\n",
    "      pdotj=apply(pii,2,sum)\n",
    "      for(i in 1:2){\n",
    "            t1 = t1 + pii[i,i]*((1-pexp) - (1-pobs)*(pidot[i]+pdotj[i]))^2\n",
    "      }\n",
    "      t2 = pii[1,2]*(pdotj[1]+pidot[2])^2 + pii[2,1]*(pdotj[2] + pidot[1])^2\n",
    "      t3 = (pobs*pexp-2*pexp+pobs)^2\n",
    "      vhat = (t1 + t2*(1-pobs)^2 -t3)/(n*(1-pexp)^4)\n",
    "      se=sqrt(vhat)\n",
    "      return(c(kappa,se))\n",
    "}\n",
    "\n",
    "\n",
    "class.sum=function(truth,predicted){\n",
    "     xt=table(truth,round(predicted+0.000001))\n",
    "     pcc=round(100*sum(diag(xt))/sum(xt),2)\n",
    "     spec=round(100*xt[1,1]/sum(xt[1,]),2)\n",
    "     sens=round(100*xt[2,2]/sum(xt[2,]),2)\n",
    "     kap=round(kappa(xt)[1],4)\n",
    "     au=round(roc.area(truth,predicted)$A,4)\n",
    "     return(cbind(c(\"Percent Correctly Classified = \",\"Specificity = \",\"Sensitivity = \",\"Kappa =\",\"AUC= \"),c(pcc,spec,sens,kap,au)))\n",
    "     }"
   ]
  },
  {
   "cell_type": "code",
   "execution_count": 4,
   "metadata": {},
   "outputs": [
    {
     "data": {
      "text/html": [
       "<table>\n",
       "<thead><tr><th scope=col>Nest</th><th scope=col>Species</th><th scope=col>NumTreelt1in</th><th scope=col>NumTree1to3in</th><th scope=col>NumTree3to6in</th><th scope=col>NumTree6to9in</th><th scope=col>NumTree9to15in</th><th scope=col>NumTreegt15in</th><th scope=col>NumSnags</th><th scope=col>NumDownSnags</th><th scope=col>PctShrubCover</th><th scope=col>NumConifer</th><th scope=col>StandType</th></tr></thead>\n",
       "<tbody>\n",
       "\t<tr><td>0       </td><td>Non-nest</td><td> 27     </td><td> 3      </td><td> 9      </td><td>20      </td><td>18      </td><td>4       </td><td>1       </td><td> 3      </td><td>0.0     </td><td> 1      </td><td>0       </td></tr>\n",
       "\t<tr><td>0       </td><td>Non-nest</td><td>164     </td><td>13      </td><td>14      </td><td>13      </td><td>29      </td><td>3       </td><td>3       </td><td> 4      </td><td>0.4     </td><td> 0      </td><td>1       </td></tr>\n",
       "\t<tr><td>0       </td><td>Non-nest</td><td>  0     </td><td>10      </td><td>19      </td><td>26      </td><td>11      </td><td>4       </td><td>5       </td><td> 4      </td><td>0.0     </td><td> 0      </td><td>1       </td></tr>\n",
       "\t<tr><td>0       </td><td>Non-nest</td><td>139     </td><td>22      </td><td>19      </td><td> 7      </td><td>11      </td><td>6       </td><td>3       </td><td>11      </td><td>0.1     </td><td> 0      </td><td>1       </td></tr>\n",
       "\t<tr><td>0       </td><td>Non-nest</td><td>  0     </td><td> 1      </td><td>48      </td><td>13      </td><td> 5      </td><td>0       </td><td>7       </td><td>13      </td><td>0.1     </td><td>16      </td><td>0       </td></tr>\n",
       "\t<tr><td>0       </td><td>Non-nest</td><td>156     </td><td>59      </td><td>26      </td><td>25      </td><td> 9      </td><td>0       </td><td>2       </td><td> 3      </td><td>0.2     </td><td> 0      </td><td>1       </td></tr>\n",
       "</tbody>\n",
       "</table>\n"
      ],
      "text/latex": [
       "\\begin{tabular}{r|lllllllllllll}\n",
       " Nest & Species & NumTreelt1in & NumTree1to3in & NumTree3to6in & NumTree6to9in & NumTree9to15in & NumTreegt15in & NumSnags & NumDownSnags & PctShrubCover & NumConifer & StandType\\\\\n",
       "\\hline\n",
       "\t 0        & Non-nest &  27      &  3       &  9       & 20       & 18       & 4        & 1        &  3       & 0.0      &  1       & 0       \\\\\n",
       "\t 0        & Non-nest & 164      & 13       & 14       & 13       & 29       & 3        & 3        &  4       & 0.4      &  0       & 1       \\\\\n",
       "\t 0        & Non-nest &   0      & 10       & 19       & 26       & 11       & 4        & 5        &  4       & 0.0      &  0       & 1       \\\\\n",
       "\t 0        & Non-nest & 139      & 22       & 19       &  7       & 11       & 6        & 3        & 11       & 0.1      &  0       & 1       \\\\\n",
       "\t 0        & Non-nest &   0      &  1       & 48       & 13       &  5       & 0        & 7        & 13       & 0.1      & 16       & 0       \\\\\n",
       "\t 0        & Non-nest & 156      & 59       & 26       & 25       &  9       & 0        & 2        &  3       & 0.2      &  0       & 1       \\\\\n",
       "\\end{tabular}\n"
      ],
      "text/markdown": [
       "\n",
       "| Nest | Species | NumTreelt1in | NumTree1to3in | NumTree3to6in | NumTree6to9in | NumTree9to15in | NumTreegt15in | NumSnags | NumDownSnags | PctShrubCover | NumConifer | StandType |\n",
       "|---|---|---|---|---|---|---|---|---|---|---|---|---|\n",
       "| 0        | Non-nest |  27      |  3       |  9       | 20       | 18       | 4        | 1        |  3       | 0.0      |  1       | 0        |\n",
       "| 0        | Non-nest | 164      | 13       | 14       | 13       | 29       | 3        | 3        |  4       | 0.4      |  0       | 1        |\n",
       "| 0        | Non-nest |   0      | 10       | 19       | 26       | 11       | 4        | 5        |  4       | 0.0      |  0       | 1        |\n",
       "| 0        | Non-nest | 139      | 22       | 19       |  7       | 11       | 6        | 3        | 11       | 0.1      |  0       | 1        |\n",
       "| 0        | Non-nest |   0      |  1       | 48       | 13       |  5       | 0        | 7        | 13       | 0.1      | 16       | 0        |\n",
       "| 0        | Non-nest | 156      | 59       | 26       | 25       |  9       | 0        | 2        |  3       | 0.2      |  0       | 1        |\n",
       "\n"
      ],
      "text/plain": [
       "  Nest Species  NumTreelt1in NumTree1to3in NumTree3to6in NumTree6to9in\n",
       "1 0    Non-nest  27           3             9            20           \n",
       "2 0    Non-nest 164          13            14            13           \n",
       "3 0    Non-nest   0          10            19            26           \n",
       "4 0    Non-nest 139          22            19             7           \n",
       "5 0    Non-nest   0           1            48            13           \n",
       "6 0    Non-nest 156          59            26            25           \n",
       "  NumTree9to15in NumTreegt15in NumSnags NumDownSnags PctShrubCover NumConifer\n",
       "1 18             4             1         3           0.0            1        \n",
       "2 29             3             3         4           0.4            0        \n",
       "3 11             4             5         4           0.0            0        \n",
       "4 11             6             3        11           0.1            0        \n",
       "5  5             0             7        13           0.1           16        \n",
       "6  9             0             2         3           0.2            0        \n",
       "  StandType\n",
       "1 0        \n",
       "2 1        \n",
       "3 1        \n",
       "4 1        \n",
       "5 0        \n",
       "6 1        "
      ]
     },
     "metadata": {},
     "output_type": "display_data"
    }
   ],
   "source": [
    "head(nest)"
   ]
  },
  {
   "cell_type": "code",
   "execution_count": 5,
   "metadata": {},
   "outputs": [
    {
     "data": {
      "text/plain": [
       "   \n",
       "     0 0.142857142857143 0.285714285714286 0.428571428571429 0.571428571428571\n",
       "  0 42                21                13                 5                11\n",
       "  1  0                 2                 4                 5                10\n",
       "   \n",
       "    0.714285714285714 0.857142857142857  1\n",
       "  0                 8                 6  0\n",
       "  1                 9                59 18"
      ]
     },
     "metadata": {},
     "output_type": "display_data"
    }
   ],
   "source": [
    "Nest.knn = sknn(as.factor(Nest) ~ . , data = nest, kn = 7)\n",
    "table(nest$Nest, predict(Nest.knn)$posterior[,2])"
   ]
  },
  {
   "cell_type": "code",
   "execution_count": 6,
   "metadata": {},
   "outputs": [
    {
     "data": {
      "text/html": [
       "<table>\n",
       "<tbody>\n",
       "\t<tr><td>Percent Correctly Classified = </td><td>83.1                           </td></tr>\n",
       "\t<tr><td>Specificity =                  </td><td>76.42                          </td></tr>\n",
       "\t<tr><td>Sensitivity =                  </td><td>89.72                          </td></tr>\n",
       "\t<tr><td>Kappa =                        </td><td>0.6618                         </td></tr>\n",
       "\t<tr><td>AUC=                           </td><td>0.9248                         </td></tr>\n",
       "</tbody>\n",
       "</table>\n"
      ],
      "text/latex": [
       "\\begin{tabular}{r|ll}\n",
       "\t Percent Correctly Classified =  & 83.1                           \\\\\n",
       "\t Specificity =                   & 76.42                          \\\\\n",
       "\t Sensitivity =                   & 89.72                          \\\\\n",
       "\t Kappa =                         & 0.6618                         \\\\\n",
       "\t AUC=                            & 0.9248                         \\\\\n",
       "\\end{tabular}\n"
      ],
      "text/markdown": [
       "\n",
       "| Percent Correctly Classified =  | 83.1                            |\n",
       "| Specificity =                   | 76.42                           |\n",
       "| Sensitivity =                   | 89.72                           |\n",
       "| Kappa =                         | 0.6618                          |\n",
       "| AUC=                            | 0.9248                          |\n",
       "\n"
      ],
      "text/plain": [
       " [,1]                            [,2]  \n",
       " Percent Correctly Classified =  83.1  \n",
       " Specificity =                   76.42 \n",
       " Sensitivity =                   89.72 \n",
       " Kappa =                         0.6618\n",
       " AUC=                            0.9248"
      ]
     },
     "metadata": {},
     "output_type": "display_data"
    }
   ],
   "source": [
    "class.sum(nest$Nest, predict(Nest.knn)$posterior[,2])"
   ]
  },
  {
   "cell_type": "code",
   "execution_count": 7,
   "metadata": {},
   "outputs": [
    {
     "data": {
      "text/plain": [
       "   Nest.knn.xval.class\n",
       "     1  2\n",
       "  0 80 26\n",
       "  1 16 91"
      ]
     },
     "metadata": {},
     "output_type": "display_data"
    },
    {
     "data": {
      "text/html": [
       "<table>\n",
       "<tbody>\n",
       "\t<tr><td>Percent Correctly Classified = </td><td>80.28                          </td></tr>\n",
       "\t<tr><td>Specificity =                  </td><td>75.47                          </td></tr>\n",
       "\t<tr><td>Sensitivity =                  </td><td>85.05                          </td></tr>\n",
       "\t<tr><td>Kappa =                        </td><td>0.6055                         </td></tr>\n",
       "\t<tr><td>AUC=                           </td><td>0.8497                         </td></tr>\n",
       "</tbody>\n",
       "</table>\n"
      ],
      "text/latex": [
       "\\begin{tabular}{r|ll}\n",
       "\t Percent Correctly Classified =  & 80.28                          \\\\\n",
       "\t Specificity =                   & 75.47                          \\\\\n",
       "\t Sensitivity =                   & 85.05                          \\\\\n",
       "\t Kappa =                         & 0.6055                         \\\\\n",
       "\t AUC=                            & 0.8497                         \\\\\n",
       "\\end{tabular}\n"
      ],
      "text/markdown": [
       "\n",
       "| Percent Correctly Classified =  | 80.28                           |\n",
       "| Specificity =                   | 75.47                           |\n",
       "| Sensitivity =                   | 85.05                           |\n",
       "| Kappa =                         | 0.6055                          |\n",
       "| AUC=                            | 0.8497                          |\n",
       "\n"
      ],
      "text/plain": [
       " [,1]                            [,2]  \n",
       " Percent Correctly Classified =  80.28 \n",
       " Specificity =                   75.47 \n",
       " Sensitivity =                   85.05 \n",
       " Kappa =                         0.6055\n",
       " AUC=                            0.8497"
      ]
     },
     "metadata": {},
     "output_type": "display_data"
    }
   ],
   "source": [
    "set.seed(12345)\n",
    "Nest.knn.xval.class=rep(0,nrow(nest))\n",
    "Nest.knn.xval.posterior=rep(0,nrow(nest))\n",
    "xvs=rep(1:10,length=nrow(nest))\n",
    "xvs=sample(xvs)\n",
    "for(i in 1:10){\n",
    "    train=nest[xvs!=i,]\n",
    "    test=nest[xvs==i,]\n",
    "    glub=sknn(as.factor(Nest) ~ . ,data=train,kn=3)\n",
    "    Nest.knn.xval.posterior[xvs==i]=predict(glub,test)$posterior[,2]\n",
    "    Nest.knn.xval.class[xvs==i]=predict(glub,test)$class\n",
    "}\n",
    "table(nest$Nest, Nest.knn.xval.class)\n",
    "class.sum(nest$Nest, Nest.knn.xval.posterior)"
   ]
  },
  {
   "cell_type": "code",
   "execution_count": 8,
   "metadata": {},
   "outputs": [],
   "source": [
    "# R\n",
    "nest.logt <- log(nest[,3:12]+1)\n",
    "nest.log.df <- cbind(nest[,1:2], nest.logt, StandType = nest[, 13])"
   ]
  },
  {
   "cell_type": "code",
   "execution_count": 9,
   "metadata": {},
   "outputs": [],
   "source": [
    "# R\n",
    "set.seed(12345)\n",
    "Nest.knn.xval.class=rep(0,nrow(nest.log.df))\n",
    "Nest.knn.xval.posterior=rep(0,nrow(nest.log.df))"
   ]
  },
  {
   "cell_type": "code",
   "execution_count": 10,
   "metadata": {},
   "outputs": [
    {
     "data": {
      "text/plain": [
       "      predicted\n",
       "actual   1   2\n",
       "     0 100   6\n",
       "     1  10  97"
      ]
     },
     "metadata": {},
     "output_type": "display_data"
    },
    {
     "data": {
      "text/html": [
       "<table>\n",
       "<tbody>\n",
       "\t<tr><td>Percent Correctly Classified = </td><td>92.49                          </td></tr>\n",
       "\t<tr><td>Specificity =                  </td><td>94.34                          </td></tr>\n",
       "\t<tr><td>Sensitivity =                  </td><td>90.65                          </td></tr>\n",
       "\t<tr><td>Kappa =                        </td><td>0.8498                         </td></tr>\n",
       "\t<tr><td>AUC=                           </td><td>0.9748                         </td></tr>\n",
       "</tbody>\n",
       "</table>\n"
      ],
      "text/latex": [
       "\\begin{tabular}{r|ll}\n",
       "\t Percent Correctly Classified =  & 92.49                          \\\\\n",
       "\t Specificity =                   & 94.34                          \\\\\n",
       "\t Sensitivity =                   & 90.65                          \\\\\n",
       "\t Kappa =                         & 0.8498                         \\\\\n",
       "\t AUC=                            & 0.9748                         \\\\\n",
       "\\end{tabular}\n"
      ],
      "text/markdown": [
       "\n",
       "| Percent Correctly Classified =  | 92.49                           |\n",
       "| Specificity =                   | 94.34                           |\n",
       "| Sensitivity =                   | 90.65                           |\n",
       "| Kappa =                         | 0.8498                          |\n",
       "| AUC=                            | 0.9748                          |\n",
       "\n"
      ],
      "text/plain": [
       " [,1]                            [,2]  \n",
       " Percent Correctly Classified =  92.49 \n",
       " Specificity =                   94.34 \n",
       " Sensitivity =                   90.65 \n",
       " Kappa =                         0.8498\n",
       " AUC=                            0.9748"
      ]
     },
     "metadata": {},
     "output_type": "display_data"
    }
   ],
   "source": [
    "# R\n",
    "set.seed(12345)\n",
    "Nest.knn.xval.class=rep(0,nrow(nest.log.df))\n",
    "Nest.knn.xval.posterior=rep(0,nrow(nest.log.df))\n",
    "\n",
    "xvs=rep(1:10,length=nrow(nest.log.df))\n",
    "xvs=sample(xvs)\n",
    "for(i in 1:10){\n",
    "    train=nest.log.df[xvs!=i,]\n",
    "    test=nest.log.df[xvs==i,]\n",
    "    glub=sknn(as.factor(Nest) ~ . ,data=train,kn=5) # How do I decide what value to choose again 6\n",
    "    Nest.knn.xval.posterior[xvs==i]=predict(glub,test)$posterior[,2]\n",
    "    Nest.knn.xval.class[xvs==i]=predict(glub,test)$class\n",
    "}\n",
    "table(actual = nest.log.df$Nest, predicted = Nest.knn.xval.class)\n",
    "class.sum(nest.log.df$Nest, Nest.knn.xval.posterior)"
   ]
  },
  {
   "cell_type": "code",
   "execution_count": 11,
   "metadata": {},
   "outputs": [
    {
     "data": {
      "text/html": [
       "<table>\n",
       "<tbody>\n",
       "\t<tr><td>Percent Correctly Classified = </td><td>92.49                          </td></tr>\n",
       "\t<tr><td>Specificity =                  </td><td>94.34                          </td></tr>\n",
       "\t<tr><td>Sensitivity =                  </td><td>90.65                          </td></tr>\n",
       "\t<tr><td>Kappa =                        </td><td>0.8498                         </td></tr>\n",
       "\t<tr><td>AUC=                           </td><td>0.9748                         </td></tr>\n",
       "</tbody>\n",
       "</table>\n"
      ],
      "text/latex": [
       "\\begin{tabular}{r|ll}\n",
       "\t Percent Correctly Classified =  & 92.49                          \\\\\n",
       "\t Specificity =                   & 94.34                          \\\\\n",
       "\t Sensitivity =                   & 90.65                          \\\\\n",
       "\t Kappa =                         & 0.8498                         \\\\\n",
       "\t AUC=                            & 0.9748                         \\\\\n",
       "\\end{tabular}\n"
      ],
      "text/markdown": [
       "\n",
       "| Percent Correctly Classified =  | 92.49                           |\n",
       "| Specificity =                   | 94.34                           |\n",
       "| Sensitivity =                   | 90.65                           |\n",
       "| Kappa =                         | 0.8498                          |\n",
       "| AUC=                            | 0.9748                          |\n",
       "\n"
      ],
      "text/plain": [
       " [,1]                            [,2]  \n",
       " Percent Correctly Classified =  92.49 \n",
       " Specificity =                   94.34 \n",
       " Sensitivity =                   90.65 \n",
       " Kappa =                         0.8498\n",
       " AUC=                            0.9748"
      ]
     },
     "metadata": {},
     "output_type": "display_data"
    }
   ],
   "source": [
    "class.sum(nest.log.df$Nest, Nest.knn.xval.posterior)"
   ]
  },
  {
   "cell_type": "markdown",
   "metadata": {},
   "source": [
    "B)"
   ]
  },
  {
   "cell_type": "code",
   "execution_count": 12,
   "metadata": {},
   "outputs": [],
   "source": [
    "# R\n",
    "chickadee <- droplevels(subset( nest.log.df, \n",
    "                       Species == \"Chickadee\" | Species == \"Non-nest\",\n",
    "                       select = -Species))\n",
    "flicker <- droplevels(subset( nest.log.df, \n",
    "                       Species == \"Flicker\" | Species == \"Non-nest\",\n",
    "                       select = -Species))\n",
    "sapsucker <- droplevels(subset( nest.log.df, \n",
    "                       Species == \"Sapsucker\" | Species == \"Non-nest\",\n",
    "                       select = -Species))"
   ]
  },
  {
   "cell_type": "code",
   "execution_count": 13,
   "metadata": {},
   "outputs": [
    {
     "data": {
      "text/plain": [
       "      predicted\n",
       "actual  1  2\n",
       "     0 98  8\n",
       "     1 16 26"
      ]
     },
     "metadata": {},
     "output_type": "display_data"
    },
    {
     "data": {
      "text/html": [
       "<table>\n",
       "<tbody>\n",
       "\t<tr><td>Percent Correctly Classified = </td><td>83.78                          </td></tr>\n",
       "\t<tr><td>Specificity =                  </td><td>92.45                          </td></tr>\n",
       "\t<tr><td>Sensitivity =                  </td><td>61.9                           </td></tr>\n",
       "\t<tr><td>Kappa =                        </td><td>0.5767                         </td></tr>\n",
       "\t<tr><td>AUC=                           </td><td>0.8896                         </td></tr>\n",
       "</tbody>\n",
       "</table>\n"
      ],
      "text/latex": [
       "\\begin{tabular}{r|ll}\n",
       "\t Percent Correctly Classified =  & 83.78                          \\\\\n",
       "\t Specificity =                   & 92.45                          \\\\\n",
       "\t Sensitivity =                   & 61.9                           \\\\\n",
       "\t Kappa =                         & 0.5767                         \\\\\n",
       "\t AUC=                            & 0.8896                         \\\\\n",
       "\\end{tabular}\n"
      ],
      "text/markdown": [
       "\n",
       "| Percent Correctly Classified =  | 83.78                           |\n",
       "| Specificity =                   | 92.45                           |\n",
       "| Sensitivity =                   | 61.9                            |\n",
       "| Kappa =                         | 0.5767                          |\n",
       "| AUC=                            | 0.8896                          |\n",
       "\n"
      ],
      "text/plain": [
       " [,1]                            [,2]  \n",
       " Percent Correctly Classified =  83.78 \n",
       " Specificity =                   92.45 \n",
       " Sensitivity =                   61.9  \n",
       " Kappa =                         0.5767\n",
       " AUC=                            0.8896"
      ]
     },
     "metadata": {},
     "output_type": "display_data"
    }
   ],
   "source": [
    "# R Chickadee\n",
    "dataset = chickadee\n",
    "set.seed(12345)\n",
    "Nest.knn.xval.class=rep(0,nrow(dataset))\n",
    "Nest.knn.xval.posterior=rep(0,nrow(dataset))\n",
    "\n",
    "xvs=rep(1:10,length=nrow(dataset))\n",
    "xvs=sample(xvs)\n",
    "for(i in 1:10){\n",
    "    train=dataset[xvs!=i,]\n",
    "    test=dataset[xvs==i,]\n",
    "    glub=sknn(as.factor(Nest) ~ . ,data=train,kn=9) # How do I decide what value to choose again\n",
    "    Nest.knn.xval.posterior[xvs==i]=predict(glub,test)$posterior[,2]\n",
    "    Nest.knn.xval.class[xvs==i]=predict(glub,test)$class\n",
    "}\n",
    "table(actual = dataset$Nest, predicted = Nest.knn.xval.class)\n",
    "class.sum(dataset$Nest, Nest.knn.xval.posterior)"
   ]
  },
  {
   "cell_type": "code",
   "execution_count": null,
   "metadata": {},
   "outputs": [],
   "source": []
  },
  {
   "cell_type": "code",
   "execution_count": 14,
   "metadata": {},
   "outputs": [
    {
     "data": {
      "text/plain": [
       "      predicted\n",
       "actual   1   2\n",
       "     0 105   1\n",
       "     1  12  11"
      ]
     },
     "metadata": {},
     "output_type": "display_data"
    },
    {
     "data": {
      "text/html": [
       "<table>\n",
       "<tbody>\n",
       "\t<tr><td>Percent Correctly Classified = </td><td>89.92                          </td></tr>\n",
       "\t<tr><td>Specificity =                  </td><td>98.11                          </td></tr>\n",
       "\t<tr><td>Sensitivity =                  </td><td>52.17                          </td></tr>\n",
       "\t<tr><td>Kappa =                        </td><td>0.5938                         </td></tr>\n",
       "\t<tr><td>AUC=                           </td><td>0.8997                         </td></tr>\n",
       "</tbody>\n",
       "</table>\n"
      ],
      "text/latex": [
       "\\begin{tabular}{r|ll}\n",
       "\t Percent Correctly Classified =  & 89.92                          \\\\\n",
       "\t Specificity =                   & 98.11                          \\\\\n",
       "\t Sensitivity =                   & 52.17                          \\\\\n",
       "\t Kappa =                         & 0.5938                         \\\\\n",
       "\t AUC=                            & 0.8997                         \\\\\n",
       "\\end{tabular}\n"
      ],
      "text/markdown": [
       "\n",
       "| Percent Correctly Classified =  | 89.92                           |\n",
       "| Specificity =                   | 98.11                           |\n",
       "| Sensitivity =                   | 52.17                           |\n",
       "| Kappa =                         | 0.5938                          |\n",
       "| AUC=                            | 0.8997                          |\n",
       "\n"
      ],
      "text/plain": [
       " [,1]                            [,2]  \n",
       " Percent Correctly Classified =  89.92 \n",
       " Specificity =                   98.11 \n",
       " Sensitivity =                   52.17 \n",
       " Kappa =                         0.5938\n",
       " AUC=                            0.8997"
      ]
     },
     "metadata": {},
     "output_type": "display_data"
    }
   ],
   "source": [
    "# R flicker\n",
    "dataset = flicker\n",
    "set.seed(12345)\n",
    "Nest.knn.xval.class=rep(0,nrow(dataset))\n",
    "Nest.knn.xval.posterior=rep(0,nrow(dataset))\n",
    "\n",
    "xvs=rep(1:10,length=nrow(dataset))\n",
    "xvs=sample(xvs)\n",
    "for(i in 1:10){\n",
    "    train=dataset[xvs!=i,]\n",
    "    test=dataset[xvs==i,]\n",
    "    glub=sknn(as.factor(Nest) ~ . ,data=train,kn=4) # How do I decide what value to choose again\n",
    "    Nest.knn.xval.posterior[xvs==i]=predict(glub,test)$posterior[,2]\n",
    "    Nest.knn.xval.class[xvs==i]=predict(glub,test)$class\n",
    "}\n",
    "table(actual = dataset$Nest, predicted = Nest.knn.xval.class)\n",
    "class.sum(dataset$Nest, Nest.knn.xval.posterior)"
   ]
  },
  {
   "cell_type": "code",
   "execution_count": 15,
   "metadata": {},
   "outputs": [
    {
     "data": {
      "text/plain": [
       "      predicted\n",
       "actual  1  2\n",
       "     0 95 11\n",
       "     1 11 31"
      ]
     },
     "metadata": {},
     "output_type": "display_data"
    },
    {
     "data": {
      "text/html": [
       "<table>\n",
       "<tbody>\n",
       "\t<tr><td>Percent Correctly Classified = </td><td>86.49                          </td></tr>\n",
       "\t<tr><td>Specificity =                  </td><td>85.85                          </td></tr>\n",
       "\t<tr><td>Sensitivity =                  </td><td>88.1                           </td></tr>\n",
       "\t<tr><td>Kappa =                        </td><td>0.6899                         </td></tr>\n",
       "\t<tr><td>AUC=                           </td><td>0.8911                         </td></tr>\n",
       "</tbody>\n",
       "</table>\n"
      ],
      "text/latex": [
       "\\begin{tabular}{r|ll}\n",
       "\t Percent Correctly Classified =  & 86.49                          \\\\\n",
       "\t Specificity =                   & 85.85                          \\\\\n",
       "\t Sensitivity =                   & 88.1                           \\\\\n",
       "\t Kappa =                         & 0.6899                         \\\\\n",
       "\t AUC=                            & 0.8911                         \\\\\n",
       "\\end{tabular}\n"
      ],
      "text/markdown": [
       "\n",
       "| Percent Correctly Classified =  | 86.49                           |\n",
       "| Specificity =                   | 85.85                           |\n",
       "| Sensitivity =                   | 88.1                            |\n",
       "| Kappa =                         | 0.6899                          |\n",
       "| AUC=                            | 0.8911                          |\n",
       "\n"
      ],
      "text/plain": [
       " [,1]                            [,2]  \n",
       " Percent Correctly Classified =  86.49 \n",
       " Specificity =                   85.85 \n",
       " Sensitivity =                   88.1  \n",
       " Kappa =                         0.6899\n",
       " AUC=                            0.8911"
      ]
     },
     "metadata": {},
     "output_type": "display_data"
    }
   ],
   "source": [
    "# R sapsucker\n",
    "dataset = sapsucker\n",
    "set.seed(12345)\n",
    "Nest.knn.xval.class=rep(0,nrow(dataset))\n",
    "Nest.knn.xval.posterior=rep(0,nrow(dataset))\n",
    "\n",
    "xvs=rep(1:10,length=nrow(dataset))\n",
    "xvs=sample(xvs)\n",
    "for(i in 1:10){\n",
    "    train=dataset[xvs!=i,]\n",
    "    test=dataset[xvs==i,]\n",
    "    glub=sknn(as.factor(Nest) ~ . ,data=train,kn=2) # How do I decide what value to choose again\n",
    "    Nest.knn.xval.posterior[xvs==i]=predict(glub,test)$posterior[,2]\n",
    "    Nest.knn.xval.class[xvs==i]=predict(glub,test)$class\n",
    "}\n",
    "table(actual = dataset$Nest, predicted = Nest.knn.xval.class)\n",
    "class.sum(dataset$Nest, Nest.knn.xval.posterior)"
   ]
  },
  {
   "cell_type": "markdown",
   "metadata": {},
   "source": [
    "Possible link that may help in determining what value to use for K. [Link](https://bradleyboehmke.github.io/HOML/knn.html)"
   ]
  },
  {
   "cell_type": "markdown",
   "metadata": {},
   "source": [
    "# Question 2\n",
    "## A)"
   ]
  },
  {
   "cell_type": "code",
   "execution_count": 16,
   "metadata": {},
   "outputs": [],
   "source": [
    "dev=function(y){\n",
    "\tdev=sum((y-mean(y))^2)\n",
    "      return(dev)\n",
    "\t}\n",
    "\n",
    "findsplit=function(z){\n",
    "\tzsort=z[order(z[,1]),]\n",
    "\tn=nrow(z)\n",
    "\tw=data.frame(matrix(0,ncol=7,nrow=n-1))\n",
    "\tnames(w)=c(\"Splitpoint\",\"RSSleft\",\"RSSright\",\"RSStotal\",\"MSEleft\",\"MSEright\",\"MSEtotal\")\n",
    "\tfor(j in 1:n-1){\n",
    "\t\tw[j,1] = (zsort[j,1] + zsort[j+1,1])/2\n",
    "\t\tw[j,2] = dev(zsort[1:j,2])\n",
    "\t\tw[j,5] = w[j,2]/j\n",
    "\t\tw[j,3] = dev(zsort[(j+1):n,2])\n",
    "\t\tw[j,6] = w[j,3]/(n-j)\n",
    "\t\tw[j,4] = w[j,2] + w[j,3]\n",
    "\t\tw[j,7] = w[j,4]/n\n",
    "\t}\n",
    "\treturn(list(zsort,w))\n",
    "}"
   ]
  },
  {
   "cell_type": "code",
   "execution_count": 17,
   "metadata": {},
   "outputs": [
    {
     "data": {
      "image/png": "[encoded data removed]",
      "text/plain": [
       "plot without title"
      ]
     },
     "metadata": {},
     "output_type": "display_data"
    },
    {
     "data": {
      "image/png": "[encoded data removed]",
      "text/plain": [
       "plot without title"
      ]
     },
     "metadata": {},
     "output_type": "display_data"
    }
   ],
   "source": [
    "xor=read.csv(\"../../Data/xor.csv\")\n",
    "\n",
    "xorrpartfull=rpart(xory~xorx1+xorx2,data=xor,method=\"class\",control=rpart.control(cp=0.0,minsplit=2))\n",
    "plotcp(xorrpartfull)\n",
    "\n",
    "plot(xorrpartfull,margin=0.1)\n",
    "text(xorrpartfull,use.n=TRUE)"
   ]
  },
  {
   "cell_type": "code",
   "execution_count": 18,
   "metadata": {},
   "outputs": [
    {
     "data": {
      "image/png": "[encoded data removed]",
      "text/plain": [
       "plot without title"
      ]
     },
     "metadata": {},
     "output_type": "display_data"
    },
    {
     "data": {
      "image/png": "[encoded data removed]",
      "text/plain": [
       "plot without title"
      ]
     },
     "metadata": {},
     "output_type": "display_data"
    }
   ],
   "source": [
    "# Reference: https://bradleyboehmke.github.io/HOML/DT.html\n",
    "dataset = nest.log.df\n",
    "\n",
    "nestrpartfull=rpart(Nest ~ .-Species, data=dataset,method=\"class\",control=rpart.control(cp=0.0,minsplit=2))\n",
    "plotcp(nestrpartfull)\n",
    "\n",
    "plot(nestrpartfull,margin=0.1)\n",
    "text(nestrpartfull,use.n=TRUE)\n",
    "# Make sure I understand this correctly. cp should now = .035"
   ]
  },
  {
   "cell_type": "code",
   "execution_count": 19,
   "metadata": {},
   "outputs": [
    {
     "data": {
      "text/plain": [
       "   \n",
       "     0  1\n",
       "  0 91 15\n",
       "  1 14 93"
      ]
     },
     "metadata": {},
     "output_type": "display_data"
    },
    {
     "data": {
      "text/html": [
       "<table>\n",
       "<tbody>\n",
       "\t<tr><td>Percent Correctly Classified = </td><td>86.38                          </td></tr>\n",
       "\t<tr><td>Specificity =                  </td><td>85.85                          </td></tr>\n",
       "\t<tr><td>Sensitivity =                  </td><td>86.92                          </td></tr>\n",
       "\t<tr><td>Kappa =                        </td><td>0.7277                         </td></tr>\n",
       "\t<tr><td>AUC=                           </td><td>0.8876                         </td></tr>\n",
       "</tbody>\n",
       "</table>\n"
      ],
      "text/latex": [
       "\\begin{tabular}{r|ll}\n",
       "\t Percent Correctly Classified =  & 86.38                          \\\\\n",
       "\t Specificity =                   & 85.85                          \\\\\n",
       "\t Sensitivity =                   & 86.92                          \\\\\n",
       "\t Kappa =                         & 0.7277                         \\\\\n",
       "\t AUC=                            & 0.8876                         \\\\\n",
       "\\end{tabular}\n"
      ],
      "text/markdown": [
       "\n",
       "| Percent Correctly Classified =  | 86.38                           |\n",
       "| Specificity =                   | 85.85                           |\n",
       "| Sensitivity =                   | 86.92                           |\n",
       "| Kappa =                         | 0.7277                          |\n",
       "| AUC=                            | 0.8876                          |\n",
       "\n"
      ],
      "text/plain": [
       " [,1]                            [,2]  \n",
       " Percent Correctly Classified =  86.38 \n",
       " Specificity =                   85.85 \n",
       " Sensitivity =                   86.92 \n",
       " Kappa =                         0.7277\n",
       " AUC=                            0.8876"
      ]
     },
     "metadata": {},
     "output_type": "display_data"
    },
    {
     "data": {
      "image/png": "[encoded data removed]",
      "text/plain": [
       "plot without title"
      ]
     },
     "metadata": {},
     "output_type": "display_data"
    }
   ],
   "source": [
    "nestcp048=rpart(Nest ~ .-Species,data=dataset,method=\"class\",control=rpart.control(cp=0.035,minsplit=2))\n",
    "\n",
    "plot(nestcp048,margin=0.1)\n",
    "text(nestcp048,use.n=TRUE)\n",
    "\n",
    "table(dataset$Nest, predict(nestcp048,type=\"class\"))\n",
    "class.sum(dataset$Nest,predict(nestcp048,type=\"prob\")[,2])"
   ]
  },
  {
   "cell_type": "code",
   "execution_count": 20,
   "metadata": {},
   "outputs": [
    {
     "data": {
      "text/plain": [
       "   nest.xval.predclass\n",
       "     1  2\n",
       "  0 89 17\n",
       "  1 25 82"
      ]
     },
     "metadata": {},
     "output_type": "display_data"
    },
    {
     "data": {
      "text/html": [
       "<table>\n",
       "<tbody>\n",
       "\t<tr><td>Percent Correctly Classified = </td><td>80.28                          </td></tr>\n",
       "\t<tr><td>Specificity =                  </td><td>83.96                          </td></tr>\n",
       "\t<tr><td>Sensitivity =                  </td><td>76.64                          </td></tr>\n",
       "\t<tr><td>Kappa =                        </td><td>0.6058                         </td></tr>\n",
       "\t<tr><td>AUC=                           </td><td>0.8115                         </td></tr>\n",
       "</tbody>\n",
       "</table>\n"
      ],
      "text/latex": [
       "\\begin{tabular}{r|ll}\n",
       "\t Percent Correctly Classified =  & 80.28                          \\\\\n",
       "\t Specificity =                   & 83.96                          \\\\\n",
       "\t Sensitivity =                   & 76.64                          \\\\\n",
       "\t Kappa =                         & 0.6058                         \\\\\n",
       "\t AUC=                            & 0.8115                         \\\\\n",
       "\\end{tabular}\n"
      ],
      "text/markdown": [
       "\n",
       "| Percent Correctly Classified =  | 80.28                           |\n",
       "| Specificity =                   | 83.96                           |\n",
       "| Sensitivity =                   | 76.64                           |\n",
       "| Kappa =                         | 0.6058                          |\n",
       "| AUC=                            | 0.8115                          |\n",
       "\n"
      ],
      "text/plain": [
       " [,1]                            [,2]  \n",
       " Percent Correctly Classified =  80.28 \n",
       " Specificity =                   83.96 \n",
       " Sensitivity =                   76.64 \n",
       " Kappa =                         0.6058\n",
       " AUC=                            0.8115"
      ]
     },
     "metadata": {},
     "output_type": "display_data"
    }
   ],
   "source": [
    "set.seed(6066)\n",
    "nest.xval.predprob=rep(0,length=nrow(dataset))\n",
    "nest.xval.predclass=rep(0,length=nrow(dataset))\n",
    "xvs=rep(1:10,length=nrow(dataset))\n",
    "xvs=sample(xvs)\n",
    "for(i in 1:10){\n",
    "     train = dataset[xvs!=i,]\n",
    "     test = dataset[xvs==i,]\n",
    "     glub=rpart(Nest ~ .-Species,data=train,method=\"class\",control=rpart.control(cp=0.035,minsplit=2))\n",
    "     nest.xval.predprob[xvs==i]=predict(glub,test,type=\"prob\")[,2]\n",
    "     nest.xval.predclass[xvs==i]=predict(glub,test,type=\"class\")\n",
    "   }\n",
    "\n",
    "table(dataset$Nest,nest.xval.predclass)\n",
    "class.sum(dataset$Nest,nest.xval.predprob)"
   ]
  },
  {
   "cell_type": "code",
   "execution_count": 21,
   "metadata": {},
   "outputs": [
    {
     "data": {
      "text/plain": [
       "   nest.xval.predclass\n",
       "     1  2\n",
       "  0 79 27\n",
       "  1 19 88"
      ]
     },
     "metadata": {},
     "output_type": "display_data"
    },
    {
     "data": {
      "text/html": [
       "<table>\n",
       "<tbody>\n",
       "\t<tr><td>Percent Correctly Classified = </td><td>78.4                           </td></tr>\n",
       "\t<tr><td>Specificity =                  </td><td>74.53                          </td></tr>\n",
       "\t<tr><td>Sensitivity =                  </td><td>82.24                          </td></tr>\n",
       "\t<tr><td>Kappa =                        </td><td>0.5679                         </td></tr>\n",
       "\t<tr><td>AUC=                           </td><td>0.7865                         </td></tr>\n",
       "</tbody>\n",
       "</table>\n"
      ],
      "text/latex": [
       "\\begin{tabular}{r|ll}\n",
       "\t Percent Correctly Classified =  & 78.4                           \\\\\n",
       "\t Specificity =                   & 74.53                          \\\\\n",
       "\t Sensitivity =                   & 82.24                          \\\\\n",
       "\t Kappa =                         & 0.5679                         \\\\\n",
       "\t AUC=                            & 0.7865                         \\\\\n",
       "\\end{tabular}\n"
      ],
      "text/markdown": [
       "\n",
       "| Percent Correctly Classified =  | 78.4                            |\n",
       "| Specificity =                   | 74.53                           |\n",
       "| Sensitivity =                   | 82.24                           |\n",
       "| Kappa =                         | 0.5679                          |\n",
       "| AUC=                            | 0.7865                          |\n",
       "\n"
      ],
      "text/plain": [
       " [,1]                            [,2]  \n",
       " Percent Correctly Classified =  78.4  \n",
       " Specificity =                   74.53 \n",
       " Sensitivity =                   82.24 \n",
       " Kappa =                         0.5679\n",
       " AUC=                            0.7865"
      ]
     },
     "metadata": {},
     "output_type": "display_data"
    }
   ],
   "source": [
    "nest.xval.predprob=rep(0,length=nrow(dataset))\n",
    "nest.xval.predclass=rep(0,length=nrow(dataset))\n",
    "xvs=rep(1:10,length=nrow(dataset))\n",
    "xvs=sample(xvs)\n",
    "for(i in 1:10){\n",
    "     train = dataset[xvs!=i,]\n",
    "     test = dataset[xvs==i,]\n",
    "     glub=rpart(Nest ~ .-Species,data=train,method=\"class\",control=rpart.control(cp=0.0,minsplit=2))\n",
    "     nest.xval.predprob[xvs==i]=predict(glub,test,type=\"prob\")[,2]\n",
    "     nest.xval.predclass[xvs==i]=predict(glub,test,type=\"class\")\n",
    "   }\n",
    "\n",
    "table(dataset$Nest,nest.xval.predclass)\n",
    "class.sum(dataset$Nest,nest.xval.predprob)"
   ]
  },
  {
   "cell_type": "markdown",
   "metadata": {},
   "source": [
    "## B)"
   ]
  },
  {
   "cell_type": "code",
   "execution_count": 22,
   "metadata": {},
   "outputs": [
    {
     "data": {
      "image/png": "[encoded data removed]",
      "text/plain": [
       "plot without title"
      ]
     },
     "metadata": {},
     "output_type": "display_data"
    }
   ],
   "source": [
    "dataset = chickadee\n",
    "\n",
    "nestrpartfull=rpart(Nest ~ ., \n",
    "                    data=dataset,\n",
    "                    method=\"class\",\n",
    "                    control=rpart.control(cp=0.0,minsplit=2))\n",
    "plotcp(nestrpartfull)"
   ]
  },
  {
   "cell_type": "markdown",
   "metadata": {},
   "source": [
    "## C)"
   ]
  },
  {
   "cell_type": "code",
   "execution_count": 23,
   "metadata": {},
   "outputs": [
    {
     "data": {
      "image/png": "[encoded data removed]",
      "text/plain": [
       "plot without title"
      ]
     },
     "metadata": {},
     "output_type": "display_data"
    },
    {
     "data": {
      "image/png": "[encoded data removed]",
      "text/plain": [
       "plot without title"
      ]
     },
     "metadata": {},
     "output_type": "display_data"
    }
   ],
   "source": [
    "dataset = nest.log.df\n",
    "\n",
    "nestrpartfull=rpart(Species ~ . - Nest, \n",
    "                    data=dataset,\n",
    "                    method=\"class\",\n",
    "                    control=rpart.control(cp=0.0,minsplit=2))\n",
    "plotcp(nestrpartfull)\n",
    "\n",
    "plot(nestrpartfull,margin=0.1)\n",
    "text(nestrpartfull,use.n=TRUE)"
   ]
  },
  {
   "cell_type": "code",
   "execution_count": 24,
   "metadata": {},
   "outputs": [
    {
     "data": {
      "image/png": "[encoded data removed]",
      "text/plain": [
       "plot without title"
      ]
     },
     "metadata": {},
     "output_type": "display_data"
    }
   ],
   "source": [
    "nestrpartfull=rpart(Species ~ . - Nest, \n",
    "                    data=dataset,\n",
    "                    method=\"class\",\n",
    "                    control=rpart.control(cp=0.032,minsplit=2))\n",
    "plot(nestrpartfull,margin=0.1)\n",
    "text(nestrpartfull,use.n=TRUE)"
   ]
  },
  {
   "cell_type": "code",
   "execution_count": 25,
   "metadata": {},
   "outputs": [
    {
     "data": {
      "text/html": [
       "<table>\n",
       "<thead><tr><th scope=col>Nest</th><th scope=col>Species</th><th scope=col>NumTreelt1in</th><th scope=col>NumTree1to3in</th><th scope=col>NumTree3to6in</th><th scope=col>NumTree6to9in</th><th scope=col>NumTree9to15in</th><th scope=col>NumTreegt15in</th><th scope=col>NumSnags</th><th scope=col>NumDownSnags</th><th scope=col>PctShrubCover</th><th scope=col>NumConifer</th><th scope=col>StandType</th></tr></thead>\n",
       "<tbody>\n",
       "\t<tr><td>0         </td><td>Non-nest  </td><td>3.332205  </td><td>1.3862944 </td><td>2.302585  </td><td>3.044522  </td><td>2.944439  </td><td>1.609438  </td><td>0.6931472 </td><td>1.386294  </td><td>0.00000000</td><td>0.6931472 </td><td>0         </td></tr>\n",
       "\t<tr><td>0         </td><td>Non-nest  </td><td>5.105945  </td><td>2.6390573 </td><td>2.708050  </td><td>2.639057  </td><td>3.401197  </td><td>1.386294  </td><td>1.3862944 </td><td>1.609438  </td><td>0.33647224</td><td>0.0000000 </td><td>1         </td></tr>\n",
       "\t<tr><td>0         </td><td>Non-nest  </td><td>0.000000  </td><td>2.3978953 </td><td>2.995732  </td><td>3.295837  </td><td>2.484907  </td><td>1.609438  </td><td>1.7917595 </td><td>1.609438  </td><td>0.00000000</td><td>0.0000000 </td><td>1         </td></tr>\n",
       "\t<tr><td>0         </td><td>Non-nest  </td><td>4.941642  </td><td>3.1354942 </td><td>2.995732  </td><td>2.079442  </td><td>2.484907  </td><td>1.945910  </td><td>1.3862944 </td><td>2.484907  </td><td>0.09531018</td><td>0.0000000 </td><td>1         </td></tr>\n",
       "\t<tr><td>0         </td><td>Non-nest  </td><td>0.000000  </td><td>0.6931472 </td><td>3.891820  </td><td>2.639057  </td><td>1.791759  </td><td>0.000000  </td><td>2.0794415 </td><td>2.639057  </td><td>0.09531018</td><td>2.8332133 </td><td>0         </td></tr>\n",
       "\t<tr><td>0         </td><td>Non-nest  </td><td>5.056246  </td><td>4.0943446 </td><td>3.295837  </td><td>3.258097  </td><td>2.302585  </td><td>0.000000  </td><td>1.0986123 </td><td>1.386294  </td><td>0.18232156</td><td>0.0000000 </td><td>1         </td></tr>\n",
       "</tbody>\n",
       "</table>\n"
      ],
      "text/latex": [
       "\\begin{tabular}{r|lllllllllllll}\n",
       " Nest & Species & NumTreelt1in & NumTree1to3in & NumTree3to6in & NumTree6to9in & NumTree9to15in & NumTreegt15in & NumSnags & NumDownSnags & PctShrubCover & NumConifer & StandType\\\\\n",
       "\\hline\n",
       "\t 0          & Non-nest   & 3.332205   & 1.3862944  & 2.302585   & 3.044522   & 2.944439   & 1.609438   & 0.6931472  & 1.386294   & 0.00000000 & 0.6931472  & 0         \\\\\n",
       "\t 0          & Non-nest   & 5.105945   & 2.6390573  & 2.708050   & 2.639057   & 3.401197   & 1.386294   & 1.3862944  & 1.609438   & 0.33647224 & 0.0000000  & 1         \\\\\n",
       "\t 0          & Non-nest   & 0.000000   & 2.3978953  & 2.995732   & 3.295837   & 2.484907   & 1.609438   & 1.7917595  & 1.609438   & 0.00000000 & 0.0000000  & 1         \\\\\n",
       "\t 0          & Non-nest   & 4.941642   & 3.1354942  & 2.995732   & 2.079442   & 2.484907   & 1.945910   & 1.3862944  & 2.484907   & 0.09531018 & 0.0000000  & 1         \\\\\n",
       "\t 0          & Non-nest   & 0.000000   & 0.6931472  & 3.891820   & 2.639057   & 1.791759   & 0.000000   & 2.0794415  & 2.639057   & 0.09531018 & 2.8332133  & 0         \\\\\n",
       "\t 0          & Non-nest   & 5.056246   & 4.0943446  & 3.295837   & 3.258097   & 2.302585   & 0.000000   & 1.0986123  & 1.386294   & 0.18232156 & 0.0000000  & 1         \\\\\n",
       "\\end{tabular}\n"
      ],
      "text/markdown": [
       "\n",
       "| Nest | Species | NumTreelt1in | NumTree1to3in | NumTree3to6in | NumTree6to9in | NumTree9to15in | NumTreegt15in | NumSnags | NumDownSnags | PctShrubCover | NumConifer | StandType |\n",
       "|---|---|---|---|---|---|---|---|---|---|---|---|---|\n",
       "| 0          | Non-nest   | 3.332205   | 1.3862944  | 2.302585   | 3.044522   | 2.944439   | 1.609438   | 0.6931472  | 1.386294   | 0.00000000 | 0.6931472  | 0          |\n",
       "| 0          | Non-nest   | 5.105945   | 2.6390573  | 2.708050   | 2.639057   | 3.401197   | 1.386294   | 1.3862944  | 1.609438   | 0.33647224 | 0.0000000  | 1          |\n",
       "| 0          | Non-nest   | 0.000000   | 2.3978953  | 2.995732   | 3.295837   | 2.484907   | 1.609438   | 1.7917595  | 1.609438   | 0.00000000 | 0.0000000  | 1          |\n",
       "| 0          | Non-nest   | 4.941642   | 3.1354942  | 2.995732   | 2.079442   | 2.484907   | 1.945910   | 1.3862944  | 2.484907   | 0.09531018 | 0.0000000  | 1          |\n",
       "| 0          | Non-nest   | 0.000000   | 0.6931472  | 3.891820   | 2.639057   | 1.791759   | 0.000000   | 2.0794415  | 2.639057   | 0.09531018 | 2.8332133  | 0          |\n",
       "| 0          | Non-nest   | 5.056246   | 4.0943446  | 3.295837   | 3.258097   | 2.302585   | 0.000000   | 1.0986123  | 1.386294   | 0.18232156 | 0.0000000  | 1          |\n",
       "\n"
      ],
      "text/plain": [
       "  Nest Species  NumTreelt1in NumTree1to3in NumTree3to6in NumTree6to9in\n",
       "1 0    Non-nest 3.332205     1.3862944     2.302585      3.044522     \n",
       "2 0    Non-nest 5.105945     2.6390573     2.708050      2.639057     \n",
       "3 0    Non-nest 0.000000     2.3978953     2.995732      3.295837     \n",
       "4 0    Non-nest 4.941642     3.1354942     2.995732      2.079442     \n",
       "5 0    Non-nest 0.000000     0.6931472     3.891820      2.639057     \n",
       "6 0    Non-nest 5.056246     4.0943446     3.295837      3.258097     \n",
       "  NumTree9to15in NumTreegt15in NumSnags  NumDownSnags PctShrubCover NumConifer\n",
       "1 2.944439       1.609438      0.6931472 1.386294     0.00000000    0.6931472 \n",
       "2 3.401197       1.386294      1.3862944 1.609438     0.33647224    0.0000000 \n",
       "3 2.484907       1.609438      1.7917595 1.609438     0.00000000    0.0000000 \n",
       "4 2.484907       1.945910      1.3862944 2.484907     0.09531018    0.0000000 \n",
       "5 1.791759       0.000000      2.0794415 2.639057     0.09531018    2.8332133 \n",
       "6 2.302585       0.000000      1.0986123 1.386294     0.18232156    0.0000000 \n",
       "  StandType\n",
       "1 0        \n",
       "2 1        \n",
       "3 1        \n",
       "4 1        \n",
       "5 0        \n",
       "6 1        "
      ]
     },
     "metadata": {},
     "output_type": "display_data"
    }
   ],
   "source": [
    "head(dataset)"
   ]
  },
  {
   "cell_type": "code",
   "execution_count": 26,
   "metadata": {},
   "outputs": [
    {
     "data": {
      "text/plain": [
       "           \n",
       "            Chickadee Flicker Non-nest Sapsucker\n",
       "  Chickadee         4       0       16        22\n",
       "  Flicker           0       6        6        11\n",
       "  Non-nest          0       0       96        10\n",
       "  Sapsucker         0       2       10        30"
      ]
     },
     "metadata": {},
     "output_type": "display_data"
    },
    {
     "data": {
      "text/plain": [
       "           actual\n",
       "predicted   Chickadee Flicker Non-nest Sapsucker\n",
       "  Chickadee         0       3        2        10\n",
       "  Flicker           3       5        1         3\n",
       "  Non-nest         20       6       94        12\n",
       "  Sapsucker        19       9        9        17"
      ]
     },
     "metadata": {},
     "output_type": "display_data"
    },
    {
     "data": {
      "text/plain": [
       "Confusion Matrix and Statistics\n",
       "\n",
       "           actual\n",
       "predicted   Chickadee Flicker Non-nest Sapsucker\n",
       "  Chickadee         0       3        2        10\n",
       "  Flicker           3       5        1         3\n",
       "  Non-nest         20       6       94        12\n",
       "  Sapsucker        19       9        9        17\n",
       "\n",
       "Overall Statistics\n",
       "                                          \n",
       "               Accuracy : 0.5446          \n",
       "                 95% CI : (0.4752, 0.6128)\n",
       "    No Information Rate : 0.4977          \n",
       "    P-Value [Acc > NIR] : 0.0964325       \n",
       "                                          \n",
       "                  Kappa : 0.2674          \n",
       "                                          \n",
       " Mcnemar's Test P-Value : 0.0004188       \n",
       "\n",
       "Statistics by Class:\n",
       "\n",
       "                     Class: Chickadee Class: Flicker Class: Non-nest\n",
       "Sensitivity                   0.00000        0.21739          0.8868\n",
       "Specificity                   0.91228        0.96316          0.6449\n",
       "Pos Pred Value                0.00000        0.41667          0.7121\n",
       "Neg Pred Value                0.78788        0.91045          0.8519\n",
       "Prevalence                    0.19718        0.10798          0.4977\n",
       "Detection Rate                0.00000        0.02347          0.4413\n",
       "Detection Prevalence          0.07042        0.05634          0.6197\n",
       "Balanced Accuracy             0.45614        0.59027          0.7658\n",
       "                     Class: Sapsucker\n",
       "Sensitivity                   0.40476\n",
       "Specificity                   0.78363\n",
       "Pos Pred Value                0.31481\n",
       "Neg Pred Value                0.84277\n",
       "Prevalence                    0.19718\n",
       "Detection Rate                0.07981\n",
       "Detection Prevalence          0.25352\n",
       "Balanced Accuracy             0.59419"
      ]
     },
     "metadata": {},
     "output_type": "display_data"
    },
    {
     "data": {
      "image/png": "[encoded data removed]",
      "text/plain": [
       "plot without title"
      ]
     },
     "metadata": {},
     "output_type": "display_data"
    }
   ],
   "source": [
    "dataset = nest.log.df\n",
    "\n",
    "snra.cp014=rpart(Species ~ . -Nest ,control=rpart.control(cp=0.032, minsplit=2),data=dataset)\n",
    "plot(snra.cp014,margin=0.1)\n",
    "text(snra.cp014)\n",
    "\n",
    "\n",
    "snra.cp014confuse=table(dataset$Species,predict(snra.cp014,type=\"class\"))\n",
    "snra.cp014confuse\n",
    "\n",
    "set.seed(6066)\n",
    "\n",
    "snra.cp014.xval=rep(0,nrow(dataset))\n",
    "xvs=rep(1:10,length=nrow(dataset))\n",
    "xvs=sample(xvs)\n",
    "for(i in 1:10){\n",
    "    test=dataset[xvs==i,]\n",
    "    train=dataset[xvs!=i,]\n",
    "    glub=rpart(Species ~ . - Nest,control=rpart.control(cp=0.032, minsplit=2),data=train)\n",
    "    snra.cp014.xval[xvs==i]=predict(glub,test,type=\"class\")\n",
    "    as.data.frame(snra.cp014.xval)\n",
    "    snra.cp014.xval[snra.cp014.xval == 4] = \"Sapsucker\"\n",
    "    snra.cp014.xval[snra.cp014.xval == 3] = \"Non-nest\"\n",
    "    snra.cp014.xval[snra.cp014.xval == 2] = \"Flicker\"\n",
    "    snra.cp014.xval[snra.cp014.xval == 1] = \"Chickadee\"\n",
    "}\n",
    "\n",
    "snra.cp014confuse.xval=table(predicted = snra.cp014.xval, actual = dataset$Species)\n",
    "snra.cp014confuse.xval\n",
    "confusionMatrix(snra.cp014confuse.xval)\n",
    "\n",
    "\n",
    "\n",
    "# set.seed(6066)\n",
    "# nest.xval.predprob=rep(0,length=nrow(dataset))\n",
    "# nest.xval.predclass=rep(0,length=nrow(dataset))\n",
    "# xvs=rep(1:10,length=nrow(dataset))\n",
    "# xvs=sample(xvs)\n",
    "# for(i in 1:10){\n",
    "#      train = dataset[xvs!=i,]\n",
    "#      test = dataset[xvs==i,]\n",
    "#      glub=rpart(Species ~ .-Nest,data=train,method=\"class\",control=rpart.control(cp=0.046,minsplit=2))\n",
    "#      nest.xval.predprob[xvs==i]=predict(glub,test,type=\"prob\")[,2]\n",
    "#      nest.xval.predclass[xvs==i]=predict(glub,test,type=\"class\")\n",
    "#    }\n",
    "\n",
    "# table(actual = dataset$Species, predicted = nest.xval.predclass)\n",
    "# print(nest.xval.predclass)\n",
    "# confusionMatrix(table( predicted = nest.xval.predclass, actual = dataset$Species))\n",
    "# class.sum(dataset$Species,nest.xval.predprob)\n",
    "\n",
    "# Look at the R code for classification trees for snra. Saw tooth data.\n",
    "# Use this for the glass as well.\n",
    "# Library (rpart.plot) For plotting rpart. You can just plot the model. <model_name>$finalModel"
   ]
  },
  {
   "cell_type": "code",
   "execution_count": 27,
   "metadata": {},
   "outputs": [
    {
     "data": {
      "text/html": [
       "<table>\n",
       "<thead><tr><th scope=col>snra.cp014.xval</th></tr></thead>\n",
       "<tbody>\n",
       "\t<tr><td>Sapsucker</td></tr>\n",
       "\t<tr><td>Non-nest </td></tr>\n",
       "\t<tr><td>Non-nest </td></tr>\n",
       "\t<tr><td>Non-nest </td></tr>\n",
       "\t<tr><td>Non-nest </td></tr>\n",
       "\t<tr><td>Non-nest </td></tr>\n",
       "\t<tr><td>Non-nest </td></tr>\n",
       "\t<tr><td>Non-nest </td></tr>\n",
       "\t<tr><td>Non-nest </td></tr>\n",
       "\t<tr><td>Non-nest </td></tr>\n",
       "\t<tr><td>Flicker  </td></tr>\n",
       "\t<tr><td>Non-nest </td></tr>\n",
       "\t<tr><td>Non-nest </td></tr>\n",
       "\t<tr><td>Flicker  </td></tr>\n",
       "\t<tr><td>Non-nest </td></tr>\n",
       "\t<tr><td>Sapsucker</td></tr>\n",
       "\t<tr><td>Sapsucker</td></tr>\n",
       "\t<tr><td>Sapsucker</td></tr>\n",
       "\t<tr><td>Sapsucker</td></tr>\n",
       "\t<tr><td>Non-nest </td></tr>\n",
       "\t<tr><td>Sapsucker</td></tr>\n",
       "\t<tr><td>Sapsucker</td></tr>\n",
       "\t<tr><td>Non-nest </td></tr>\n",
       "\t<tr><td>Non-nest </td></tr>\n",
       "\t<tr><td>Non-nest </td></tr>\n",
       "\t<tr><td>Non-nest </td></tr>\n",
       "\t<tr><td>Non-nest </td></tr>\n",
       "\t<tr><td>Non-nest </td></tr>\n",
       "\t<tr><td>Sapsucker</td></tr>\n",
       "\t<tr><td>Non-nest </td></tr>\n",
       "\t<tr><td>...</td></tr>\n",
       "\t<tr><td>Sapsucker</td></tr>\n",
       "\t<tr><td>Non-nest </td></tr>\n",
       "\t<tr><td>Non-nest </td></tr>\n",
       "\t<tr><td>Sapsucker</td></tr>\n",
       "\t<tr><td>Non-nest </td></tr>\n",
       "\t<tr><td>Sapsucker</td></tr>\n",
       "\t<tr><td>Sapsucker</td></tr>\n",
       "\t<tr><td>Sapsucker</td></tr>\n",
       "\t<tr><td>Flicker  </td></tr>\n",
       "\t<tr><td>Non-nest </td></tr>\n",
       "\t<tr><td>Non-nest </td></tr>\n",
       "\t<tr><td>Non-nest </td></tr>\n",
       "\t<tr><td>Non-nest </td></tr>\n",
       "\t<tr><td>Non-nest </td></tr>\n",
       "\t<tr><td>Non-nest </td></tr>\n",
       "\t<tr><td>Non-nest </td></tr>\n",
       "\t<tr><td>Non-nest </td></tr>\n",
       "\t<tr><td>Non-nest </td></tr>\n",
       "\t<tr><td>Non-nest </td></tr>\n",
       "\t<tr><td>Non-nest </td></tr>\n",
       "\t<tr><td>Non-nest </td></tr>\n",
       "\t<tr><td>Flicker  </td></tr>\n",
       "\t<tr><td>Sapsucker</td></tr>\n",
       "\t<tr><td>Sapsucker</td></tr>\n",
       "\t<tr><td>Sapsucker</td></tr>\n",
       "\t<tr><td>Flicker  </td></tr>\n",
       "\t<tr><td>Chickadee</td></tr>\n",
       "\t<tr><td>Sapsucker</td></tr>\n",
       "\t<tr><td>Non-nest </td></tr>\n",
       "\t<tr><td>Sapsucker</td></tr>\n",
       "</tbody>\n",
       "</table>\n"
      ],
      "text/latex": [
       "\\begin{tabular}{r|l}\n",
       " snra.cp014.xval\\\\\n",
       "\\hline\n",
       "\t Sapsucker\\\\\n",
       "\t Non-nest \\\\\n",
       "\t Non-nest \\\\\n",
       "\t Non-nest \\\\\n",
       "\t Non-nest \\\\\n",
       "\t Non-nest \\\\\n",
       "\t Non-nest \\\\\n",
       "\t Non-nest \\\\\n",
       "\t Non-nest \\\\\n",
       "\t Non-nest \\\\\n",
       "\t Flicker  \\\\\n",
       "\t Non-nest \\\\\n",
       "\t Non-nest \\\\\n",
       "\t Flicker  \\\\\n",
       "\t Non-nest \\\\\n",
       "\t Sapsucker\\\\\n",
       "\t Sapsucker\\\\\n",
       "\t Sapsucker\\\\\n",
       "\t Sapsucker\\\\\n",
       "\t Non-nest \\\\\n",
       "\t Sapsucker\\\\\n",
       "\t Sapsucker\\\\\n",
       "\t Non-nest \\\\\n",
       "\t Non-nest \\\\\n",
       "\t Non-nest \\\\\n",
       "\t Non-nest \\\\\n",
       "\t Non-nest \\\\\n",
       "\t Non-nest \\\\\n",
       "\t Sapsucker\\\\\n",
       "\t Non-nest \\\\\n",
       "\t ...\\\\\n",
       "\t Sapsucker\\\\\n",
       "\t Non-nest \\\\\n",
       "\t Non-nest \\\\\n",
       "\t Sapsucker\\\\\n",
       "\t Non-nest \\\\\n",
       "\t Sapsucker\\\\\n",
       "\t Sapsucker\\\\\n",
       "\t Sapsucker\\\\\n",
       "\t Flicker  \\\\\n",
       "\t Non-nest \\\\\n",
       "\t Non-nest \\\\\n",
       "\t Non-nest \\\\\n",
       "\t Non-nest \\\\\n",
       "\t Non-nest \\\\\n",
       "\t Non-nest \\\\\n",
       "\t Non-nest \\\\\n",
       "\t Non-nest \\\\\n",
       "\t Non-nest \\\\\n",
       "\t Non-nest \\\\\n",
       "\t Non-nest \\\\\n",
       "\t Non-nest \\\\\n",
       "\t Flicker  \\\\\n",
       "\t Sapsucker\\\\\n",
       "\t Sapsucker\\\\\n",
       "\t Sapsucker\\\\\n",
       "\t Flicker  \\\\\n",
       "\t Chickadee\\\\\n",
       "\t Sapsucker\\\\\n",
       "\t Non-nest \\\\\n",
       "\t Sapsucker\\\\\n",
       "\\end{tabular}\n"
      ],
      "text/markdown": [
       "\n",
       "| snra.cp014.xval |\n",
       "|---|\n",
       "| Sapsucker |\n",
       "| Non-nest  |\n",
       "| Non-nest  |\n",
       "| Non-nest  |\n",
       "| Non-nest  |\n",
       "| Non-nest  |\n",
       "| Non-nest  |\n",
       "| Non-nest  |\n",
       "| Non-nest  |\n",
       "| Non-nest  |\n",
       "| Flicker   |\n",
       "| Non-nest  |\n",
       "| Non-nest  |\n",
       "| Flicker   |\n",
       "| Non-nest  |\n",
       "| Sapsucker |\n",
       "| Sapsucker |\n",
       "| Sapsucker |\n",
       "| Sapsucker |\n",
       "| Non-nest  |\n",
       "| Sapsucker |\n",
       "| Sapsucker |\n",
       "| Non-nest  |\n",
       "| Non-nest  |\n",
       "| Non-nest  |\n",
       "| Non-nest  |\n",
       "| Non-nest  |\n",
       "| Non-nest  |\n",
       "| Sapsucker |\n",
       "| Non-nest  |\n",
       "| ... |\n",
       "| Sapsucker |\n",
       "| Non-nest  |\n",
       "| Non-nest  |\n",
       "| Sapsucker |\n",
       "| Non-nest  |\n",
       "| Sapsucker |\n",
       "| Sapsucker |\n",
       "| Sapsucker |\n",
       "| Flicker   |\n",
       "| Non-nest  |\n",
       "| Non-nest  |\n",
       "| Non-nest  |\n",
       "| Non-nest  |\n",
       "| Non-nest  |\n",
       "| Non-nest  |\n",
       "| Non-nest  |\n",
       "| Non-nest  |\n",
       "| Non-nest  |\n",
       "| Non-nest  |\n",
       "| Non-nest  |\n",
       "| Non-nest  |\n",
       "| Flicker   |\n",
       "| Sapsucker |\n",
       "| Sapsucker |\n",
       "| Sapsucker |\n",
       "| Flicker   |\n",
       "| Chickadee |\n",
       "| Sapsucker |\n",
       "| Non-nest  |\n",
       "| Sapsucker |\n",
       "\n"
      ],
      "text/plain": [
       "    snra.cp014.xval\n",
       "1   Sapsucker      \n",
       "2   Non-nest       \n",
       "3   Non-nest       \n",
       "4   Non-nest       \n",
       "5   Non-nest       \n",
       "6   Non-nest       \n",
       "7   Non-nest       \n",
       "8   Non-nest       \n",
       "9   Non-nest       \n",
       "10  Non-nest       \n",
       "11  Flicker        \n",
       "12  Non-nest       \n",
       "13  Non-nest       \n",
       "14  Flicker        \n",
       "15  Non-nest       \n",
       "16  Sapsucker      \n",
       "17  Sapsucker      \n",
       "18  Sapsucker      \n",
       "19  Sapsucker      \n",
       "20  Non-nest       \n",
       "21  Sapsucker      \n",
       "22  Sapsucker      \n",
       "23  Non-nest       \n",
       "24  Non-nest       \n",
       "25  Non-nest       \n",
       "26  Non-nest       \n",
       "27  Non-nest       \n",
       "28  Non-nest       \n",
       "29  Sapsucker      \n",
       "30  Non-nest       \n",
       "... ...            \n",
       "184 Sapsucker      \n",
       "185 Non-nest       \n",
       "186 Non-nest       \n",
       "187 Sapsucker      \n",
       "188 Non-nest       \n",
       "189 Sapsucker      \n",
       "190 Sapsucker      \n",
       "191 Sapsucker      \n",
       "192 Flicker        \n",
       "193 Non-nest       \n",
       "194 Non-nest       \n",
       "195 Non-nest       \n",
       "196 Non-nest       \n",
       "197 Non-nest       \n",
       "198 Non-nest       \n",
       "199 Non-nest       \n",
       "200 Non-nest       \n",
       "201 Non-nest       \n",
       "202 Non-nest       \n",
       "203 Non-nest       \n",
       "204 Non-nest       \n",
       "205 Flicker        \n",
       "206 Sapsucker      \n",
       "207 Sapsucker      \n",
       "208 Sapsucker      \n",
       "209 Flicker        \n",
       "210 Chickadee      \n",
       "211 Sapsucker      \n",
       "212 Non-nest       \n",
       "213 Sapsucker      "
      ]
     },
     "metadata": {},
     "output_type": "display_data"
    }
   ],
   "source": [
    "# snra.cp014.xval=rep(0,nrow(dataset))\n",
    "# predict(glub,test,type=\"class\")\n",
    "as.data.frame(snra.cp014.xval)\n",
    "snra.cp014.xval[snra.cp014.xval == 4] = \"Sapsucker\"\n",
    "snra.cp014.xval[snra.cp014.xval == 3] = \"Non-nest\"\n",
    "snra.cp014.xval[snra.cp014.xval == 2] = \"Flicker\"\n",
    "snra.cp014.xval[snra.cp014.xval == 1] = \"Chickadee\""
   ]
  },
  {
   "cell_type": "markdown",
   "metadata": {},
   "source": [
    "# Question 3\n",
    "## A)"
   ]
  },
  {
   "cell_type": "code",
   "execution_count": 28,
   "metadata": {},
   "outputs": [],
   "source": [
    "glass <- read.csv(\"../../Data/Glass.csv\")"
   ]
  },
  {
   "cell_type": "code",
   "execution_count": null,
   "metadata": {},
   "outputs": [],
   "source": [
    "head(glass)"
   ]
  },
  {
   "cell_type": "code",
   "execution_count": 44,
   "metadata": {},
   "outputs": [
    {
     "data": {
      "image/png": "[encoded data removed]",
      "text/plain": [
       "plot without title"
      ]
     },
     "metadata": {},
     "output_type": "display_data"
    }
   ],
   "source": [
    "set.seed(5948)\n",
    "dataset = glass\n",
    "\n",
    "glassrpartfull=rpart(GlassType ~ ., \n",
    "                    data=dataset,\n",
    "                    method=\"class\",\n",
    "                    control=rpart.control(cp=0.0,minsplit=2))\n",
    "plotcp(glassrpartfull)\n",
    "\n",
    "# plot(glassrpartfull,margin=0.1)\n",
    "# text(glassrpartfull,use.n=TRUE)"
   ]
  },
  {
   "cell_type": "code",
   "execution_count": 31,
   "metadata": {},
   "outputs": [
    {
     "data": {
      "image/png": "[encoded data removed]",
      "text/plain": [
       "plot without title"
      ]
     },
     "metadata": {},
     "output_type": "display_data"
    }
   ],
   "source": [
    "glassrpartfull=rpart(GlassType ~ ., \n",
    "                    data=dataset,\n",
    "                    method=\"class\",\n",
    "                    control=rpart.control(cp=0.018,minsplit=2))\n",
    "\n",
    "plot(glassrpartfull,margin=0.1)\n",
    "text(glassrpartfull,use.n=TRUE)"
   ]
  },
  {
   "cell_type": "markdown",
   "metadata": {},
   "source": [
    "Write up the answer for this question. Check to see what the 1-se rule is."
   ]
  },
  {
   "cell_type": "markdown",
   "metadata": {},
   "source": [
    "## B"
   ]
  },
  {
   "cell_type": "code",
   "execution_count": 32,
   "metadata": {},
   "outputs": [
    {
     "data": {
      "text/html": [
       "<table>\n",
       "<thead><tr><th scope=col>Refindex</th><th scope=col>Sodium</th><th scope=col>Magnesium</th><th scope=col>Aluminum</th><th scope=col>Silicon</th><th scope=col>Potassium</th><th scope=col>Calcium</th><th scope=col>Barium</th><th scope=col>Iron</th><th scope=col>GlassType</th></tr></thead>\n",
       "<tbody>\n",
       "\t<tr><td>1.52101</td><td>13.64  </td><td>4.49   </td><td>1.10   </td><td>71.78  </td><td>0.06   </td><td>8.75   </td><td>0      </td><td>0.00   </td><td>1      </td></tr>\n",
       "\t<tr><td>1.51761</td><td>13.89  </td><td>3.60   </td><td>1.36   </td><td>72.73  </td><td>0.48   </td><td>7.83   </td><td>0      </td><td>0.00   </td><td>1      </td></tr>\n",
       "\t<tr><td>1.51618</td><td>13.53  </td><td>3.55   </td><td>1.54   </td><td>72.99  </td><td>0.39   </td><td>7.78   </td><td>0      </td><td>0.00   </td><td>1      </td></tr>\n",
       "\t<tr><td>1.51766</td><td>13.21  </td><td>3.69   </td><td>1.29   </td><td>72.61  </td><td>0.57   </td><td>8.22   </td><td>0      </td><td>0.00   </td><td>1      </td></tr>\n",
       "\t<tr><td>1.51742</td><td>13.27  </td><td>3.62   </td><td>1.24   </td><td>73.08  </td><td>0.55   </td><td>8.07   </td><td>0      </td><td>0.00   </td><td>1      </td></tr>\n",
       "\t<tr><td>1.51596</td><td>12.79  </td><td>3.61   </td><td>1.62   </td><td>72.97  </td><td>0.64   </td><td>8.07   </td><td>0      </td><td>0.26   </td><td>1      </td></tr>\n",
       "</tbody>\n",
       "</table>\n"
      ],
      "text/latex": [
       "\\begin{tabular}{r|llllllllll}\n",
       " Refindex & Sodium & Magnesium & Aluminum & Silicon & Potassium & Calcium & Barium & Iron & GlassType\\\\\n",
       "\\hline\n",
       "\t 1.52101 & 13.64   & 4.49    & 1.10    & 71.78   & 0.06    & 8.75    & 0       & 0.00    & 1      \\\\\n",
       "\t 1.51761 & 13.89   & 3.60    & 1.36    & 72.73   & 0.48    & 7.83    & 0       & 0.00    & 1      \\\\\n",
       "\t 1.51618 & 13.53   & 3.55    & 1.54    & 72.99   & 0.39    & 7.78    & 0       & 0.00    & 1      \\\\\n",
       "\t 1.51766 & 13.21   & 3.69    & 1.29    & 72.61   & 0.57    & 8.22    & 0       & 0.00    & 1      \\\\\n",
       "\t 1.51742 & 13.27   & 3.62    & 1.24    & 73.08   & 0.55    & 8.07    & 0       & 0.00    & 1      \\\\\n",
       "\t 1.51596 & 12.79   & 3.61    & 1.62    & 72.97   & 0.64    & 8.07    & 0       & 0.26    & 1      \\\\\n",
       "\\end{tabular}\n"
      ],
      "text/markdown": [
       "\n",
       "| Refindex | Sodium | Magnesium | Aluminum | Silicon | Potassium | Calcium | Barium | Iron | GlassType |\n",
       "|---|---|---|---|---|---|---|---|---|---|\n",
       "| 1.52101 | 13.64   | 4.49    | 1.10    | 71.78   | 0.06    | 8.75    | 0       | 0.00    | 1       |\n",
       "| 1.51761 | 13.89   | 3.60    | 1.36    | 72.73   | 0.48    | 7.83    | 0       | 0.00    | 1       |\n",
       "| 1.51618 | 13.53   | 3.55    | 1.54    | 72.99   | 0.39    | 7.78    | 0       | 0.00    | 1       |\n",
       "| 1.51766 | 13.21   | 3.69    | 1.29    | 72.61   | 0.57    | 8.22    | 0       | 0.00    | 1       |\n",
       "| 1.51742 | 13.27   | 3.62    | 1.24    | 73.08   | 0.55    | 8.07    | 0       | 0.00    | 1       |\n",
       "| 1.51596 | 12.79   | 3.61    | 1.62    | 72.97   | 0.64    | 8.07    | 0       | 0.26    | 1       |\n",
       "\n"
      ],
      "text/plain": [
       "  Refindex Sodium Magnesium Aluminum Silicon Potassium Calcium Barium Iron\n",
       "1 1.52101  13.64  4.49      1.10     71.78   0.06      8.75    0      0.00\n",
       "2 1.51761  13.89  3.60      1.36     72.73   0.48      7.83    0      0.00\n",
       "3 1.51618  13.53  3.55      1.54     72.99   0.39      7.78    0      0.00\n",
       "4 1.51766  13.21  3.69      1.29     72.61   0.57      8.22    0      0.00\n",
       "5 1.51742  13.27  3.62      1.24     73.08   0.55      8.07    0      0.00\n",
       "6 1.51596  12.79  3.61      1.62     72.97   0.64      8.07    0      0.26\n",
       "  GlassType\n",
       "1 1        \n",
       "2 1        \n",
       "3 1        \n",
       "4 1        \n",
       "5 1        \n",
       "6 1        "
      ]
     },
     "metadata": {},
     "output_type": "display_data"
    }
   ],
   "source": [
    "data = glass %>%\n",
    "    filter(GlassType %in% c(1, 2, 3, 4, 6))\n",
    "head(data)"
   ]
  },
  {
   "cell_type": "code",
   "execution_count": 33,
   "metadata": {},
   "outputs": [
    {
     "data": {
      "text/plain": [
       "Confusion Matrix and Statistics\n",
       "\n",
       "         actual\n",
       "predicted  1  2  3  4  5  6\n",
       "        1 51 16  8  0  2  1\n",
       "        2 16 53  6  3  4  2\n",
       "        3  2  2  3  0  0  0\n",
       "        4  0  2  0  8  0  0\n",
       "        5  0  2  0  1  3  0\n",
       "        6  1  1  0  1  0 26\n",
       "\n",
       "Overall Statistics\n",
       "                                          \n",
       "               Accuracy : 0.6729          \n",
       "                 95% CI : (0.6056, 0.7353)\n",
       "    No Information Rate : 0.3551          \n",
       "    P-Value [Acc > NIR] : < 2.2e-16       \n",
       "                                          \n",
       "                  Kappa : 0.5434          \n",
       "                                          \n",
       " Mcnemar's Test P-Value : NA              \n",
       "\n",
       "Statistics by Class:\n",
       "\n",
       "                     Class: 1 Class: 2 Class: 3 Class: 4 Class: 5 Class: 6\n",
       "Sensitivity            0.7286   0.6974  0.17647  0.61538  0.33333   0.8966\n",
       "Specificity            0.8125   0.7754  0.97970  0.99005  0.98537   0.9838\n",
       "Pos Pred Value         0.6538   0.6310  0.42857  0.80000  0.50000   0.8966\n",
       "Neg Pred Value         0.8603   0.8231  0.93237  0.97549  0.97115   0.9838\n",
       "Prevalence             0.3271   0.3551  0.07944  0.06075  0.04206   0.1355\n",
       "Detection Rate         0.2383   0.2477  0.01402  0.03738  0.01402   0.1215\n",
       "Detection Prevalence   0.3645   0.3925  0.03271  0.04673  0.02804   0.1355\n",
       "Balanced Accuracy      0.7705   0.7364  0.57808  0.80272  0.65935   0.9402"
      ]
     },
     "metadata": {},
     "output_type": "display_data"
    }
   ],
   "source": [
    "# dataset = glass %>%\n",
    "#     filter(GlassType %in% c(1, 2, )) # Left out 3, 4, 5, 6\n",
    "# dataset[dataset$Glasstype == 5] = 4\n",
    "\n",
    "set.seed(5688)\n",
    "\n",
    "snra.cp014.xval=rep(0,nrow(dataset))\n",
    "xvs=rep(1:10,length=nrow(dataset))\n",
    "xvs=sample(xvs)\n",
    "for(i in 1:10){\n",
    "    test=dataset[xvs==i,]\n",
    "    train=dataset[xvs!=i,]\n",
    "    glub=rpart(as.factor(GlassType) ~ .,control=rpart.control(cp=0.018, minsplit=2),data=train)\n",
    "    snra.cp014.xval[xvs==i]=predict(glub,test,type=\"class\")\n",
    "}\n",
    "\n",
    "snra.cp014confuse.xval=table(predicted = snra.cp014.xval, actual = dataset$GlassType)\n",
    "confusionMatrix(snra.cp014confuse.xval)"
   ]
  },
  {
   "cell_type": "code",
   "execution_count": null,
   "metadata": {},
   "outputs": [],
   "source": [
    "dataset %>% \n",
    "  group_by(GlassType) %>%\n",
    "  summarise(no_rows = length(GlassType))"
   ]
  },
  {
   "cell_type": "code",
   "execution_count": null,
   "metadata": {},
   "outputs": [],
   "source": [
    "library(dplyr)\n",
    "glass %>% \n",
    "  group_by(GlassType) %>%\n",
    "  summarise(no_rows = length(GlassType))"
   ]
  },
  {
   "cell_type": "code",
   "execution_count": 36,
   "metadata": {},
   "outputs": [
    {
     "data": {
      "text/html": [
       "<ol class=list-inline>\n",
       "\t<li>'Refindex'</li>\n",
       "\t<li>'Sodium'</li>\n",
       "\t<li>'Magnesium'</li>\n",
       "\t<li>'Aluminum'</li>\n",
       "\t<li>'Silicon'</li>\n",
       "\t<li>'Potassium'</li>\n",
       "\t<li>'Calcium'</li>\n",
       "\t<li>'Barium'</li>\n",
       "\t<li>'Iron'</li>\n",
       "\t<li>'GlassType'</li>\n",
       "</ol>\n"
      ],
      "text/latex": [
       "\\begin{enumerate*}\n",
       "\\item 'Refindex'\n",
       "\\item 'Sodium'\n",
       "\\item 'Magnesium'\n",
       "\\item 'Aluminum'\n",
       "\\item 'Silicon'\n",
       "\\item 'Potassium'\n",
       "\\item 'Calcium'\n",
       "\\item 'Barium'\n",
       "\\item 'Iron'\n",
       "\\item 'GlassType'\n",
       "\\end{enumerate*}\n"
      ],
      "text/markdown": [
       "1. 'Refindex'\n",
       "2. 'Sodium'\n",
       "3. 'Magnesium'\n",
       "4. 'Aluminum'\n",
       "5. 'Silicon'\n",
       "6. 'Potassium'\n",
       "7. 'Calcium'\n",
       "8. 'Barium'\n",
       "9. 'Iron'\n",
       "10. 'GlassType'\n",
       "\n",
       "\n"
      ],
      "text/plain": [
       " [1] \"Refindex\"  \"Sodium\"    \"Magnesium\" \"Aluminum\"  \"Silicon\"   \"Potassium\"\n",
       " [7] \"Calcium\"   \"Barium\"    \"Iron\"      \"GlassType\""
      ]
     },
     "metadata": {},
     "output_type": "display_data"
    }
   ],
   "source": [
    "glass=read.csv(\"../../Data/Glass.csv\")\n",
    "\n",
    "names(glass)"
   ]
  },
  {
   "cell_type": "code",
   "execution_count": 37,
   "metadata": {},
   "outputs": [
    {
     "data": {
      "text/html": [
       "<ol class=list-inline>\n",
       "\t<li>214</li>\n",
       "\t<li>10</li>\n",
       "</ol>\n"
      ],
      "text/latex": [
       "\\begin{enumerate*}\n",
       "\\item 214\n",
       "\\item 10\n",
       "\\end{enumerate*}\n"
      ],
      "text/markdown": [
       "1. 214\n",
       "2. 10\n",
       "\n",
       "\n"
      ],
      "text/plain": [
       "[1] 214  10"
      ]
     },
     "metadata": {},
     "output_type": "display_data"
    }
   ],
   "source": [
    "dim(glass)"
   ]
  },
  {
   "cell_type": "code",
   "execution_count": 38,
   "metadata": {},
   "outputs": [
    {
     "data": {
      "image/png": "[encoded data removed]",
      "text/plain": [
       "plot without title"
      ]
     },
     "metadata": {},
     "output_type": "display_data"
    },
    {
     "data": {
      "text/plain": [
       "   \n",
       "     1  2  3  4  5  6\n",
       "  1 59  7  3  0  0  1\n",
       "  2 11 57  4  1  2  1\n",
       "  3  5  5  7  0  0  0\n",
       "  4  0  1  0 11  0  1\n",
       "  5  1  2  1  0  5  0\n",
       "  6  1  0  1  0  1 26"
      ]
     },
     "metadata": {},
     "output_type": "display_data"
    },
    {
     "data": {
      "text/html": [
       "77.1028037383178"
      ],
      "text/latex": [
       "77.1028037383178"
      ],
      "text/markdown": [
       "77.1028037383178"
      ],
      "text/plain": [
       "[1] 77.1028"
      ]
     },
     "metadata": {},
     "output_type": "display_data"
    },
    {
     "data": {
      "image/png": "[encoded data removed]",
      "text/plain": [
       "plot without title"
      ]
     },
     "metadata": {},
     "output_type": "display_data"
    }
   ],
   "source": [
    "set.seed(5948)\n",
    "\n",
    "library(rpart)\n",
    "\n",
    "glass.fulltree=rpart(GlassType ~ . , data=glass, method=\"class\",control=rpart.control(cp=0.0,minsplit=2))\n",
    "plotcp(glass.fulltree)\n",
    "\n",
    "glass.cp027=rpart(GlassType ~ . , data=glass, method=\"class\",control=rpart.control(cp=0.027,minsplit=2))\n",
    "plot(glass.cp027,margin=0.1)\n",
    "text(glass.cp027)\n",
    "\n",
    "glass.cp027confuse=table(glass$GlassType,predict(glass.cp027,type=\"class\"))\n",
    "glass.cp027confuse\n",
    "100*sum(diag(glass.cp027confuse))/nrow(glass)"
   ]
  },
  {
   "cell_type": "code",
   "execution_count": 39,
   "metadata": {},
   "outputs": [
    {
     "data": {
      "text/plain": [
       "   \n",
       "     1  2  3  4  5  6\n",
       "  1 62  7  0  0  0  1\n",
       "  2 11 57  4  1  2  1\n",
       "  3  5  5  7  0  0  0\n",
       "  4  0  1  0 11  0  1\n",
       "  5  2  2  0  0  5  0\n",
       "  6  1  0  1  0  1 26"
      ]
     },
     "metadata": {},
     "output_type": "display_data"
    },
    {
     "data": {
      "text/html": [
       "78.5046728971963"
      ],
      "text/latex": [
       "78.5046728971963"
      ],
      "text/markdown": [
       "78.5046728971963"
      ],
      "text/plain": [
       "[1] 78.50467"
      ]
     },
     "metadata": {},
     "output_type": "display_data"
    },
    {
     "data": {
      "image/png": "[encoded data removed]",
      "text/plain": [
       "plot without title"
      ]
     },
     "metadata": {},
     "output_type": "display_data"
    }
   ],
   "source": [
    "glass.cp018=rpart(GlassType ~ . , data=glass, method=\"class\",control=rpart.control(cp=0.018,minsplit=2))\n",
    "plot(glass.cp018,margin=0.1)\n",
    "text(glass.cp018)\n",
    "\n",
    "glass.cp018confuse=table(glass$GlassType,predict(glass.cp018,type=\"class\"))\n",
    "glass.cp018confuse\n",
    "100*sum(diag(glass.cp018confuse))/nrow(glass)"
   ]
  },
  {
   "cell_type": "code",
   "execution_count": 40,
   "metadata": {},
   "outputs": [
    {
     "data": {
      "text/plain": [
       "   glass.cp027.xval\n",
       "     1  2  3  4  5  6\n",
       "  1 56 11  2  0  0  1\n",
       "  2 18 51  2  4  0  1\n",
       "  3 10  4  3  0  0  0\n",
       "  4  0  0  0 11  1  1\n",
       "  5  1  4  1  2  1  0\n",
       "  6  2  1  0  0  0 26"
      ]
     },
     "metadata": {},
     "output_type": "display_data"
    },
    {
     "data": {
      "text/html": [
       "69.1588785046729"
      ],
      "text/latex": [
       "69.1588785046729"
      ],
      "text/markdown": [
       "69.1588785046729"
      ],
      "text/plain": [
       "[1] 69.15888"
      ]
     },
     "metadata": {},
     "output_type": "display_data"
    }
   ],
   "source": [
    "glass.cp027.xval=rep(0,nrow(glass))\n",
    "xvs=rep(1:10,length=nrow(glass))\n",
    "xvs=sample(xvs)\n",
    "for(i in 1:10){\n",
    "    test=glass[xvs==i,]\n",
    "    train=glass[xvs!=i,]\n",
    "    glub=rpart(GlassType ~ . , method=\"class\",control=rpart.control(cp=0.027, minsplit=2),data=train)\n",
    "    glass.cp027.xval[xvs==i]=predict(glub,test,type=\"class\")\n",
    "}\n",
    "\n",
    "glass.cp027confuse.xval=table(glass$GlassType,glass.cp027.xval)\n",
    "glass.cp027confuse.xval\n",
    "100*sum(diag(glass.cp027confuse.xval))/nrow(glass)"
   ]
  },
  {
   "cell_type": "code",
   "execution_count": null,
   "metadata": {},
   "outputs": [],
   "source": []
  }
 ],
 "metadata": {
  "kernelspec": {
   "display_name": "R",
   "language": "R",
   "name": "ir"
  },
  "language_info": {
   "codemirror_mode": "r",
   "file_extension": ".r",
   "mimetype": "text/x-r-source",
   "name": "R",
   "pygments_lexer": "r",
   "version": "3.6.1"
  }
 },
 "nbformat": 4,
 "nbformat_minor": 4
}
