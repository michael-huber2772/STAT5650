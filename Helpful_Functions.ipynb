{
 "cells": [
  {
   "cell_type": "markdown",
   "metadata": {},
   "source": [
    "# Helpful Functions in R and how to use them"
   ]
  },
  {
   "cell_type": "markdown",
   "metadata": {},
   "source": [
    "The turtle data contains measurements (length, width, height) on male and female turtles of the same species."
   ]
  },
  {
   "cell_type": "code",
   "execution_count": 1,
   "metadata": {},
   "outputs": [],
   "source": [
    "# Loading the Turtle dataset\n",
    "turtles <- read.csv(\"Data/turtles.csv\")\n",
    "# This loads the data as a dataframe"
   ]
  },
  {
   "cell_type": "code",
   "execution_count": 2,
   "metadata": {},
   "outputs": [
    {
     "data": {
      "text/html": [
       "<ol class=list-inline>\n",
       "\t<li>'Length'</li>\n",
       "\t<li>'Width'</li>\n",
       "\t<li>'Height'</li>\n",
       "\t<li>'Gender'</li>\n",
       "</ol>\n"
      ],
      "text/latex": [
       "\\begin{enumerate*}\n",
       "\\item 'Length'\n",
       "\\item 'Width'\n",
       "\\item 'Height'\n",
       "\\item 'Gender'\n",
       "\\end{enumerate*}\n"
      ],
      "text/markdown": [
       "1. 'Length'\n",
       "2. 'Width'\n",
       "3. 'Height'\n",
       "4. 'Gender'\n",
       "\n",
       "\n"
      ],
      "text/plain": [
       "[1] \"Length\" \"Width\"  \"Height\" \"Gender\""
      ]
     },
     "metadata": {},
     "output_type": "display_data"
    }
   ],
   "source": [
    "# To see all the column names of the turtle dataframe\n",
    "colnames(turtles)"
   ]
  },
  {
   "cell_type": "markdown",
   "metadata": {},
   "source": [
    "The following code allows you to subset a dataframe and return all the rows of a data frame\n",
    "that are a specified value. It is the equivalent of writing\n",
    "```SQL\n",
    "SELECT *\n",
    "FROM turtles\n",
    "WHERE Gender = 'male';\n",
    "```"
   ]
  },
  {
   "cell_type": "code",
   "execution_count": 4,
   "metadata": {},
   "outputs": [
    {
     "data": {
      "text/html": [
       "<table>\n",
       "<thead><tr><th></th><th scope=col>Length</th><th scope=col>Width</th><th scope=col>Height</th><th scope=col>Gender</th></tr></thead>\n",
       "<tbody>\n",
       "\t<tr><th scope=row>25</th><td> 93 </td><td> 74 </td><td>37  </td><td>male</td></tr>\n",
       "\t<tr><th scope=row>26</th><td> 94 </td><td> 78 </td><td>35  </td><td>male</td></tr>\n",
       "\t<tr><th scope=row>27</th><td> 96 </td><td> 80 </td><td>35  </td><td>male</td></tr>\n",
       "\t<tr><th scope=row>28</th><td>101 </td><td> 84 </td><td>39  </td><td>male</td></tr>\n",
       "\t<tr><th scope=row>29</th><td>102 </td><td> 85 </td><td>38  </td><td>male</td></tr>\n",
       "\t<tr><th scope=row>30</th><td>103 </td><td> 81 </td><td>37  </td><td>male</td></tr>\n",
       "\t<tr><th scope=row>31</th><td>104 </td><td> 83 </td><td>39  </td><td>male</td></tr>\n",
       "\t<tr><th scope=row>32</th><td>106 </td><td> 83 </td><td>39  </td><td>male</td></tr>\n",
       "\t<tr><th scope=row>33</th><td>107 </td><td> 82 </td><td>38  </td><td>male</td></tr>\n",
       "\t<tr><th scope=row>34</th><td>112 </td><td> 89 </td><td>40  </td><td>male</td></tr>\n",
       "\t<tr><th scope=row>35</th><td>113 </td><td> 88 </td><td>40  </td><td>male</td></tr>\n",
       "\t<tr><th scope=row>36</th><td>114 </td><td> 86 </td><td>40  </td><td>male</td></tr>\n",
       "\t<tr><th scope=row>37</th><td>116 </td><td> 90 </td><td>43  </td><td>male</td></tr>\n",
       "\t<tr><th scope=row>38</th><td>117 </td><td> 90 </td><td>41  </td><td>male</td></tr>\n",
       "\t<tr><th scope=row>39</th><td>117 </td><td> 91 </td><td>41  </td><td>male</td></tr>\n",
       "\t<tr><th scope=row>40</th><td>119 </td><td> 93 </td><td>41  </td><td>male</td></tr>\n",
       "\t<tr><th scope=row>41</th><td>120 </td><td> 89 </td><td>40  </td><td>male</td></tr>\n",
       "\t<tr><th scope=row>42</th><td>120 </td><td> 93 </td><td>44  </td><td>male</td></tr>\n",
       "\t<tr><th scope=row>43</th><td>121 </td><td> 95 </td><td>42  </td><td>male</td></tr>\n",
       "\t<tr><th scope=row>44</th><td>125 </td><td> 93 </td><td>45  </td><td>male</td></tr>\n",
       "\t<tr><th scope=row>45</th><td>127 </td><td> 96 </td><td>45  </td><td>male</td></tr>\n",
       "\t<tr><th scope=row>46</th><td>128 </td><td> 95 </td><td>45  </td><td>male</td></tr>\n",
       "\t<tr><th scope=row>47</th><td>131 </td><td> 95 </td><td>46  </td><td>male</td></tr>\n",
       "\t<tr><th scope=row>48</th><td>135 </td><td>106 </td><td>47  </td><td>male</td></tr>\n",
       "</tbody>\n",
       "</table>\n"
      ],
      "text/latex": [
       "\\begin{tabular}{r|llll}\n",
       "  & Length & Width & Height & Gender\\\\\n",
       "\\hline\n",
       "\t25 &  93  &  74  & 37   & male\\\\\n",
       "\t26 &  94  &  78  & 35   & male\\\\\n",
       "\t27 &  96  &  80  & 35   & male\\\\\n",
       "\t28 & 101  &  84  & 39   & male\\\\\n",
       "\t29 & 102  &  85  & 38   & male\\\\\n",
       "\t30 & 103  &  81  & 37   & male\\\\\n",
       "\t31 & 104  &  83  & 39   & male\\\\\n",
       "\t32 & 106  &  83  & 39   & male\\\\\n",
       "\t33 & 107  &  82  & 38   & male\\\\\n",
       "\t34 & 112  &  89  & 40   & male\\\\\n",
       "\t35 & 113  &  88  & 40   & male\\\\\n",
       "\t36 & 114  &  86  & 40   & male\\\\\n",
       "\t37 & 116  &  90  & 43   & male\\\\\n",
       "\t38 & 117  &  90  & 41   & male\\\\\n",
       "\t39 & 117  &  91  & 41   & male\\\\\n",
       "\t40 & 119  &  93  & 41   & male\\\\\n",
       "\t41 & 120  &  89  & 40   & male\\\\\n",
       "\t42 & 120  &  93  & 44   & male\\\\\n",
       "\t43 & 121  &  95  & 42   & male\\\\\n",
       "\t44 & 125  &  93  & 45   & male\\\\\n",
       "\t45 & 127  &  96  & 45   & male\\\\\n",
       "\t46 & 128  &  95  & 45   & male\\\\\n",
       "\t47 & 131  &  95  & 46   & male\\\\\n",
       "\t48 & 135  & 106  & 47   & male\\\\\n",
       "\\end{tabular}\n"
      ],
      "text/markdown": [
       "\n",
       "| <!--/--> | Length | Width | Height | Gender |\n",
       "|---|---|---|---|---|\n",
       "| 25 |  93  |  74  | 37   | male |\n",
       "| 26 |  94  |  78  | 35   | male |\n",
       "| 27 |  96  |  80  | 35   | male |\n",
       "| 28 | 101  |  84  | 39   | male |\n",
       "| 29 | 102  |  85  | 38   | male |\n",
       "| 30 | 103  |  81  | 37   | male |\n",
       "| 31 | 104  |  83  | 39   | male |\n",
       "| 32 | 106  |  83  | 39   | male |\n",
       "| 33 | 107  |  82  | 38   | male |\n",
       "| 34 | 112  |  89  | 40   | male |\n",
       "| 35 | 113  |  88  | 40   | male |\n",
       "| 36 | 114  |  86  | 40   | male |\n",
       "| 37 | 116  |  90  | 43   | male |\n",
       "| 38 | 117  |  90  | 41   | male |\n",
       "| 39 | 117  |  91  | 41   | male |\n",
       "| 40 | 119  |  93  | 41   | male |\n",
       "| 41 | 120  |  89  | 40   | male |\n",
       "| 42 | 120  |  93  | 44   | male |\n",
       "| 43 | 121  |  95  | 42   | male |\n",
       "| 44 | 125  |  93  | 45   | male |\n",
       "| 45 | 127  |  96  | 45   | male |\n",
       "| 46 | 128  |  95  | 45   | male |\n",
       "| 47 | 131  |  95  | 46   | male |\n",
       "| 48 | 135  | 106  | 47   | male |\n",
       "\n"
      ],
      "text/plain": [
       "   Length Width Height Gender\n",
       "25  93     74   37     male  \n",
       "26  94     78   35     male  \n",
       "27  96     80   35     male  \n",
       "28 101     84   39     male  \n",
       "29 102     85   38     male  \n",
       "30 103     81   37     male  \n",
       "31 104     83   39     male  \n",
       "32 106     83   39     male  \n",
       "33 107     82   38     male  \n",
       "34 112     89   40     male  \n",
       "35 113     88   40     male  \n",
       "36 114     86   40     male  \n",
       "37 116     90   43     male  \n",
       "38 117     90   41     male  \n",
       "39 117     91   41     male  \n",
       "40 119     93   41     male  \n",
       "41 120     89   40     male  \n",
       "42 120     93   44     male  \n",
       "43 121     95   42     male  \n",
       "44 125     93   45     male  \n",
       "45 127     96   45     male  \n",
       "46 128     95   45     male  \n",
       "47 131     95   46     male  \n",
       "48 135    106   47     male  "
      ]
     },
     "metadata": {},
     "output_type": "display_data"
    }
   ],
   "source": [
    "turtles[turtles$Gender == 'male',]"
   ]
  },
  {
   "cell_type": "markdown",
   "metadata": {},
   "source": [
    "Then if you wanted to perform the same query as above but limit it to the first three columns\n",
    "you could enter the following.\n",
    "```SQL\n",
    "SELECT Length,\n",
    "       Width,\n",
    "       Height\n",
    "FROM turtles\n",
    "WHERE Gender = 'male';\n",
    "```"
   ]
  },
  {
   "cell_type": "code",
   "execution_count": 5,
   "metadata": {},
   "outputs": [
    {
     "data": {
      "text/html": [
       "<table>\n",
       "<thead><tr><th></th><th scope=col>Length</th><th scope=col>Width</th><th scope=col>Height</th></tr></thead>\n",
       "<tbody>\n",
       "\t<tr><th scope=row>25</th><td> 93</td><td> 74</td><td>37 </td></tr>\n",
       "\t<tr><th scope=row>26</th><td> 94</td><td> 78</td><td>35 </td></tr>\n",
       "\t<tr><th scope=row>27</th><td> 96</td><td> 80</td><td>35 </td></tr>\n",
       "\t<tr><th scope=row>28</th><td>101</td><td> 84</td><td>39 </td></tr>\n",
       "\t<tr><th scope=row>29</th><td>102</td><td> 85</td><td>38 </td></tr>\n",
       "\t<tr><th scope=row>30</th><td>103</td><td> 81</td><td>37 </td></tr>\n",
       "\t<tr><th scope=row>31</th><td>104</td><td> 83</td><td>39 </td></tr>\n",
       "\t<tr><th scope=row>32</th><td>106</td><td> 83</td><td>39 </td></tr>\n",
       "\t<tr><th scope=row>33</th><td>107</td><td> 82</td><td>38 </td></tr>\n",
       "\t<tr><th scope=row>34</th><td>112</td><td> 89</td><td>40 </td></tr>\n",
       "\t<tr><th scope=row>35</th><td>113</td><td> 88</td><td>40 </td></tr>\n",
       "\t<tr><th scope=row>36</th><td>114</td><td> 86</td><td>40 </td></tr>\n",
       "\t<tr><th scope=row>37</th><td>116</td><td> 90</td><td>43 </td></tr>\n",
       "\t<tr><th scope=row>38</th><td>117</td><td> 90</td><td>41 </td></tr>\n",
       "\t<tr><th scope=row>39</th><td>117</td><td> 91</td><td>41 </td></tr>\n",
       "\t<tr><th scope=row>40</th><td>119</td><td> 93</td><td>41 </td></tr>\n",
       "\t<tr><th scope=row>41</th><td>120</td><td> 89</td><td>40 </td></tr>\n",
       "\t<tr><th scope=row>42</th><td>120</td><td> 93</td><td>44 </td></tr>\n",
       "\t<tr><th scope=row>43</th><td>121</td><td> 95</td><td>42 </td></tr>\n",
       "\t<tr><th scope=row>44</th><td>125</td><td> 93</td><td>45 </td></tr>\n",
       "\t<tr><th scope=row>45</th><td>127</td><td> 96</td><td>45 </td></tr>\n",
       "\t<tr><th scope=row>46</th><td>128</td><td> 95</td><td>45 </td></tr>\n",
       "\t<tr><th scope=row>47</th><td>131</td><td> 95</td><td>46 </td></tr>\n",
       "\t<tr><th scope=row>48</th><td>135</td><td>106</td><td>47 </td></tr>\n",
       "</tbody>\n",
       "</table>\n"
      ],
      "text/latex": [
       "\\begin{tabular}{r|lll}\n",
       "  & Length & Width & Height\\\\\n",
       "\\hline\n",
       "\t25 &  93 &  74 & 37 \\\\\n",
       "\t26 &  94 &  78 & 35 \\\\\n",
       "\t27 &  96 &  80 & 35 \\\\\n",
       "\t28 & 101 &  84 & 39 \\\\\n",
       "\t29 & 102 &  85 & 38 \\\\\n",
       "\t30 & 103 &  81 & 37 \\\\\n",
       "\t31 & 104 &  83 & 39 \\\\\n",
       "\t32 & 106 &  83 & 39 \\\\\n",
       "\t33 & 107 &  82 & 38 \\\\\n",
       "\t34 & 112 &  89 & 40 \\\\\n",
       "\t35 & 113 &  88 & 40 \\\\\n",
       "\t36 & 114 &  86 & 40 \\\\\n",
       "\t37 & 116 &  90 & 43 \\\\\n",
       "\t38 & 117 &  90 & 41 \\\\\n",
       "\t39 & 117 &  91 & 41 \\\\\n",
       "\t40 & 119 &  93 & 41 \\\\\n",
       "\t41 & 120 &  89 & 40 \\\\\n",
       "\t42 & 120 &  93 & 44 \\\\\n",
       "\t43 & 121 &  95 & 42 \\\\\n",
       "\t44 & 125 &  93 & 45 \\\\\n",
       "\t45 & 127 &  96 & 45 \\\\\n",
       "\t46 & 128 &  95 & 45 \\\\\n",
       "\t47 & 131 &  95 & 46 \\\\\n",
       "\t48 & 135 & 106 & 47 \\\\\n",
       "\\end{tabular}\n"
      ],
      "text/markdown": [
       "\n",
       "| <!--/--> | Length | Width | Height |\n",
       "|---|---|---|---|\n",
       "| 25 |  93 |  74 | 37  |\n",
       "| 26 |  94 |  78 | 35  |\n",
       "| 27 |  96 |  80 | 35  |\n",
       "| 28 | 101 |  84 | 39  |\n",
       "| 29 | 102 |  85 | 38  |\n",
       "| 30 | 103 |  81 | 37  |\n",
       "| 31 | 104 |  83 | 39  |\n",
       "| 32 | 106 |  83 | 39  |\n",
       "| 33 | 107 |  82 | 38  |\n",
       "| 34 | 112 |  89 | 40  |\n",
       "| 35 | 113 |  88 | 40  |\n",
       "| 36 | 114 |  86 | 40  |\n",
       "| 37 | 116 |  90 | 43  |\n",
       "| 38 | 117 |  90 | 41  |\n",
       "| 39 | 117 |  91 | 41  |\n",
       "| 40 | 119 |  93 | 41  |\n",
       "| 41 | 120 |  89 | 40  |\n",
       "| 42 | 120 |  93 | 44  |\n",
       "| 43 | 121 |  95 | 42  |\n",
       "| 44 | 125 |  93 | 45  |\n",
       "| 45 | 127 |  96 | 45  |\n",
       "| 46 | 128 |  95 | 45  |\n",
       "| 47 | 131 |  95 | 46  |\n",
       "| 48 | 135 | 106 | 47  |\n",
       "\n"
      ],
      "text/plain": [
       "   Length Width Height\n",
       "25  93     74   37    \n",
       "26  94     78   35    \n",
       "27  96     80   35    \n",
       "28 101     84   39    \n",
       "29 102     85   38    \n",
       "30 103     81   37    \n",
       "31 104     83   39    \n",
       "32 106     83   39    \n",
       "33 107     82   38    \n",
       "34 112     89   40    \n",
       "35 113     88   40    \n",
       "36 114     86   40    \n",
       "37 116     90   43    \n",
       "38 117     90   41    \n",
       "39 117     91   41    \n",
       "40 119     93   41    \n",
       "41 120     89   40    \n",
       "42 120     93   44    \n",
       "43 121     95   42    \n",
       "44 125     93   45    \n",
       "45 127     96   45    \n",
       "46 128     95   45    \n",
       "47 131     95   46    \n",
       "48 135    106   47    "
      ]
     },
     "metadata": {},
     "output_type": "display_data"
    }
   ],
   "source": [
    "turtles[turtles$Gender == 'male', 1:3]"
   ]
  },
  {
   "cell_type": "code",
   "execution_count": null,
   "metadata": {},
   "outputs": [],
   "source": []
  }
 ],
 "metadata": {
  "kernelspec": {
   "display_name": "R",
   "language": "R",
   "name": "ir"
  },
  "language_info": {
   "codemirror_mode": "r",
   "file_extension": ".r",
   "mimetype": "text/x-r-source",
   "name": "R",
   "pygments_lexer": "r",
   "version": "3.6.1"
  }
 },
 "nbformat": 4,
 "nbformat_minor": 4
}
